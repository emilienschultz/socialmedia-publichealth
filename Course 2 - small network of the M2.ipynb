{
 "cells": [
  {
   "cell_type": "markdown",
   "id": "47b82d97-0738-4230-9a6f-c20741c97418",
   "metadata": {},
   "source": [
    "## Collect data from website\n",
    "\n",
    "https://sesstim.univ-amu.fr/en/node/16950 \n"
   ]
  },
  {
   "cell_type": "markdown",
   "id": "222e5112-033b-4d27-933c-f72cb27f9f49",
   "metadata": {},
   "source": [
    "Let's do it by hand (you can try to automatize it for fun)"
   ]
  },
  {
   "cell_type": "markdown",
   "id": "cfc38fd2-d137-407d-ad97-b469975deb79",
   "metadata": {},
   "source": [
    "- PHS-PRIM : .C. Dufour, R. Giorgi, P. Le Coz, R. Lutaud, J. Mancini, C. Siani\n",
    "- INF-PROF : N. Ngo, R. Ureña\n",
    "- INF-GRAM : R. Ureña\n",
    "- CHA-AIPH : P. Avillach, J.C. Dufour, R. Giorgi, F. Reinhart\n",
    "- MET-MALE : R. Giorgi, Q. Marcou, N. Ngo.\n",
    "- DAT-ORES : C. Beroud\n",
    "- PHS-PHRM : E. Le Barbenchon, P. Auquier, R. Lutaud\n",
    "- PHS-SNET : Emilien Schultz, R. Ureña\n",
    "- MET-NLPF : Jean-Charles DUFOUR, Julien GROSJEAN, Antoine NEURAZ, Aurélie NEVEOL, Bastien RANCE, Pierre ZWEIGENBAUM"
   ]
  },
  {
   "cell_type": "markdown",
   "id": "dc91b0e0-c799-4989-8792-7d976de47117",
   "metadata": {},
   "source": [
    "In a useful format (JSON)"
   ]
  },
  {
   "cell_type": "code",
   "execution_count": 51,
   "id": "e82e9825-c382-4414-90a4-4ef62bc8a190",
   "metadata": {
    "tags": []
   },
   "outputs": [],
   "source": [
    "data = {\n",
    "    'PHS-PRIM' : [\"Dufour\",\"Giorgi\",\"Le Coz\",\"Lutaud\",\"Mancini\",\"Siani\"],\n",
    "    'INF-PROF' : [\"Ngo\", \"Ureña\"],\n",
    "    'INF-GRAM' : [\"Ureña\"],\n",
    "    'CHA-AIPH' : [\"Avillach\", \"Dufour\", \"Giorgi\", \"Reinhart\"],\n",
    "    'MET-MALE' : [\"Giorgi\",\"Marcou\",\"Ngo\"],\n",
    "    'DAT-ORES' : [\"Beroud\"],\n",
    "    'PHS-PHRM' : [\"Le Barbenchon\", \"Auquier\",\"Lutaud\"],\n",
    "    'PHS-SNET' : [\"Schultz\",\"Ureña\"],\n",
    "    'MET-NLPF' : [\"Dufour\",\"Grosjean\",\"Neuraz\",\"Neveol\",\"Rance\",\"Zweigenbaum\"]\n",
    "}\n",
    "\n",
    "# save it\n",
    "import json\n",
    "json.dump(data,open(\"data.json\",\"w\"))"
   ]
  },
  {
   "cell_type": "markdown",
   "id": "6154c619-edd1-41d9-89ab-e292e96ebc0d",
   "metadata": {},
   "source": [
    "## Build networks\n",
    "\n",
    "We are going to use Networkx library : https://networkx.org/"
   ]
  },
  {
   "cell_type": "markdown",
   "id": "408b2506-77a4-4af5-9c74-3cf1725472ef",
   "metadata": {},
   "source": [
    "Differents networks are possible :\n",
    "\n",
    "- individuals - individuals\n",
    "- individuals - course"
   ]
  },
  {
   "cell_type": "markdown",
   "id": "771028cf-75cb-4ca0-a00b-e47706a320d8",
   "metadata": {},
   "source": [
    "First an empty network"
   ]
  },
  {
   "cell_type": "code",
   "execution_count": 68,
   "id": "18f121b4-dff7-4662-a527-ad232d3a9e93",
   "metadata": {
    "tags": []
   },
   "outputs": [],
   "source": [
    "import networkx as nx\n",
    "import pandas as pd"
   ]
  },
  {
   "cell_type": "code",
   "execution_count": 58,
   "id": "259b37a1-6d21-43bf-80cf-352ee8e31f52",
   "metadata": {
    "tags": []
   },
   "outputs": [],
   "source": [
    "network = nx.Graph()"
   ]
  },
  {
   "cell_type": "markdown",
   "id": "8a78217f-9cba-44f5-ac90-86fa43264015",
   "metadata": {},
   "source": [
    "Add a node :"
   ]
  },
  {
   "cell_type": "code",
   "execution_count": 59,
   "id": "58cd719d-1862-4135-9ef2-7c610a398e8d",
   "metadata": {
    "tags": []
   },
   "outputs": [],
   "source": [
    "network.add_node(\"PHS-PRIM\",cat=\"course\",weight=1)"
   ]
  },
  {
   "cell_type": "code",
   "execution_count": 8,
   "id": "de56715d-4f80-4504-872a-c230207c5cb6",
   "metadata": {
    "tags": []
   },
   "outputs": [
    {
     "name": "stdout",
     "output_type": "stream",
     "text": [
      "Graph with 1 nodes and 0 edges\n"
     ]
    }
   ],
   "source": [
    "print(network)"
   ]
  },
  {
   "cell_type": "code",
   "execution_count": 60,
   "id": "4d4ee7b5-3c38-4296-b1bc-95b61018f963",
   "metadata": {
    "tags": []
   },
   "outputs": [],
   "source": [
    "network.add_edge(\"PHS-PRIM\",\"Dufour\")"
   ]
  },
  {
   "cell_type": "code",
   "execution_count": 61,
   "id": "3b77794d-001a-4ca4-b359-8d46ac8adc1b",
   "metadata": {
    "tags": []
   },
   "outputs": [
    {
     "name": "stdout",
     "output_type": "stream",
     "text": [
      "Graph with 2 nodes and 1 edges\n"
     ]
    }
   ],
   "source": [
    "print(network)"
   ]
  },
  {
   "cell_type": "markdown",
   "id": "c8e8b738-8dc0-4395-a1fb-1f1c1702c3b4",
   "metadata": {},
   "source": [
    "Get an element"
   ]
  },
  {
   "cell_type": "code",
   "execution_count": 62,
   "id": "488f89ee-cfeb-49b4-bfc1-2c4433fd32ef",
   "metadata": {
    "tags": []
   },
   "outputs": [
    {
     "data": {
      "text/plain": [
       "NodeView(('PHS-PRIM', 'Dufour'))"
      ]
     },
     "execution_count": 62,
     "metadata": {},
     "output_type": "execute_result"
    }
   ],
   "source": [
    "network.nodes"
   ]
  },
  {
   "cell_type": "markdown",
   "id": "f5381bff-c99b-4f83-8b41-62352571ccfb",
   "metadata": {},
   "source": [
    "Save the network"
   ]
  },
  {
   "cell_type": "code",
   "execution_count": 19,
   "id": "7a3be006-000b-437d-866e-13fb97ca82b3",
   "metadata": {
    "tags": []
   },
   "outputs": [],
   "source": [
    "nx.write_graphml(network,\"networkM2.graphml\")"
   ]
  },
  {
   "cell_type": "markdown",
   "id": "f05515c4-5128-4194-bfcf-4ef073f76ad3",
   "metadata": {},
   "source": [
    "## Visualise network"
   ]
  },
  {
   "cell_type": "markdown",
   "id": "5031057f-bc4d-4789-a76e-a2afb8319f40",
   "metadata": {},
   "source": [
    "With networkx : https://networkx.org/documentation/stable/reference/drawing.html"
   ]
  },
  {
   "cell_type": "code",
   "execution_count": 63,
   "id": "35580ae7-c792-427c-95e2-e4dfcc477b7e",
   "metadata": {
    "tags": []
   },
   "outputs": [
    {
     "data": {
      "image/png": "[encoded data removed]",
      "text/plain": [
       "<Figure size 640x480 with 1 Axes>"
      ]
     },
     "metadata": {},
     "output_type": "display_data"
    }
   ],
   "source": [
    "nx.draw(network, with_labels=True, font_weight='bold', node_size=700, node_color='skyblue', \n",
    "        font_color='black', font_size=10, edge_color='gray', linewidths=1, alpha=0.7)"
   ]
  },
  {
   "cell_type": "markdown",
   "id": "6d1385b2-9f13-47a6-b265-f9e739ea4489",
   "metadata": {},
   "source": [
    "Possibility of a dynamic visualization with ipysigma : https://github.com/medialab/ipysigma"
   ]
  },
  {
   "cell_type": "code",
   "execution_count": 64,
   "id": "8ea0d09e-429e-450d-8c49-f350043b386e",
   "metadata": {
    "tags": []
   },
   "outputs": [],
   "source": [
    "from ipysigma import Sigma"
   ]
  },
  {
   "cell_type": "code",
   "execution_count": 65,
   "id": "17389847-731c-4ce4-970c-0b90c8333d51",
   "metadata": {
    "tags": []
   },
   "outputs": [
    {
     "data": {
      "application/vnd.jupyter.widget-view+json": {
       "model_id": "1b8ef986511c4b78934342850d934702",
       "version_major": 2,
       "version_minor": 0
      },
      "text/plain": [
       "Sigma(nx.Graph with 2 nodes and 1 edges)"
      ]
     },
     "execution_count": 65,
     "metadata": {},
     "output_type": "execute_result"
    }
   ],
   "source": [
    "Sigma(network)"
   ]
  },
  {
   "cell_type": "markdown",
   "id": "f15a3d24-4c6f-44b2-958c-cefba8791543",
   "metadata": {},
   "source": [
    "## Exercice 1 : Build the complete network\n",
    "\n",
    "- from the data, build the complete network individual / course\n",
    "    - weight of individuals is the number of course they give\n",
    "- make a visualisation"
   ]
  },
  {
   "cell_type": "code",
   "execution_count": 66,
   "id": "14b896ae-d448-4968-9a52-a9756e35d567",
   "metadata": {
    "tags": []
   },
   "outputs": [
    {
     "name": "stdout",
     "output_type": "stream",
     "text": [
      "Graph with 29 nodes and 28 edges\n"
     ]
    }
   ],
   "source": [
    "network = nx.Graph()\n",
    "for m in data:\n",
    "    network.add_node(m,label=m, cat=\"course\", weight=1)\n",
    "    for p in data[m]:\n",
    "        if network.has_node(p):\n",
    "            network.nodes[p][\"weight\"]+=1\n",
    "        else:\n",
    "            network.add_node(p,label=p, cat=\"individual\",weight=1)\n",
    "        network.add_edge(p,m)\n",
    "print(network)"
   ]
  },
  {
   "cell_type": "code",
   "execution_count": 67,
   "id": "01d2bf8a-9543-4c42-a9b8-520f28ba3a02",
   "metadata": {
    "tags": []
   },
   "outputs": [
    {
     "data": {
      "application/vnd.jupyter.widget-view+json": {
       "model_id": "03cbcd94cfc14b39a07fbfe795d9d656",
       "version_major": 2,
       "version_minor": 0
      },
      "text/plain": [
       "Sigma(nx.Graph with 29 nodes and 28 edges)"
      ]
     },
     "execution_count": 67,
     "metadata": {},
     "output_type": "execute_result"
    }
   ],
   "source": [
    "Sigma(network,node_size=\"weight\")"
   ]
  },
  {
   "cell_type": "code",
   "execution_count": 70,
   "id": "141c525c-175a-46c9-9f49-8f9a6d6d59f8",
   "metadata": {
    "tags": []
   },
   "outputs": [
    {
     "data": {
      "text/plain": [
       "PHS-PRIM         6\n",
       "MET-NLPF         6\n",
       "CHA-AIPH         4\n",
       "Ureña            3\n",
       "PHS-PHRM         3\n",
       "Dufour           3\n",
       "MET-MALE         3\n",
       "Giorgi           3\n",
       "INF-PROF         2\n",
       "Lutaud           2\n",
       "PHS-SNET         2\n",
       "Ngo              2\n",
       "Le Barbenchon    1\n",
       "Rance            1\n",
       "Neveol           1\n",
       "Neuraz           1\n",
       "Grosjean         1\n",
       "Schultz          1\n",
       "Auquier          1\n",
       "Le Coz           1\n",
       "Beroud           1\n",
       "DAT-ORES         1\n",
       "Marcou           1\n",
       "Reinhart         1\n",
       "Avillach         1\n",
       "Mancini          1\n",
       "INF-GRAM         1\n",
       "Siani            1\n",
       "Zweigenbaum      1\n",
       "dtype: int64"
      ]
     },
     "execution_count": 70,
     "metadata": {},
     "output_type": "execute_result"
    }
   ],
   "source": [
    "pd.Series(dict(network.degree)).sort_values(ascending=False)"
   ]
  },
  {
   "cell_type": "markdown",
   "id": "e939df8d-0225-4d89-a731-68d95f464c75",
   "metadata": {},
   "source": [
    "Build the network unimodal with only individuals. Use itertools for iterating on tuple from a list"
   ]
  },
  {
   "cell_type": "code",
   "execution_count": 71,
   "id": "06715ed2-58b3-4918-b54f-dc1a2d90ecbe",
   "metadata": {
    "tags": []
   },
   "outputs": [],
   "source": [
    "import itertools\n",
    "\n",
    "# crée un réseau\n",
    "reseau_p = nx.Graph()\n",
    "\n",
    "# boucle sur les données\n",
    "for cours in data:\n",
    "    \n",
    "    # ajouter les personnes en incrémentant leur poids\n",
    "    for personne in data[cours]:\n",
    "        if not reseau_p.has_node(personne):\n",
    "            reseau_p.add_node(personne,label=personne,weight=1)\n",
    "        else:\n",
    "            reseau_p.nodes[personne][\"weight\"]+=1\n",
    "            \n",
    "    # boucle sur les pairs de personnes\n",
    "    for i,j in itertools.combinations(data[cours],2):\n",
    "        if not reseau_p.has_edge(i,j):\n",
    "            reseau_p.add_edge(i,j,weight=1)\n",
    "        else:\n",
    "            reseau_p.edges[i,j][\"weight\"]+=1"
   ]
  },
  {
   "cell_type": "markdown",
   "id": "9f5d9e7e-c077-44eb-a1a3-f319dd69ae72",
   "metadata": {},
   "source": [
    "## Exercice 2 : Calculate different metrics\n",
    "\n",
    "- degree distribution\n",
    "- density\n",
    "- centrality (s) : have a look to the documentation ; what is the node with the higher centrality ?\n",
    "- calculate the number of components of the graph\n",
    "- select only the principal component"
   ]
  },
  {
   "cell_type": "code",
   "execution_count": 72,
   "id": "9f0d4a3e-c065-478e-8f9b-9f9024eaea4c",
   "metadata": {
    "tags": []
   },
   "outputs": [
    {
     "data": {
      "text/plain": [
       "0.22631578947368422"
      ]
     },
     "execution_count": 72,
     "metadata": {},
     "output_type": "execute_result"
    }
   ],
   "source": [
    "nx.density(reseau_p)"
   ]
  },
  {
   "cell_type": "code",
   "execution_count": 73,
   "id": "99623af0-5b5e-456f-a9fb-4a4c863ae768",
   "metadata": {
    "tags": []
   },
   "outputs": [
    {
     "data": {
      "text/plain": [
       "DegreeView({'Dufour': 12, 'Giorgi': 9, 'Le Coz': 5, 'Lutaud': 7, 'Mancini': 5, 'Siani': 5, 'Ngo': 3, 'Ureña': 2, 'Avillach': 3, 'Reinhart': 3, 'Marcou': 2, 'Beroud': 0, 'Le Barbenchon': 2, 'Auquier': 2, 'Schultz': 1, 'Grosjean': 5, 'Neuraz': 5, 'Neveol': 5, 'Rance': 5, 'Zweigenbaum': 5})"
      ]
     },
     "execution_count": 73,
     "metadata": {},
     "output_type": "execute_result"
    }
   ],
   "source": [
    "reseau_p.degree"
   ]
  },
  {
   "cell_type": "code",
   "execution_count": 74,
   "id": "2502d2fb-c817-415b-980f-9b794914d61f",
   "metadata": {
    "tags": []
   },
   "outputs": [
    {
     "data": {
      "text/plain": [
       "2"
      ]
     },
     "execution_count": 74,
     "metadata": {},
     "output_type": "execute_result"
    }
   ],
   "source": [
    "nx.components.number_connected_components(reseau_p)"
   ]
  },
  {
   "cell_type": "code",
   "execution_count": 75,
   "id": "31a45f0f-daff-439c-9c1a-6187126ea1e7",
   "metadata": {
    "tags": []
   },
   "outputs": [
    {
     "data": {
      "text/plain": [
       "19"
      ]
     },
     "execution_count": 75,
     "metadata": {},
     "output_type": "execute_result"
    }
   ],
   "source": [
    "largest_component = max(nx.connected_components(reseau_p), key=len)\n",
    "len(largest_component)"
   ]
  },
  {
   "cell_type": "code",
   "execution_count": 82,
   "id": "207aabee-c99a-4f42-97d9-7daf744d77e3",
   "metadata": {
    "tags": []
   },
   "outputs": [
    {
     "data": {
      "text/plain": [
       "Dufour    12\n",
       "Giorgi     9\n",
       "Lutaud     7\n",
       "Rance      5\n",
       "Neveol     5\n",
       "dtype: int64"
      ]
     },
     "execution_count": 82,
     "metadata": {},
     "output_type": "execute_result"
    }
   ],
   "source": [
    "pd.Series(dict(reseau_p.degree)).sort_values(ascending=False)[0:5]"
   ]
  },
  {
   "cell_type": "markdown",
   "id": "7e856bec-db1d-49eb-aeea-486aa25d1231",
   "metadata": {},
   "source": [
    "Other centrality metrics"
   ]
  },
  {
   "cell_type": "code",
   "execution_count": 84,
   "id": "49c57ca8-43fe-4b8e-85a9-5bce4707b381",
   "metadata": {
    "tags": []
   },
   "outputs": [
    {
     "data": {
      "text/plain": [
       "Dufour    0.415205\n",
       "Giorgi    0.362573\n",
       "Lutaud    0.187135\n",
       "Ngo       0.187135\n",
       "Ureña     0.099415\n",
       "dtype: float64"
      ]
     },
     "execution_count": 84,
     "metadata": {},
     "output_type": "execute_result"
    }
   ],
   "source": [
    "pd.Series(dict(nx.betweenness_centrality(reseau_p))).sort_values(ascending=False)[0:5]"
   ]
  },
  {
   "cell_type": "markdown",
   "id": "7acd10ca-9fbe-458a-bef8-faeb52642b2a",
   "metadata": {},
   "source": [
    "## Clusterisation"
   ]
  },
  {
   "cell_type": "code",
   "execution_count": 76,
   "id": "e77e6a5a-905d-4165-9e59-729904c6f325",
   "metadata": {
    "tags": []
   },
   "outputs": [],
   "source": [
    "distrib = nx.community.louvain_communities(reseau_p, seed=123)"
   ]
  },
  {
   "cell_type": "code",
   "execution_count": 77,
   "id": "34aee753-487a-4bd0-b2b3-cdf07919a9b4",
   "metadata": {
    "tags": []
   },
   "outputs": [],
   "source": [
    "\n",
    "distrib = nx.community.louvain_communities(reseau_p, seed=123)\n",
    "clus = {}\n",
    "for i,j in enumerate(distrib):\n",
    "    for k in j:\n",
    "        clus[k] = i\n",
    "nx.set_node_attributes(reseau_p,clus,name=\"cluster\")"
   ]
  },
  {
   "cell_type": "code",
   "execution_count": 78,
   "id": "58259ae6-fe87-427f-bd11-5be0a4b30cc1",
   "metadata": {
    "tags": []
   },
   "outputs": [
    {
     "data": {
      "application/vnd.jupyter.widget-view+json": {
       "model_id": "2d99dcbcef5343f8831bdb50ede24246",
       "version_major": 2,
       "version_minor": 0
      },
      "text/plain": [
       "Sigma(nx.Graph with 20 nodes and 43 edges)"
      ]
     },
     "execution_count": 78,
     "metadata": {},
     "output_type": "execute_result"
    }
   ],
   "source": [
    "Sigma(reseau_p,node_size=\"weight\",node_color = \"cluster\")"
   ]
  }
 ],
 "metadata": {
  "kernelspec": {
   "display_name": "Python 3 (ipykernel)",
   "language": "python",
   "name": "python3"
  },
  "language_info": {
   "codemirror_mode": {
    "name": "ipython",
    "version": 3
   },
   "file_extension": ".py",
   "mimetype": "text/x-python",
   "name": "python",
   "nbconvert_exporter": "python",
   "pygments_lexer": "ipython3",
   "version": "3.10.12"
  }
 },
 "nbformat": 4,
 "nbformat_minor": 5
}
