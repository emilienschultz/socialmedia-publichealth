{
 "cells": [
  {
   "cell_type": "markdown",
   "id": "f3ccec29-b31e-4a68-b910-67d0df4350c8",
   "metadata": {},
   "source": [
    "# Build a retweet network\n",
    "\n",
    "- Hydroxychloroquine data : all tweets with \"chloroquine\" in it\n",
    "- in French\n"
   ]
  },
  {
   "cell_type": "markdown",
   "id": "3a46a1cb-a2e2-4124-a73f-f8e4d49ef9e0",
   "metadata": {},
   "source": [
    "## Load the data"
   ]
  },
  {
   "cell_type": "code",
   "execution_count": 1,
   "id": "bc0c46c1-cac6-46e5-ba6f-c65a0dc30ad1",
   "metadata": {
    "tags": []
   },
   "outputs": [],
   "source": [
    "import pandas as pd"
   ]
  },
  {
   "cell_type": "code",
   "execution_count": 2,
   "id": "03ca9277-097c-4909-adf2-c0f5e3a9d3fc",
   "metadata": {
    "tags": []
   },
   "outputs": [],
   "source": [
    "df = pd.read_parquet(\"../../Données/df_hcq_fr_total_rt_date_2020_2023.parquet\")"
   ]
  },
  {
   "cell_type": "code",
   "execution_count": 8,
   "id": "d579bf1a-fe53-4eb4-8f72-f3ddd2b17956",
   "metadata": {
    "tags": []
   },
   "outputs": [
    {
     "data": {
      "text/html": [
       "<div>\n",
       "<style scoped>\n",
       "    .dataframe tbody tr th:only-of-type {\n",
       "        vertical-align: middle;\n",
       "    }\n",
       "\n",
       "    .dataframe tbody tr th {\n",
       "        vertical-align: top;\n",
       "    }\n",
       "\n",
       "    .dataframe thead th {\n",
       "        text-align: right;\n",
       "    }\n",
       "</style>\n",
       "<table border=\"1\" class=\"dataframe\">\n",
       "  <thead>\n",
       "    <tr style=\"text-align: right;\">\n",
       "      <th></th>\n",
       "      <th>id</th>\n",
       "      <th>created_at</th>\n",
       "      <th>from_user_name</th>\n",
       "      <th>text</th>\n",
       "      <th>lang</th>\n",
       "      <th>to_user_name</th>\n",
       "      <th>to_user_id</th>\n",
       "      <th>in_reply_to_status_id</th>\n",
       "      <th>from_user_id</th>\n",
       "      <th>from_user_realname</th>\n",
       "      <th>...</th>\n",
       "      <th>retweeted_id</th>\n",
       "      <th>retweeted_user_name</th>\n",
       "      <th>retweeted_user_id</th>\n",
       "      <th>quoted_id</th>\n",
       "      <th>quoted_user_name</th>\n",
       "      <th>quoted_user_id</th>\n",
       "      <th>links</th>\n",
       "      <th>mentioned_user_names</th>\n",
       "      <th>hashtags</th>\n",
       "      <th>nb_retweets</th>\n",
       "    </tr>\n",
       "  </thead>\n",
       "  <tbody>\n",
       "    <tr>\n",
       "      <th>28</th>\n",
       "      <td>1356029770019045378</td>\n",
       "      <td>2021-02-01 00:01:05</td>\n",
       "      <td>citoyennedu47</td>\n",
       "      <td>RT @Ecolophobe: Un nouveau médoc qui fait auss...</td>\n",
       "      <td>fr</td>\n",
       "      <td>None</td>\n",
       "      <td>None</td>\n",
       "      <td>None</td>\n",
       "      <td>826846693639540741</td>\n",
       "      <td>citoyenne 47/matricule 10578😤</td>\n",
       "      <td>...</td>\n",
       "      <td>1355987622854799364</td>\n",
       "      <td>Ecolophobe</td>\n",
       "      <td>2423405008</td>\n",
       "      <td>None</td>\n",
       "      <td>None</td>\n",
       "      <td>None</td>\n",
       "      <td>https://twitter.com/silvano_trotta/status/1355...</td>\n",
       "      <td>ecolophobe</td>\n",
       "      <td>None</td>\n",
       "      <td>NaN</td>\n",
       "    </tr>\n",
       "    <tr>\n",
       "      <th>32</th>\n",
       "      <td>1356029835173388296</td>\n",
       "      <td>2021-02-01 00:01:21</td>\n",
       "      <td>47hopestreet</td>\n",
       "      <td>RT @La_Dame_du_LAC1: La chloroquine puissant i...</td>\n",
       "      <td>fr</td>\n",
       "      <td>None</td>\n",
       "      <td>None</td>\n",
       "      <td>None</td>\n",
       "      <td>959345332315357184</td>\n",
       "      <td>InZenity.</td>\n",
       "      <td>...</td>\n",
       "      <td>1355985778158030849</td>\n",
       "      <td>La_Dame_du_LAC1</td>\n",
       "      <td>781866817539244032</td>\n",
       "      <td>None</td>\n",
       "      <td>None</td>\n",
       "      <td>None</td>\n",
       "      <td>None</td>\n",
       "      <td>la_dame_du_lac1</td>\n",
       "      <td>None</td>\n",
       "      <td>NaN</td>\n",
       "    </tr>\n",
       "    <tr>\n",
       "      <th>33</th>\n",
       "      <td>1356029855004037121</td>\n",
       "      <td>2021-02-01 00:01:25</td>\n",
       "      <td>LouiseTrezor</td>\n",
       "      <td>RT @VirusWar: La première version de cet artic...</td>\n",
       "      <td>fr</td>\n",
       "      <td>None</td>\n",
       "      <td>None</td>\n",
       "      <td>None</td>\n",
       "      <td>1263838528879951872</td>\n",
       "      <td>louise Trezor</td>\n",
       "      <td>...</td>\n",
       "      <td>1355857291392786433</td>\n",
       "      <td>VirusWar</td>\n",
       "      <td>2366128891</td>\n",
       "      <td>None</td>\n",
       "      <td>None</td>\n",
       "      <td>None</td>\n",
       "      <td>None</td>\n",
       "      <td>viruswar</td>\n",
       "      <td>coronavirus|hydroxychloroquine</td>\n",
       "      <td>NaN</td>\n",
       "    </tr>\n",
       "    <tr>\n",
       "      <th>43</th>\n",
       "      <td>1356029985186787330</td>\n",
       "      <td>2021-02-01 00:01:56</td>\n",
       "      <td>NANARomain2</td>\n",
       "      <td>RT @NicolasPichot6: 🔴The American Journal of M...</td>\n",
       "      <td>fr</td>\n",
       "      <td>None</td>\n",
       "      <td>None</td>\n",
       "      <td>None</td>\n",
       "      <td>1301902793054261249</td>\n",
       "      <td>Le peuple cogite!</td>\n",
       "      <td>...</td>\n",
       "      <td>1355977630701518852</td>\n",
       "      <td>NicolasPichot6</td>\n",
       "      <td>1323747268013527041</td>\n",
       "      <td>None</td>\n",
       "      <td>None</td>\n",
       "      <td>None</td>\n",
       "      <td>https://rumble.com/vdffhx-peer-reviewed-journa...</td>\n",
       "      <td>adv_in21|complotisss|nicolaspichot6</td>\n",
       "      <td>None</td>\n",
       "      <td>NaN</td>\n",
       "    </tr>\n",
       "    <tr>\n",
       "      <th>64</th>\n",
       "      <td>1356030184240132096</td>\n",
       "      <td>2021-02-01 00:02:44</td>\n",
       "      <td>CERCLEDIMIER</td>\n",
       "      <td>RT @JuliaCerisi: Livraison d'hydroxychloroquin...</td>\n",
       "      <td>fr</td>\n",
       "      <td>None</td>\n",
       "      <td>None</td>\n",
       "      <td>None</td>\n",
       "      <td>698209631970045954</td>\n",
       "      <td>CERCLE LOUIS DIMIER</td>\n",
       "      <td>...</td>\n",
       "      <td>1356000819276034048</td>\n",
       "      <td>JuliaCerisi</td>\n",
       "      <td>391920857</td>\n",
       "      <td>1355969788808466433</td>\n",
       "      <td>MarguerinT</td>\n",
       "      <td>1311744414558171138</td>\n",
       "      <td>None</td>\n",
       "      <td>juliacerisi</td>\n",
       "      <td>None</td>\n",
       "      <td>NaN</td>\n",
       "    </tr>\n",
       "  </tbody>\n",
       "</table>\n",
       "<p>5 rows × 27 columns</p>\n",
       "</div>"
      ],
      "text/plain": [
       "                     id          created_at from_user_name  \\\n",
       "28  1356029770019045378 2021-02-01 00:01:05  citoyennedu47   \n",
       "32  1356029835173388296 2021-02-01 00:01:21   47hopestreet   \n",
       "33  1356029855004037121 2021-02-01 00:01:25   LouiseTrezor   \n",
       "43  1356029985186787330 2021-02-01 00:01:56    NANARomain2   \n",
       "64  1356030184240132096 2021-02-01 00:02:44   CERCLEDIMIER   \n",
       "\n",
       "                                                 text lang to_user_name  \\\n",
       "28  RT @Ecolophobe: Un nouveau médoc qui fait auss...   fr         None   \n",
       "32  RT @La_Dame_du_LAC1: La chloroquine puissant i...   fr         None   \n",
       "33  RT @VirusWar: La première version de cet artic...   fr         None   \n",
       "43  RT @NicolasPichot6: 🔴The American Journal of M...   fr         None   \n",
       "64  RT @JuliaCerisi: Livraison d'hydroxychloroquin...   fr         None   \n",
       "\n",
       "   to_user_id in_reply_to_status_id         from_user_id  \\\n",
       "28       None                  None   826846693639540741   \n",
       "32       None                  None   959345332315357184   \n",
       "33       None                  None  1263838528879951872   \n",
       "43       None                  None  1301902793054261249   \n",
       "64       None                  None   698209631970045954   \n",
       "\n",
       "               from_user_realname  ...         retweeted_id  \\\n",
       "28  citoyenne 47/matricule 10578😤  ...  1355987622854799364   \n",
       "32                      InZenity.  ...  1355985778158030849   \n",
       "33                  louise Trezor  ...  1355857291392786433   \n",
       "43              Le peuple cogite!  ...  1355977630701518852   \n",
       "64            CERCLE LOUIS DIMIER  ...  1356000819276034048   \n",
       "\n",
       "    retweeted_user_name    retweeted_user_id            quoted_id  \\\n",
       "28           Ecolophobe           2423405008                 None   \n",
       "32      La_Dame_du_LAC1   781866817539244032                 None   \n",
       "33             VirusWar           2366128891                 None   \n",
       "43       NicolasPichot6  1323747268013527041                 None   \n",
       "64          JuliaCerisi            391920857  1355969788808466433   \n",
       "\n",
       "   quoted_user_name       quoted_user_id  \\\n",
       "28             None                 None   \n",
       "32             None                 None   \n",
       "33             None                 None   \n",
       "43             None                 None   \n",
       "64       MarguerinT  1311744414558171138   \n",
       "\n",
       "                                                links  \\\n",
       "28  https://twitter.com/silvano_trotta/status/1355...   \n",
       "32                                               None   \n",
       "33                                               None   \n",
       "43  https://rumble.com/vdffhx-peer-reviewed-journa...   \n",
       "64                                               None   \n",
       "\n",
       "                   mentioned_user_names                        hashtags  \\\n",
       "28                           ecolophobe                            None   \n",
       "32                      la_dame_du_lac1                            None   \n",
       "33                             viruswar  coronavirus|hydroxychloroquine   \n",
       "43  adv_in21|complotisss|nicolaspichot6                            None   \n",
       "64                          juliacerisi                            None   \n",
       "\n",
       "   nb_retweets  \n",
       "28         NaN  \n",
       "32         NaN  \n",
       "33         NaN  \n",
       "43         NaN  \n",
       "64         NaN  \n",
       "\n",
       "[5 rows x 27 columns]"
      ]
     },
     "execution_count": 8,
     "metadata": {},
     "output_type": "execute_result"
    }
   ],
   "source": [
    "df.head()"
   ]
  },
  {
   "cell_type": "markdown",
   "id": "7aa0ad3e-4c34-4229-83e1-1e49b4d420c3",
   "metadata": {},
   "source": [
    "Have a look to the columns"
   ]
  },
  {
   "cell_type": "code",
   "execution_count": 7,
   "id": "b842ffaf-5b41-4cec-b631-d06ff5c8969b",
   "metadata": {
    "tags": []
   },
   "outputs": [
    {
     "data": {
      "text/plain": [
       "Index(['id', 'created_at', 'from_user_name', 'text', 'lang', 'to_user_name',\n",
       "       'to_user_id', 'in_reply_to_status_id', 'from_user_id',\n",
       "       'from_user_realname', 'from_user_description', 'from_user_tweetcount',\n",
       "       'from_user_followercount', 'from_user_friendcount',\n",
       "       'from_user_created_at', 'collected_via_thread_only',\n",
       "       'collected_at_timestamp', 'retweeted_id', 'retweeted_user_name',\n",
       "       'retweeted_user_id', 'quoted_id', 'quoted_user_name', 'quoted_user_id',\n",
       "       'links', 'mentioned_user_names', 'hashtags', 'nb_retweets'],\n",
       "      dtype='object')"
      ]
     },
     "execution_count": 7,
     "metadata": {},
     "output_type": "execute_result"
    }
   ],
   "source": [
    "df.columns"
   ]
  },
  {
   "cell_type": "markdown",
   "id": "49aa4852-577a-4c03-93d7-d6f5bf5cccfe",
   "metadata": {},
   "source": [
    "each tweet or retweet is defined by an id, a user who created it (a bio), a date, it can bet either an original tweet, a retweet (there is a retweet_id), a quote or an answer. Each element is defined by a text (which can contains hashtags and urls)"
   ]
  },
  {
   "cell_type": "markdown",
   "id": "926595db-4de5-4a02-a8fa-4a5490e6f1f2",
   "metadata": {},
   "source": [
    "### Explore the dataset"
   ]
  },
  {
   "cell_type": "code",
   "execution_count": 21,
   "id": "d7fc7508-2402-4a26-b63d-11c37a9138d8",
   "metadata": {
    "tags": []
   },
   "outputs": [
    {
     "data": {
      "text/plain": [
       "<Axes: >"
      ]
     },
     "execution_count": 21,
     "metadata": {},
     "output_type": "execute_result"
    },
    {
     "data": {
      "image/png": "[encoded data removed]",
      "text/plain": [
       "<Figure size 640x480 with 1 Axes>"
      ]
     },
     "metadata": {},
     "output_type": "display_data"
    }
   ],
   "source": [
    "df[\"nb_retweets\"].dropna().hist(bins=100)"
   ]
  },
  {
   "cell_type": "markdown",
   "id": "aaa0bdef-4154-42e8-b9ae-95aeb9713023",
   "metadata": {},
   "source": [
    "### Evolution on the period"
   ]
  },
  {
   "cell_type": "markdown",
   "id": "b4649db3-41dc-44e7-96a6-d84e8e9da964",
   "metadata": {},
   "source": [
    "Original tweets and retweets"
   ]
  },
  {
   "cell_type": "code",
   "execution_count": 27,
   "id": "1394ff9a-b57e-4889-a02e-e40ad267fc25",
   "metadata": {
    "tags": []
   },
   "outputs": [
    {
     "data": {
      "text/plain": [
       "<Axes: xlabel='created_at'>"
      ]
     },
     "execution_count": 27,
     "metadata": {},
     "output_type": "execute_result"
    },
    {
     "data": {
      "image/png": "[encoded data removed]",
      "text/plain": [
       "<Figure size 1000x300 with 1 Axes>"
      ]
     },
     "metadata": {},
     "output_type": "display_data"
    }
   ],
   "source": [
    "ax = df.set_index(\"created_at\")[\"id\"].resample(\"d\").count().plot(figsize=(10,3))\n",
    "\n",
    "df[df[\"retweeted_id\"].isnull()].set_index(\"created_at\")[\"id\"]\\\n",
    "            .resample(\"d\").count().plot(figsize=(10,3),\n",
    "                                                                                                 ax=ax)"
   ]
  },
  {
   "cell_type": "markdown",
   "id": "36f78366-5db1-411a-b4f0-6e565321031a",
   "metadata": {},
   "source": [
    "### To summarize\n",
    "\n",
    "- actions that be tweet or retweet\n",
    "- a retweet is a tweet which is shared by a user\n",
    "- it connects the user who created the tweet and the user who shared it\n",
    "\n",
    "we can make the hypothesis that retweets are a proxy of agreement regarding an information"
   ]
  },
  {
   "cell_type": "markdown",
   "id": "10aa4974-e3a9-403c-ba7d-798d997d807e",
   "metadata": {},
   "source": [
    "## Let's build a network of proximity betweets Twitter users using retweet as a measure of agreement/proximity"
   ]
  },
  {
   "cell_type": "markdown",
   "id": "c2ac0f35-08ee-4a1e-9907-e81ba14e47c5",
   "metadata": {},
   "source": [
    "We are going to build a network with networkx\n",
    "\n",
    "- each node is a twitter user who spoke about HCQ\n",
    "- each edge represent the retweet relation between two accounts\n",
    "- we add a feature \"weight\" for the nodes which reprsents how much they were active on twitter (tweet or retweet)\n",
    "- we add a feature \"weight\" for edges wich represents how much a user retweeted another one"
   ]
  },
  {
   "cell_type": "markdown",
   "id": "50cae83e-19b7-4ca0-98da-ca9bf1a8096b",
   "metadata": {},
   "source": [
    "Let's do that for one day"
   ]
  },
  {
   "cell_type": "code",
   "execution_count": 28,
   "id": "3f8117ec-af8a-47c8-bf76-bd8d807cf56d",
   "metadata": {
    "tags": []
   },
   "outputs": [],
   "source": [
    "day = \"2020-04-20\""
   ]
  },
  {
   "cell_type": "code",
   "execution_count": 34,
   "id": "4e2e27cd-d707-49ce-8172-79ab4736fb6b",
   "metadata": {
    "tags": []
   },
   "outputs": [],
   "source": [
    "f = (df[\"created_at\"] > \"2020-04-19\") & (df[\"created_at\"] < \"2020-04-21\")"
   ]
  },
  {
   "cell_type": "code",
   "execution_count": 37,
   "id": "57ccd24f-8e2b-4ab2-8fd4-adf8eb0718e4",
   "metadata": {
    "tags": []
   },
   "outputs": [],
   "source": [
    "df_sample = df[f]"
   ]
  },
  {
   "cell_type": "markdown",
   "id": "39db4737-93bd-4828-b268-ecf3c3e62614",
   "metadata": {},
   "source": [
    "### Build the network"
   ]
  },
  {
   "cell_type": "code",
   "execution_count": 62,
   "id": "ef126d73-f085-414f-b0aa-dac2d7216878",
   "metadata": {
    "tags": []
   },
   "outputs": [],
   "source": [
    "import networkx as nx\n",
    "\n",
    "network = nx.Graph()\n",
    "\n",
    "for i,j in df_sample.iterrows():\n",
    "    \n",
    "    # create nodes of the network\n",
    "    user_name = j[\"from_user_name\"]\n",
    "    if network.has_node(user_name):\n",
    "        network.nodes[user_name][\"weight\"]+=1\n",
    "    else:\n",
    "        network.add_node(user_name, \n",
    "                        label=user_name, \n",
    "                        weight=1)\n",
    "        \n",
    "    # create edges for each retweet\n",
    "    if pd.notnull(j[\"retweeted_user_name\"]): # si c'est un retweet\n",
    "        retweeted_user = j[\"retweeted_user_name\"]\n",
    "        \n",
    "        # add the retweeted user name\n",
    "        if not network.has_node(retweeted_user):\n",
    "            network.add_node(retweeted_user, \n",
    "                        label=retweeted_user, \n",
    "                        weight=0)            \n",
    "        \n",
    "        # increase the weight or create the edge\n",
    "        if network.has_edge(user_name, retweeted_user):\n",
    "            network.edges[user_name, retweeted_user][\"weight\"]+=1\n",
    "        else:\n",
    "            network.add_edge(user_name, retweeted_user, weight=1)"
   ]
  },
  {
   "cell_type": "code",
   "execution_count": 63,
   "id": "73f27b74-ca78-4cb7-b292-dbcf3a7369df",
   "metadata": {
    "tags": []
   },
   "outputs": [
    {
     "name": "stdout",
     "output_type": "stream",
     "text": [
      "Graph with 12264 nodes and 14427 edges\n"
     ]
    }
   ],
   "source": [
    "print(reseau)"
   ]
  }
 ],
 "metadata": {
  "kernelspec": {
   "display_name": "Python 3 (ipykernel)",
   "language": "python",
   "name": "python3"
  },
  "language_info": {
   "codemirror_mode": {
    "name": "ipython",
    "version": 3
   },
   "file_extension": ".py",
   "mimetype": "text/x-python",
   "name": "python",
   "nbconvert_exporter": "python",
   "pygments_lexer": "ipython3",
   "version": "3.10.12"
  }
 },
 "nbformat": 4,
 "nbformat_minor": 5
}
