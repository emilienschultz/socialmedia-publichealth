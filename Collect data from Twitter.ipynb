{
 "cells": [
  {
   "cell_type": "markdown",
   "id": "eb1cd89a",
   "metadata": {},
   "source": [
    "# Build a network from Twitter data\n",
    "\n",
    "We are going to use the `twarc` library to collect"
   ]
  },
  {
   "cell_type": "markdown",
   "id": "e22185ae",
   "metadata": {},
   "source": [
    "Documents :\n",
    "\n",
    "- https://twarc-project.readthedocs.io/en/latest/api/library/\n",
    "- https://github.com/eleurent/twitter-graph\n",
    "- https://twitter.com/FlefGraph/status/1429809288827088901\n",
    "\n",
    "The rate limit means you can make 15 calls in 15 minutes and then wait until the next 15 minute window (the exact reset time is in the http headers)."
   ]
  },
  {
   "cell_type": "markdown",
   "id": "2462bb26",
   "metadata": {},
   "source": [
    "## Collect followers of an account"
   ]
  },
  {
   "cell_type": "markdown",
   "id": "1b02fb89",
   "metadata": {},
   "source": [
    "Configure the connexion to the API"
   ]
  },
  {
   "cell_type": "code",
   "execution_count": 1,
   "id": "6d6a70e0",
   "metadata": {},
   "outputs": [
    {
     "ename": "ModuleNotFoundError",
     "evalue": "No module named 'twarc'",
     "output_type": "error",
     "traceback": [
      "\u001b[0;31m---------------------------------------------------------------------------\u001b[0m",
      "\u001b[0;31mModuleNotFoundError\u001b[0m                       Traceback (most recent call last)",
      "\u001b[0;32m/var/folders/0b/gc4xjfv921z5v__d9vs4ysp40000gn/T/ipykernel_3348/132783525.py\u001b[0m in \u001b[0;36m<module>\u001b[0;34m\u001b[0m\n\u001b[1;32m      1\u001b[0m \u001b[0;31m#pip install twarc\u001b[0m\u001b[0;34m\u001b[0m\u001b[0;34m\u001b[0m\u001b[0m\n\u001b[0;32m----> 2\u001b[0;31m \u001b[0;32mfrom\u001b[0m \u001b[0mtwarc\u001b[0m\u001b[0;34m.\u001b[0m\u001b[0mclient2\u001b[0m \u001b[0;32mimport\u001b[0m \u001b[0mTwarc2\u001b[0m\u001b[0;34m\u001b[0m\u001b[0;34m\u001b[0m\u001b[0m\n\u001b[0m",
      "\u001b[0;31mModuleNotFoundError\u001b[0m: No module named 'twarc'"
     ]
    }
   ],
   "source": [
    "#pip install twarc\n",
    "from twarc.client2 import Twarc2"
   ]
  },
  {
   "cell_type": "code",
   "execution_count": null,
   "id": "3f9baebe",
   "metadata": {},
   "outputs": [],
   "source": [
    "# Your bearer token here\n",
    "t = Twarc2(bearer_token=\"AAAAAAAAAAAAAAAAAAAAAA4xPgEAAAAALAZoiNj1QltMkyM4umBE80Ajiy0%3Dggsw5cnc6AIsYOz2PiCAVoGe0cffROR4ETj0iCoqjBRhT6pw92\")"
   ]
  },
  {
   "cell_type": "markdown",
   "id": "8b30bfb6",
   "metadata": {},
   "source": [
    "Test the capacity to get an account and get the id"
   ]
  },
  {
   "cell_type": "code",
   "execution_count": 3,
   "id": "8511a51b",
   "metadata": {},
   "outputs": [],
   "source": [
    "r = t.user_lookup([\"emilienschultz\"],usernames=True)"
   ]
  },
  {
   "cell_type": "code",
   "execution_count": 4,
   "id": "2fc54608",
   "metadata": {},
   "outputs": [],
   "source": [
    "r = [i for i in r]"
   ]
  },
  {
   "cell_type": "code",
   "execution_count": 8,
   "id": "fde3a5f9",
   "metadata": {},
   "outputs": [
    {
     "data": {
      "text/plain": [
       "{'protected': False,\n",
       " 'verified': False,\n",
       " 'created_at': '2013-01-25T10:22:15.000Z',\n",
       " 'name': 'Émilien Schultz',\n",
       " 'entities': {'url': {'urls': [{'start': 0,\n",
       "     'end': 23,\n",
       "     'url': 'https://t.co/rVS4cUdQZu',\n",
       "     'expanded_url': 'http://eschultz.fr',\n",
       "     'display_url': 'eschultz.fr'}]},\n",
       "  'description': {'hashtags': [{'start': 86, 'end': 92, 'tag': 'pyshs'},\n",
       "    {'start': 105, 'end': 121, 'tag': 'ouvrezdespostes'}]}},\n",
       " 'description': 'Social scientist/Cycliste@Marseille\\n(Sciences/Santé/Data)\\n+Manuel Python pour les SHS #pyshs\\n+postdoc 7A #ouvrezdespostes\\nemilienschultz@mamot.fr',\n",
       " 'profile_image_url': 'https://pbs.twimg.com/profile_images/1355577600937242626/91-1HwlP_normal.jpg',\n",
       " 'url': 'https://t.co/rVS4cUdQZu',\n",
       " 'username': 'EmilienSchultz',\n",
       " 'id': '1118950813',\n",
       " 'location': 'Marseille, France',\n",
       " 'public_metrics': {'followers_count': 1091,\n",
       "  'following_count': 881,\n",
       "  'tweet_count': 3683,\n",
       "  'listed_count': 33}}"
      ]
     },
     "execution_count": 8,
     "metadata": {},
     "output_type": "execute_result"
    }
   ],
   "source": [
    "r[0][\"data\"][0]"
   ]
  },
  {
   "cell_type": "markdown",
   "id": "b3bb7c1f",
   "metadata": {},
   "source": [
    "Get all the followers"
   ]
  },
  {
   "cell_type": "code",
   "execution_count": 9,
   "id": "2edeb7f6",
   "metadata": {},
   "outputs": [
    {
     "data": {
      "text/plain": [
       "1091"
      ]
     },
     "execution_count": 9,
     "metadata": {},
     "output_type": "execute_result"
    }
   ],
   "source": [
    "followers = t.followers(\"1118950813\")\n",
    "followers = [i for i in followers]\n",
    "followers = [j for i in followers for j in i[\"data\"]]\n",
    "len(followers)"
   ]
  },
  {
   "cell_type": "code",
   "execution_count": 13,
   "id": "ba410ae4",
   "metadata": {},
   "outputs": [
    {
     "data": {
      "text/plain": [
       "{'username': 'Caligul55671243',\n",
       " 'description': '',\n",
       " 'created_at': '2021-03-29T09:52:34.000Z',\n",
       " 'name': 'Caligula',\n",
       " 'verified': False,\n",
       " 'public_metrics': {'followers_count': 42,\n",
       "  'following_count': 738,\n",
       "  'tweet_count': 1094,\n",
       "  'listed_count': 0},\n",
       " 'protected': False,\n",
       " 'id': '1376472276498006019',\n",
       " 'profile_image_url': 'https://pbs.twimg.com/profile_images/1456916168917364744/ujZ5Z7cR_normal.jpg'}"
      ]
     },
     "execution_count": 13,
     "metadata": {},
     "output_type": "execute_result"
    }
   ],
   "source": [
    "followers[2]"
   ]
  },
  {
   "cell_type": "markdown",
   "id": "e7a1ef3d",
   "metadata": {},
   "source": [
    "## Collect the tweets of an account"
   ]
  },
  {
   "cell_type": "code",
   "execution_count": 19,
   "id": "9e65cfda",
   "metadata": {},
   "outputs": [],
   "source": [
    "m = t.search_all(\"from:emilienschultz\") #max_results=100"
   ]
  },
  {
   "cell_type": "markdown",
   "id": "ad3bb9c3",
   "metadata": {},
   "source": [
    "Collect the information"
   ]
  },
  {
   "cell_type": "code",
   "execution_count": 20,
   "id": "225b57f9",
   "metadata": {},
   "outputs": [],
   "source": [
    "m = [i for i in m]"
   ]
  },
  {
   "cell_type": "markdown",
   "id": "a878eb58",
   "metadata": {},
   "source": [
    "Save the information"
   ]
  },
  {
   "cell_type": "code",
   "execution_count": 24,
   "id": "454d8429",
   "metadata": {},
   "outputs": [],
   "source": [
    "import pickle"
   ]
  },
  {
   "cell_type": "code",
   "execution_count": 26,
   "id": "b9852d44",
   "metadata": {},
   "outputs": [],
   "source": [
    "pickle.dump(m,open(\"save_emilieschultz_tweets.pickle\",\"wb\"))"
   ]
  },
  {
   "cell_type": "markdown",
   "id": "e80f3dcf",
   "metadata": {},
   "source": [
    "Transform the information"
   ]
  },
  {
   "cell_type": "code",
   "execution_count": 27,
   "id": "db56aca6",
   "metadata": {},
   "outputs": [],
   "source": [
    "m = [j for i in m for j in i[\"data\"]]"
   ]
  },
  {
   "cell_type": "code",
   "execution_count": 34,
   "id": "316a000a",
   "metadata": {},
   "outputs": [
    {
     "data": {
      "text/plain": [
       "{'id': '1614377280096145411',\n",
       " 'edit_controls': {'edits_remaining': 5,\n",
       "  'is_edit_eligible': False,\n",
       "  'editable_until': '2023-01-14T22:11:51.000Z'},\n",
       " 'lang': 'fr',\n",
       " 'reply_settings': 'everyone',\n",
       " 'public_metrics': {'retweet_count': 5,\n",
       "  'reply_count': 0,\n",
       "  'like_count': 0,\n",
       "  'quote_count': 0,\n",
       "  'impression_count': 0},\n",
       " 'referenced_tweets': [{'type': 'retweeted', 'id': '1614302093463982084'}],\n",
       " 'possibly_sensitive': False,\n",
       " 'author_id': '1118950813',\n",
       " 'entities': {'mentions': [{'start': 3,\n",
       "    'end': 13,\n",
       "    'username': 'GiryJohan',\n",
       "    'id': '1071767052426379265'},\n",
       "   {'start': 55, 'end': 66, 'username': 'LecturesCR', 'id': '300884987'},\n",
       "   {'start': 97,\n",
       "    'end': 112,\n",
       "    'username': 'Labo_Printemps',\n",
       "    'id': '3696592875'}]},\n",
       " 'conversation_id': '1614377280096145411',\n",
       " 'edit_history_tweet_ids': ['1614377280096145411'],\n",
       " 'created_at': '2023-01-14T21:41:51.000Z',\n",
       " 'text': 'RT @GiryJohan: Une belle recension par Corinne Delmas (@LecturesCR) du livre de Morgan Jouvenet (@Labo_Printemps), Des glaces polaires au c…'}"
      ]
     },
     "execution_count": 34,
     "metadata": {},
     "output_type": "execute_result"
    }
   ],
   "source": [
    "m[10]"
   ]
  },
  {
   "cell_type": "markdown",
   "id": "9905fa84",
   "metadata": {},
   "source": [
    "Build a table"
   ]
  },
  {
   "cell_type": "code",
   "execution_count": 36,
   "id": "0fca9ae8",
   "metadata": {},
   "outputs": [],
   "source": [
    "import pandas as pd"
   ]
  },
  {
   "cell_type": "code",
   "execution_count": 43,
   "id": "bee52a33",
   "metadata": {},
   "outputs": [],
   "source": [
    "table = [[i[\"id\"],i['created_at'],i[\"public_metrics\"][\"retweet_count\"]\n",
    "  ,i[\"public_metrics\"][\"like_count\"],i[\"text\"],i['author_id']] for i in m]\n",
    "\n",
    "table = pd.DataFrame(table,columns = [\"id\",\"date\",\"retweet count\",\"like count\",\"text\",\"author id\"])"
   ]
  },
  {
   "cell_type": "code",
   "execution_count": 44,
   "id": "a3baf4fb",
   "metadata": {},
   "outputs": [
    {
     "data": {
      "text/html": [
       "<div>\n",
       "<style scoped>\n",
       "    .dataframe tbody tr th:only-of-type {\n",
       "        vertical-align: middle;\n",
       "    }\n",
       "\n",
       "    .dataframe tbody tr th {\n",
       "        vertical-align: top;\n",
       "    }\n",
       "\n",
       "    .dataframe thead th {\n",
       "        text-align: right;\n",
       "    }\n",
       "</style>\n",
       "<table border=\"1\" class=\"dataframe\">\n",
       "  <thead>\n",
       "    <tr style=\"text-align: right;\">\n",
       "      <th></th>\n",
       "      <th>id</th>\n",
       "      <th>date</th>\n",
       "      <th>retweet count</th>\n",
       "      <th>like count</th>\n",
       "      <th>text</th>\n",
       "      <th>author id</th>\n",
       "    </tr>\n",
       "  </thead>\n",
       "  <tbody>\n",
       "    <tr>\n",
       "      <th>0</th>\n",
       "      <td>1615296236067627009</td>\n",
       "      <td>2023-01-17T10:33:28.000Z</td>\n",
       "      <td>60</td>\n",
       "      <td>0</td>\n",
       "      <td>RT @GaelVaroquaux: Our benchmark of tree-based...</td>\n",
       "      <td>1118950813</td>\n",
       "    </tr>\n",
       "    <tr>\n",
       "      <th>1</th>\n",
       "      <td>1615282119130943488</td>\n",
       "      <td>2023-01-17T09:37:22.000Z</td>\n",
       "      <td>3</td>\n",
       "      <td>0</td>\n",
       "      <td>RT @Gometmedia: 🔴 Le maire de Marseille Benoît...</td>\n",
       "      <td>1118950813</td>\n",
       "    </tr>\n",
       "    <tr>\n",
       "      <th>2</th>\n",
       "      <td>1615094551450095617</td>\n",
       "      <td>2023-01-16T21:12:02.000Z</td>\n",
       "      <td>17</td>\n",
       "      <td>0</td>\n",
       "      <td>RT @SamuelLegris: Chers amis, chers collègues,...</td>\n",
       "      <td>1118950813</td>\n",
       "    </tr>\n",
       "    <tr>\n",
       "      <th>3</th>\n",
       "      <td>1614970751123349508</td>\n",
       "      <td>2023-01-16T13:00:06.000Z</td>\n",
       "      <td>7</td>\n",
       "      <td>0</td>\n",
       "      <td>RT @ejsmdubois: Artificial Intelligence in Sci...</td>\n",
       "      <td>1118950813</td>\n",
       "    </tr>\n",
       "    <tr>\n",
       "      <th>4</th>\n",
       "      <td>1614932445299613696</td>\n",
       "      <td>2023-01-16T10:27:53.000Z</td>\n",
       "      <td>3</td>\n",
       "      <td>0</td>\n",
       "      <td>RT @Jojo848329021: J'ai continué à lire l'opus...</td>\n",
       "      <td>1118950813</td>\n",
       "    </tr>\n",
       "    <tr>\n",
       "      <th>...</th>\n",
       "      <td>...</td>\n",
       "      <td>...</td>\n",
       "      <td>...</td>\n",
       "      <td>...</td>\n",
       "      <td>...</td>\n",
       "      <td>...</td>\n",
       "    </tr>\n",
       "    <tr>\n",
       "      <th>3437</th>\n",
       "      <td>550212255200346114</td>\n",
       "      <td>2014-12-31T08:49:58.000Z</td>\n",
       "      <td>0</td>\n",
       "      <td>2</td>\n",
       "      <td>@JeromeLamy79 @ArSaintMartin Tout à fait ce qu...</td>\n",
       "      <td>1118950813</td>\n",
       "    </tr>\n",
       "    <tr>\n",
       "      <th>3438</th>\n",
       "      <td>550208049043226624</td>\n",
       "      <td>2014-12-31T08:33:15.000Z</td>\n",
       "      <td>0</td>\n",
       "      <td>1</td>\n",
       "      <td>@ArSaintMartin A discuter les règles de produc...</td>\n",
       "      <td>1118950813</td>\n",
       "    </tr>\n",
       "    <tr>\n",
       "      <th>3439</th>\n",
       "      <td>549552439071088641</td>\n",
       "      <td>2014-12-29T13:08:06.000Z</td>\n",
       "      <td>0</td>\n",
       "      <td>0</td>\n",
       "      <td>@sociolol @JeromeLamy79 @ArSaintMartin @mXli1 ...</td>\n",
       "      <td>1118950813</td>\n",
       "    </tr>\n",
       "    <tr>\n",
       "      <th>3440</th>\n",
       "      <td>549213393023148032</td>\n",
       "      <td>2014-12-28T14:40:51.000Z</td>\n",
       "      <td>0</td>\n",
       "      <td>0</td>\n",
       "      <td>Compte rendu de lecture du manuel \"Méthodes st...</td>\n",
       "      <td>1118950813</td>\n",
       "    </tr>\n",
       "    <tr>\n",
       "      <th>3441</th>\n",
       "      <td>547790164244705280</td>\n",
       "      <td>2014-12-24T16:25:27.000Z</td>\n",
       "      <td>0</td>\n",
       "      <td>1</td>\n",
       "      <td>@ejsmdubois http://t.co/cJ65b9Ycmh  #sciencemode2</td>\n",
       "      <td>1118950813</td>\n",
       "    </tr>\n",
       "  </tbody>\n",
       "</table>\n",
       "<p>3442 rows × 6 columns</p>\n",
       "</div>"
      ],
      "text/plain": [
       "                       id                      date  retweet count  \\\n",
       "0     1615296236067627009  2023-01-17T10:33:28.000Z             60   \n",
       "1     1615282119130943488  2023-01-17T09:37:22.000Z              3   \n",
       "2     1615094551450095617  2023-01-16T21:12:02.000Z             17   \n",
       "3     1614970751123349508  2023-01-16T13:00:06.000Z              7   \n",
       "4     1614932445299613696  2023-01-16T10:27:53.000Z              3   \n",
       "...                   ...                       ...            ...   \n",
       "3437   550212255200346114  2014-12-31T08:49:58.000Z              0   \n",
       "3438   550208049043226624  2014-12-31T08:33:15.000Z              0   \n",
       "3439   549552439071088641  2014-12-29T13:08:06.000Z              0   \n",
       "3440   549213393023148032  2014-12-28T14:40:51.000Z              0   \n",
       "3441   547790164244705280  2014-12-24T16:25:27.000Z              0   \n",
       "\n",
       "      like count                                               text  \\\n",
       "0              0  RT @GaelVaroquaux: Our benchmark of tree-based...   \n",
       "1              0  RT @Gometmedia: 🔴 Le maire de Marseille Benoît...   \n",
       "2              0  RT @SamuelLegris: Chers amis, chers collègues,...   \n",
       "3              0  RT @ejsmdubois: Artificial Intelligence in Sci...   \n",
       "4              0  RT @Jojo848329021: J'ai continué à lire l'opus...   \n",
       "...          ...                                                ...   \n",
       "3437           2  @JeromeLamy79 @ArSaintMartin Tout à fait ce qu...   \n",
       "3438           1  @ArSaintMartin A discuter les règles de produc...   \n",
       "3439           0  @sociolol @JeromeLamy79 @ArSaintMartin @mXli1 ...   \n",
       "3440           0  Compte rendu de lecture du manuel \"Méthodes st...   \n",
       "3441           1  @ejsmdubois http://t.co/cJ65b9Ycmh  #sciencemode2   \n",
       "\n",
       "       author id  \n",
       "0     1118950813  \n",
       "1     1118950813  \n",
       "2     1118950813  \n",
       "3     1118950813  \n",
       "4     1118950813  \n",
       "...          ...  \n",
       "3437  1118950813  \n",
       "3438  1118950813  \n",
       "3439  1118950813  \n",
       "3440  1118950813  \n",
       "3441  1118950813  \n",
       "\n",
       "[3442 rows x 6 columns]"
      ]
     },
     "execution_count": 44,
     "metadata": {},
     "output_type": "execute_result"
    }
   ],
   "source": [
    "table"
   ]
  },
  {
   "cell_type": "code",
   "execution_count": null,
   "id": "f2ae4818",
   "metadata": {},
   "outputs": [],
   "source": []
  },
  {
   "cell_type": "code",
   "execution_count": null,
   "id": "ac70028e",
   "metadata": {},
   "outputs": [],
   "source": []
  },
  {
   "cell_type": "code",
   "execution_count": null,
   "id": "2c421d22",
   "metadata": {},
   "outputs": [],
   "source": []
  },
  {
   "cell_type": "code",
   "execution_count": null,
   "id": "ebe247fd",
   "metadata": {},
   "outputs": [],
   "source": []
  },
  {
   "cell_type": "code",
   "execution_count": null,
   "id": "09bccb58",
   "metadata": {},
   "outputs": [],
   "source": []
  },
  {
   "cell_type": "code",
   "execution_count": null,
   "id": "6fdd175b",
   "metadata": {},
   "outputs": [],
   "source": []
  },
  {
   "cell_type": "code",
   "execution_count": null,
   "id": "527d3000",
   "metadata": {},
   "outputs": [],
   "source": []
  },
  {
   "cell_type": "code",
   "execution_count": null,
   "id": "ce02ff2e",
   "metadata": {},
   "outputs": [],
   "source": []
  },
  {
   "cell_type": "code",
   "execution_count": null,
   "id": "5a6a55fb",
   "metadata": {},
   "outputs": [],
   "source": []
  },
  {
   "cell_type": "code",
   "execution_count": null,
   "id": "2c5595a2",
   "metadata": {},
   "outputs": [],
   "source": []
  },
  {
   "cell_type": "code",
   "execution_count": null,
   "id": "047cc731",
   "metadata": {},
   "outputs": [],
   "source": []
  },
  {
   "cell_type": "code",
   "execution_count": null,
   "id": "013408fa",
   "metadata": {},
   "outputs": [],
   "source": []
  },
  {
   "cell_type": "markdown",
   "id": "0ee7a40f",
   "metadata": {},
   "source": [
    "Possible to get the information of each account"
   ]
  },
  {
   "cell_type": "markdown",
   "id": "78d94b59",
   "metadata": {},
   "source": [
    "Get all the followings"
   ]
  },
  {
   "cell_type": "code",
   "execution_count": 61,
   "id": "d3831c5f",
   "metadata": {},
   "outputs": [
    {
     "data": {
      "text/plain": [
       "871"
      ]
     },
     "execution_count": 61,
     "metadata": {},
     "output_type": "execute_result"
    }
   ],
   "source": [
    "followings = t.following(\"1118950813\")\n",
    "followings = [i for i in followings]\n",
    "followings = [j for i in followings for j in i[\"data\"]]\n",
    "len(followings)"
   ]
  },
  {
   "cell_type": "markdown",
   "id": "e99e9ecf",
   "metadata": {},
   "source": [
    "Create an egocentric network"
   ]
  },
  {
   "cell_type": "code",
   "execution_count": 62,
   "id": "1e40e609",
   "metadata": {},
   "outputs": [],
   "source": [
    "import networkx as nx"
   ]
  },
  {
   "cell_type": "code",
   "execution_count": 63,
   "id": "1ba66119",
   "metadata": {},
   "outputs": [],
   "source": [
    "ego = nx.Graph()"
   ]
  },
  {
   "cell_type": "code",
   "execution_count": 70,
   "id": "ea63eebb",
   "metadata": {},
   "outputs": [
    {
     "data": {
      "text/plain": [
       "{'description': 'Professor @IP_Paris_ @TelecomParis Associate researcher @EHESS_fr\\nLatest📚\\nEn Attendant les Robots\\nSchiavi del clic\\nEsperando a los Robots\\nفي انتظار الروبوت',\n",
       " 'name': 'Casilli | @casilli@mamot.fr',\n",
       " 'url': 'https://t.co/zfPjZCIXKP',\n",
       " 'public_metrics': {'followers_count': 21263,\n",
       "  'following_count': 1490,\n",
       "  'tweet_count': 51225,\n",
       "  'listed_count': 1073},\n",
       " 'entities': {'url': {'urls': [{'start': 0,\n",
       "     'end': 23,\n",
       "     'url': 'https://t.co/zfPjZCIXKP',\n",
       "     'expanded_url': 'https://www.casilli.fr/',\n",
       "     'display_url': 'casilli.fr'}]},\n",
       "  'description': {'mentions': [{'start': 10,\n",
       "     'end': 20,\n",
       "     'username': 'IP_Paris_'},\n",
       "    {'start': 21, 'end': 34, 'username': 'TelecomParis'},\n",
       "    {'start': 56, 'end': 65, 'username': 'EHESS_fr'}]}},\n",
       " 'id': '87671968',\n",
       " 'created_at': '2009-11-05T12:14:01.000Z',\n",
       " 'location': 'Paris, France',\n",
       " 'verified': True,\n",
       " 'username': 'AntonioCasilli',\n",
       " 'profile_image_url': 'https://pbs.twimg.com/profile_images/1566140441820536833/eveaI1Kp_normal.jpg',\n",
       " 'protected': False}"
      ]
     },
     "execution_count": 70,
     "metadata": {},
     "output_type": "execute_result"
    }
   ],
   "source": [
    "followings[0]"
   ]
  },
  {
   "cell_type": "code",
   "execution_count": 81,
   "id": "67241518",
   "metadata": {},
   "outputs": [],
   "source": [
    "name = \"emilienschultz\"\n",
    "for i in followings:\n",
    "    if not ego.has_node(i[\"username\"]):\n",
    "        ego.add_node(i[\"username\"],followers=i[\"public_metrics\"]['followers_count'])\n",
    "    ego.add_edge(name,i[\"username\"],cat=\"followings\")\n",
    "    \n",
    "for i in followers:\n",
    "    if not ego.has_node(i[\"username\"]):\n",
    "        ego.add_node(i[\"username\"],followers=i[\"public_metrics\"]['followers_count'])\n",
    "    ego.add_edge(name,i[\"username\"],cat=\"followers\")"
   ]
  },
  {
   "cell_type": "markdown",
   "id": "0ab48007",
   "metadata": {},
   "source": [
    "Loop for collecting all the followers of followers"
   ]
  },
  {
   "cell_type": "markdown",
   "id": "1a37d49a",
   "metadata": {},
   "source": [
    "Save"
   ]
  },
  {
   "cell_type": "code",
   "execution_count": 80,
   "id": "4ab9ae1c",
   "metadata": {},
   "outputs": [],
   "source": [
    "import pickle\n",
    "pickle.dump(followings,open(\"data/emilienschultz_followings\",\"wb\"))\n",
    "pickle.dump(followers,open(\"data/emilienschultz_followers\",\"wb\"))"
   ]
  },
  {
   "cell_type": "markdown",
   "id": "70f3074a",
   "metadata": {},
   "source": [
    "# Vizualising the network"
   ]
  },
  {
   "cell_type": "code",
   "execution_count": 71,
   "id": "bb211e66",
   "metadata": {},
   "outputs": [],
   "source": [
    "from ipysigma import Sigma"
   ]
  },
  {
   "cell_type": "code",
   "execution_count": 75,
   "id": "2e8da4bc",
   "metadata": {
    "scrolled": true
   },
   "outputs": [
    {
     "data": {
      "application/vnd.jupyter.widget-view+json": {
       "model_id": "ff22795fe05d47ab8b0dbfb2bf376092",
       "version_major": 2,
       "version_minor": 0
      },
      "text/plain": [
       "Sigma(nx.Graph with 872 nodes and 871 edges)"
      ]
     },
     "metadata": {},
     "output_type": "display_data"
    }
   ],
   "source": [
    "Sigma(ego,node_size = \"followers\",node_size_scale=\"pow\")"
   ]
  },
  {
   "cell_type": "code",
   "execution_count": null,
   "id": "a5316254",
   "metadata": {},
   "outputs": [],
   "source": []
  },
  {
   "cell_type": "code",
   "execution_count": null,
   "id": "32acf3ee",
   "metadata": {},
   "outputs": [],
   "source": []
  },
  {
   "cell_type": "code",
   "execution_count": null,
   "id": "6b50f819",
   "metadata": {},
   "outputs": [],
   "source": []
  },
  {
   "cell_type": "code",
   "execution_count": null,
   "id": "1e1cf85e",
   "metadata": {},
   "outputs": [],
   "source": []
  },
  {
   "cell_type": "code",
   "execution_count": null,
   "id": "b97a3333",
   "metadata": {},
   "outputs": [],
   "source": []
  },
  {
   "cell_type": "markdown",
   "id": "79acbd46",
   "metadata": {},
   "source": [
    "## Doing the same thing for each followers"
   ]
  },
  {
   "cell_type": "code",
   "execution_count": 84,
   "id": "71e34889",
   "metadata": {},
   "outputs": [],
   "source": [
    "def get_followers(id_user):\n",
    "    followers = t.followers(id_user)\n",
    "    followers = [i for i in followers]\n",
    "    followers = [j for i in followers for j in i[\"data\"]]\n",
    "    return followers"
   ]
  },
  {
   "cell_type": "code",
   "execution_count": 86,
   "id": "368974d2",
   "metadata": {},
   "outputs": [
    {
     "data": {
      "text/plain": [
       "['AlexFctr_followers',\n",
       " 'AnCourmont_followers',\n",
       " 'BerthoElara_followers',\n",
       " 'DadiCharles_followers',\n",
       " 'emilienschultz_followers',\n",
       " 'emilienschultz_followings',\n",
       " 'SamuelLegris_followers',\n",
       " 'Vinteuil_LTP_followers']"
      ]
     },
     "execution_count": 86,
     "metadata": {},
     "output_type": "execute_result"
    }
   ],
   "source": [
    "import os\n",
    "os.listdir(\"data\")"
   ]
  },
  {
   "cell_type": "code",
   "execution_count": 87,
   "id": "a0bf9bfb",
   "metadata": {},
   "outputs": [
    {
     "data": {
      "text/plain": [
       "True"
      ]
     },
     "execution_count": 87,
     "metadata": {},
     "output_type": "execute_result"
    }
   ],
   "source": [
    "\"emilienschultz\"+\"_followers\" in os.listdir(\"data\")"
   ]
  },
  {
   "cell_type": "code",
   "execution_count": 88,
   "id": "d0289a19",
   "metadata": {},
   "outputs": [
    {
     "name": "stdout",
     "output_type": "stream",
     "text": [
      "VictorAfonsoMa2 ok 129\n",
      "mc_edgar ok 9391\n",
      "j_galissaire ok 302\n"
     ]
    },
    {
     "name": "stderr",
     "output_type": "stream",
     "text": [
      "rate limit exceeded: sleeping 892.9349551200867 secs\n"
     ]
    },
    {
     "name": "stdout",
     "output_type": "stream",
     "text": [
      "denisvannier ok 4206\n",
      "tpoell ok 2627\n",
      "sebastien_fr ok 1347\n",
      "wrbucla ok 1959\n",
      "embodinier ok 2513\n",
      "LoicRiom ok 647\n",
      "teddy_theodose ok 81\n"
     ]
    },
    {
     "name": "stderr",
     "output_type": "stream",
     "text": [
      "rate limit exceeded: sleeping 889.757504940033 secs\n"
     ]
    },
    {
     "name": "stdout",
     "output_type": "stream",
     "text": [
      "SimonDame4 ok 160\n",
      "Mpanjakagasy ok 32\n",
      "cagb9024 ok 23\n",
      "BenLister1919 ok 440\n",
      "revue_Cambouis ok 185\n",
      "Nerea_nva ok 442\n",
      "ValeryRasplus ok 1801\n",
      "benjlemoine ok 2221\n",
      "jaerciodasilva ok 759\n",
      "TheoBourgeron ok 750\n",
      "LoubeyreMaxime ok 9\n",
      "brullier7 ok 748\n",
      "julie_arnlt ok 318\n"
     ]
    },
    {
     "name": "stderr",
     "output_type": "stream",
     "text": [
      "rate limit exceeded: sleeping 894.9913549423218 secs\n"
     ]
    },
    {
     "name": "stdout",
     "output_type": "stream",
     "text": [
      "Phil_Vaillant ok 167\n",
      "barbararlaz ok 824\n",
      "CousinLex ok 2016\n",
      "Urban__AI ok 702\n",
      "AlexiaPronest ok 27\n",
      "LuneRiboni ok 305\n",
      "jouanneausolen ok 520\n",
      "TNenaon ok 57\n",
      "Bastien_devfr ok 2230\n"
     ]
    },
    {
     "name": "stderr",
     "output_type": "stream",
     "text": [
      "rate limit exceeded: sleeping 894.5484340190887 secs\n"
     ]
    },
    {
     "name": "stdout",
     "output_type": "stream",
     "text": [
      "bea_botero ok 1979\n",
      "NLebrunGeo ok 600\n",
      "LRB_XAVIER ok 49\n",
      "Pauline_Gourlet ok 526\n",
      "Olivier_MH ok 558\n",
      "revolunet ok 3982\n"
     ]
    },
    {
     "name": "stderr",
     "output_type": "stream",
     "text": [
      "rate limit exceeded: sleeping 890.5384509563446 secs\n"
     ]
    },
    {
     "name": "stdout",
     "output_type": "stream",
     "text": [
      "fsaltiel ok 12169\n",
      "nicbaya ok 1440\n",
      "problème:  claire_feder\n",
      "_Usame___Gelir_ ok 11\n",
      "Simoncma ok 1206\n",
      "Delphine_Dauv ok 1218\n",
      "xenggg ok 216\n"
     ]
    },
    {
     "name": "stderr",
     "output_type": "stream",
     "text": [
      "rate limit exceeded: sleeping 894.3854029178619 secs\n"
     ]
    },
    {
     "name": "stdout",
     "output_type": "stream",
     "text": [
      "IsaureSimonin ok 21\n",
      "jusquiame_ ok 114\n",
      "problème:  VicAnyway\n",
      "problème:  sehirban20\n",
      "elghazi47579091 ok 332\n",
      "Rebecca_LevyG ok 349\n",
      "LDedryver ok 10\n",
      "NicolasRmblt ok 227\n",
      "EmelineBanzuzi ok 171\n",
      "AC2N1 ok 520\n",
      "AusraBri ok 15\n",
      "NoemieFomp ok 897\n",
      "problème:  BerangereFrotte\n",
      "JoNectarine ok 18\n",
      "romain_letabli ok 143\n"
     ]
    },
    {
     "name": "stderr",
     "output_type": "stream",
     "text": [
      "rate limit exceeded: sleeping 901 secs\n"
     ]
    },
    {
     "name": "stdout",
     "output_type": "stream",
     "text": [
      "ThomasMaca ok 387\n",
      "sssileencio ok 396\n",
      "Joelasocio ok 7\n",
      "medjawii ok 3689\n",
      "newslett0632 ok 8\n",
      "VitreMargaux ok 73\n",
      "problème:  Sandraveillenum\n",
      "ODEmploi_77 ok 49\n",
      "rahul_uttam_ ok 142\n",
      "omro_ka ok 55\n",
      "ALeGallou44 ok 890\n"
     ]
    },
    {
     "name": "stderr",
     "output_type": "stream",
     "text": [
      "rate limit exceeded: sleeping 896.6561160087585 secs\n"
     ]
    },
    {
     "name": "stdout",
     "output_type": "stream",
     "text": [
      "StefPalomba ok 9371\n",
      "problème:  boanry\n",
      "_theobd94 ok 146\n",
      "poissonkev ok 85\n",
      "AminaAS20 ok 3\n"
     ]
    },
    {
     "name": "stderr",
     "output_type": "stream",
     "text": [
      "rate limit exceeded: sleeping 894.5985028743744 secs\n"
     ]
    },
    {
     "name": "stdout",
     "output_type": "stream",
     "text": [
      "HPeskine ok 2935\n",
      "dAssenza_David ok 1044\n",
      "AEF_Ville ok 738\n",
      "emiliebuono ok 2280\n"
     ]
    },
    {
     "name": "stderr",
     "output_type": "stream",
     "text": [
      "rate limit exceeded: sleeping 890.9890899658203 secs\n",
      "rate limit exceeded: sleeping 889.8202679157257 secs\n",
      "rate limit exceeded: sleeping 889.4625189304352 secs\n"
     ]
    },
    {
     "name": "stdout",
     "output_type": "stream",
     "text": [
      "Fondapol ok 40882\n",
      "PaulGrunelius ok 633\n",
      "M_Bar_Ber ok 250\n",
      "clement_mandron ok 147\n",
      "ElodieChabaud ok 151\n",
      "LeComptoirNum ok 389\n",
      "AgriGenre ok 2733\n",
      "yrouille ok 79\n",
      "TheEyeballsEN ok 120\n",
      "rosineperez1 ok 5\n",
      "HugSov ok 34\n"
     ]
    },
    {
     "name": "stderr",
     "output_type": "stream",
     "text": [
      "rate limit exceeded: sleeping 896.2278320789337 secs\n"
     ]
    },
    {
     "name": "stdout",
     "output_type": "stream",
     "text": [
      "elsamito ok 267\n",
      "airavn ok 1356\n",
      "JGarrocq ok 104\n",
      "ValGoujon ok 80\n",
      "pitersummer ok 267\n",
      "MGSocio ok 12\n",
      "SylviaGuirand ok 490\n",
      "elise_lehoux ok 291\n",
      "LaureKassem ok 255\n",
      "RevueTraces ok 3647\n"
     ]
    },
    {
     "name": "stderr",
     "output_type": "stream",
     "text": [
      "rate limit exceeded: sleeping 895.6402769088745 secs\n",
      "rate limit exceeded: sleeping 891.0229659080505 secs\n",
      "rate limit exceeded: sleeping 890.1020328998566 secs\n",
      "rate limit exceeded: sleeping 891.1344499588013 secs\n",
      "rate limit exceeded: sleeping 891.700649023056 secs\n",
      "rate limit exceeded: sleeping 891.1173341274261 secs\n",
      "rate limit exceeded: sleeping 891.5422248840332 secs\n"
     ]
    },
    {
     "name": "stdout",
     "output_type": "stream",
     "text": [
      "FrankUnderwood ok 90687\n",
      "FrucquetP ok 14\n",
      "jeremprx ok 1193\n",
      "Alexandre_HRN ok 2178\n"
     ]
    },
    {
     "name": "stderr",
     "output_type": "stream",
     "text": [
      "rate limit exceeded: sleeping 892.7970569133759 secs\n"
     ]
    },
    {
     "name": "stdout",
     "output_type": "stream",
     "text": [
      "TFressin ok 9646\n",
      "Mehdi_Ghssmi ok 224\n"
     ]
    },
    {
     "name": "stderr",
     "output_type": "stream",
     "text": [
      "rate limit exceeded: sleeping 890.3866329193115 secs\n",
      "rate limit exceeded: sleeping 890.8807098865509 secs\n"
     ]
    },
    {
     "name": "stdout",
     "output_type": "stream",
     "text": [
      "martelf ok 35735\n",
      "ogential ok 290\n",
      "bengufflet ok 29\n",
      "Laurent_OL ok 61\n"
     ]
    },
    {
     "name": "stderr",
     "output_type": "stream",
     "text": [
      "rate limit exceeded: sleeping 891.8323049545288 secs\n"
     ]
    },
    {
     "name": "stdout",
     "output_type": "stream",
     "text": [
      "VincentMeyer17 ok 5660\n",
      "AdrienRogissart ok 743\n",
      "simoreau ok 58\n",
      "problème:  HayekMG\n",
      "mediaimmediat ok 1600\n",
      "antonbundle ok 1895\n",
      "JaspartOlivier ok 810\n",
      "Yosr777 ok 733\n"
     ]
    },
    {
     "name": "stderr",
     "output_type": "stream",
     "text": [
      "rate limit exceeded: sleeping 891.4919412136078 secs\n"
     ]
    },
    {
     "name": "stdout",
     "output_type": "stream",
     "text": [
      "Silvae ok 14269\n",
      "DavidLibeau ok 2127\n"
     ]
    },
    {
     "name": "stderr",
     "output_type": "stream",
     "text": [
      "rate limit exceeded: sleeping 890.4204180240631 secs\n"
     ]
    },
    {
     "name": "stdout",
     "output_type": "stream",
     "text": [
      "gabdx33 ok 56\n",
      "AntoineGola2 ok 26\n",
      "JulienMigozzi ok 1151\n",
      "problème:  00Ninye00\n",
      "JuristeMP ok 1003\n",
      "M_Vernaton ok 47\n",
      "belett ok 1965\n",
      "cattleg ok 1729\n",
      "LeaDouhard ok 3209\n"
     ]
    },
    {
     "name": "stderr",
     "output_type": "stream",
     "text": [
      "rate limit exceeded: sleeping 894.9565172195435 secs\n"
     ]
    },
    {
     "name": "stdout",
     "output_type": "stream",
     "text": [
      "OpenCitiz ok 334\n",
      "BouchereauA ok 133\n",
      "MOSD22 ok 69\n",
      "platingnum ok 75\n",
      "Jojo848329021 ok 3424\n",
      "ArthurArtaud ok 17\n",
      "nataliabielova ok 2968\n"
     ]
    },
    {
     "name": "stderr",
     "output_type": "stream",
     "text": [
      "rate limit exceeded: sleeping 895.3670771121979 secs\n"
     ]
    },
    {
     "name": "stdout",
     "output_type": "stream",
     "text": [
      "MarionBeauvalet ok 13068\n",
      "tnzn00 ok 1399\n",
      "CodeExperience ok 312\n"
     ]
    },
    {
     "name": "stderr",
     "output_type": "stream",
     "text": [
      "rate limit exceeded: sleeping 893.6670770645142 secs\n"
     ]
    },
    {
     "name": "stdout",
     "output_type": "stream",
     "text": [
      "AhmedAb69123973 ok 87\n",
      "serendipidite ok 745\n",
      "problème:  giuchap\n",
      "stlCEL ok 993\n",
      "audrey_boulard ok 595\n"
     ]
    },
    {
     "name": "stderr",
     "output_type": "stream",
     "text": [
      "rate limit exceeded: sleeping 892.0919759273529 secs\n"
     ]
    },
    {
     "name": "stdout",
     "output_type": "stream",
     "text": [
      "EditionsScpo ok 23027\n"
     ]
    },
    {
     "name": "stderr",
     "output_type": "stream",
     "text": [
      "rate limit exceeded: sleeping 890.8357939720154 secs\n"
     ]
    },
    {
     "name": "stdout",
     "output_type": "stream",
     "text": [
      "balleverte ok 3551\n",
      "LVaudor ok 715\n",
      "RocknRolisteA ok 846\n",
      "AnaelleBeignon ok 230\n",
      "marieke_lisbeth ok 1522\n",
      "sarah_bourgouin ok 412\n"
     ]
    },
    {
     "name": "stderr",
     "output_type": "stream",
     "text": [
      "rate limit exceeded: sleeping 893.7049291133881 secs\n"
     ]
    },
    {
     "name": "stdout",
     "output_type": "stream",
     "text": [
      "HadrienClouet ok 16682\n",
      "OutsiderRevue ok 334\n",
      "BahierL ok 534\n",
      "ccholez ok 132\n"
     ]
    },
    {
     "name": "stderr",
     "output_type": "stream",
     "text": [
      "rate limit exceeded: sleeping 892.9245839118958 secs\n"
     ]
    },
    {
     "name": "stdout",
     "output_type": "stream",
     "text": [
      "CitoyenDuMonde5 ok 2255\n",
      "EAsilverr ok 124\n",
      "Tech4What ok 627\n",
      "EstellePasquer ok 168\n",
      "VTiberj ok 9252\n"
     ]
    },
    {
     "name": "stderr",
     "output_type": "stream",
     "text": [
      "rate limit exceeded: sleeping 894.6337640285492 secs\n"
     ]
    },
    {
     "name": "stdout",
     "output_type": "stream",
     "text": [
      "CBourgeek ok 221\n",
      "elsamranimarc ok 5\n",
      "MrDeshaies ok 1189\n",
      "CryptoPartyRNS ok 1455\n",
      "croquelardit ok 445\n",
      "SupDpo ok 726\n",
      "alexbarclay_ ok 1252\n",
      "PerezLagosC ok 893\n"
     ]
    },
    {
     "name": "stderr",
     "output_type": "stream",
     "text": [
      "rate limit exceeded: sleeping 894.2205231189728 secs\n",
      "rate limit exceeded: sleeping 891.5881447792053 secs\n"
     ]
    },
    {
     "name": "stdout",
     "output_type": "stream",
     "text": [
      "podehaye ok 20643\n",
      "ereese15 ok 739\n",
      "_omr ok 8778\n",
      "laurentviala ok 2017\n"
     ]
    },
    {
     "name": "stderr",
     "output_type": "stream",
     "text": [
      "rate limit exceeded: sleeping 891.8883881568909 secs\n"
     ]
    },
    {
     "name": "stdout",
     "output_type": "stream",
     "text": [
      "Petiteogresse ok 7\n",
      "Mrl_AC ok 79\n",
      "leila_al_iel ok 230\n",
      "legavric ok 726\n",
      "JusNumerium ok 1478\n",
      "geekiviste ok 943\n",
      "MartineLemalet ok 2049\n",
      "DavidAttie ok 95\n",
      "pisatelchitatel ok 114\n",
      "_neuro6 ok 876\n",
      "JihaneBenzina ok 1949\n",
      "CartoDebat ok 208\n"
     ]
    },
    {
     "name": "stderr",
     "output_type": "stream",
     "text": [
      "rate limit exceeded: sleeping 895.6685869693756 secs\n"
     ]
    },
    {
     "name": "stdout",
     "output_type": "stream",
     "text": [
      "BVallauri ok 2696\n",
      "GillesMartinet ok 2628\n",
      "ValenteRudi ok 103\n",
      "fhouste ok 4264\n",
      "legalljm ok 606\n"
     ]
    },
    {
     "name": "stderr",
     "output_type": "stream",
     "text": [
      "rate limit exceeded: sleeping 892.7184178829193 secs\n"
     ]
    },
    {
     "name": "stdout",
     "output_type": "stream",
     "text": [
      "montezumachavez ok 5860\n",
      "VMAlex ok 19\n",
      "fraisfringant ok 861\n"
     ]
    },
    {
     "name": "stderr",
     "output_type": "stream",
     "text": [
      "rate limit exceeded: sleeping 892.7144520282745 secs\n"
     ]
    },
    {
     "name": "stdout",
     "output_type": "stream",
     "text": [
      "OlivierRazemon ok 22535\n"
     ]
    },
    {
     "name": "stderr",
     "output_type": "stream",
     "text": [
      "rate limit exceeded: sleeping 891.8226220607758 secs\n"
     ]
    },
    {
     "name": "stdout",
     "output_type": "stream",
     "text": [
      "Hypra_ ok 907\n",
      "reseauxenergies ok 732\n",
      "c_aubert_h ok 390\n",
      "DanielBreton29 ok 8\n",
      "nicolas_szende ok 634\n",
      "sebastiendmln ok 2416\n",
      "MarcAntoine_P ok 123\n",
      "NoGhetto2 ok 1164\n",
      "pierre_obrecht ok 440\n"
     ]
    },
    {
     "name": "stderr",
     "output_type": "stream",
     "text": [
      "rate limit exceeded: sleeping 894.3246669769287 secs\n"
     ]
    },
    {
     "name": "stdout",
     "output_type": "stream",
     "text": [
      "mfouquenet ok 4617\n",
      "mathildelarive ok 176\n",
      "Cha_baelde ok 1689\n",
      "notescj ok 45\n",
      "anmingli75 ok 622\n",
      "BenjaminDouriez ok 2277\n",
      "acropol_podcast ok 634\n"
     ]
    },
    {
     "name": "stderr",
     "output_type": "stream",
     "text": [
      "rate limit exceeded: sleeping 894.0329310894012 secs\n",
      "rate limit exceeded: sleeping 892.4603230953217 secs\n",
      "rate limit exceeded: sleeping 891.2148149013519 secs\n",
      "caught requests exception: HTTPSConnectionPool(host='api.twitter.com', port=443): Max retries exceeded with url: /2/users/11673462/followers?tweet.fields=attachments%2Cauthor_id%2Ccontext_annotations%2Cconversation_id%2Ccreated_at%2Centities%2Cgeo%2Cid%2Cin_reply_to_user_id%2Clang%2Cpublic_metrics%2Ctext%2Cpossibly_sensitive%2Creferenced_tweets%2Creply_settings%2Csource%2Cwithheld%2Cedit_controls%2Cedit_history_tweet_ids&user.fields=created_at%2Cdescription%2Centities%2Cid%2Clocation%2Cname%2Cpinned_tweet_id%2Cprofile_image_url%2Cprotected%2Cpublic_metrics%2Curl%2Cusername%2Cverified%2Cwithheld&max_results=1000&pagination_token=O7UESD762G2HAZZZ (Caused by NewConnectionError('<urllib3.connection.HTTPSConnection object at 0x10bbe50c0>: Failed to establish a new connection: [Errno 8] nodename nor servname provided, or not known'))\n",
      "caught requests exception: HTTPSConnectionPool(host='api.twitter.com', port=443): Max retries exceeded with url: /2/users/11673462/followers?tweet.fields=attachments%2Cauthor_id%2Ccontext_annotations%2Cconversation_id%2Ccreated_at%2Centities%2Cgeo%2Cid%2Cin_reply_to_user_id%2Clang%2Cpublic_metrics%2Ctext%2Cpossibly_sensitive%2Creferenced_tweets%2Creply_settings%2Csource%2Cwithheld%2Cedit_controls%2Cedit_history_tweet_ids&user.fields=created_at%2Cdescription%2Centities%2Cid%2Clocation%2Cname%2Cpinned_tweet_id%2Cprofile_image_url%2Cprotected%2Cpublic_metrics%2Curl%2Cusername%2Cverified%2Cwithheld&max_results=1000&pagination_token=O7UESD762G2HAZZZ (Caused by NewConnectionError('<urllib3.connection.HTTPSConnection object at 0x142993370>: Failed to establish a new connection: [Errno 8] nodename nor servname provided, or not known'))\n",
      "caught requests exception: HTTPSConnectionPool(host='api.twitter.com', port=443): Max retries exceeded with url: /2/users/11673462/followers?tweet.fields=attachments%2Cauthor_id%2Ccontext_annotations%2Cconversation_id%2Ccreated_at%2Centities%2Cgeo%2Cid%2Cin_reply_to_user_id%2Clang%2Cpublic_metrics%2Ctext%2Cpossibly_sensitive%2Creferenced_tweets%2Creply_settings%2Csource%2Cwithheld%2Cedit_controls%2Cedit_history_tweet_ids&user.fields=created_at%2Cdescription%2Centities%2Cid%2Clocation%2Cname%2Cpinned_tweet_id%2Cprofile_image_url%2Cprotected%2Cpublic_metrics%2Curl%2Cusername%2Cverified%2Cwithheld&max_results=1000&pagination_token=O7UESD762G2HAZZZ (Caused by NewConnectionError('<urllib3.connection.HTTPSConnection object at 0x1429931c0>: Failed to establish a new connection: [Errno 8] nodename nor servname provided, or not known'))\n",
      "caught requests exception: HTTPSConnectionPool(host='api.twitter.com', port=443): Max retries exceeded with url: /2/users/11673462/followers?tweet.fields=attachments%2Cauthor_id%2Ccontext_annotations%2Cconversation_id%2Ccreated_at%2Centities%2Cgeo%2Cid%2Cin_reply_to_user_id%2Clang%2Cpublic_metrics%2Ctext%2Cpossibly_sensitive%2Creferenced_tweets%2Creply_settings%2Csource%2Cwithheld%2Cedit_controls%2Cedit_history_tweet_ids&user.fields=created_at%2Cdescription%2Centities%2Cid%2Clocation%2Cname%2Cpinned_tweet_id%2Cprofile_image_url%2Cprotected%2Cpublic_metrics%2Curl%2Cusername%2Cverified%2Cwithheld&max_results=1000&pagination_token=O7UESD762G2HAZZZ (Caused by NewConnectionError('<urllib3.connection.HTTPSConnection object at 0x142991060>: Failed to establish a new connection: [Errno 8] nodename nor servname provided, or not known'))\n",
      "caught requests exception: HTTPSConnectionPool(host='api.twitter.com', port=443): Max retries exceeded with url: /2/users/11673462/followers?tweet.fields=attachments%2Cauthor_id%2Ccontext_annotations%2Cconversation_id%2Ccreated_at%2Centities%2Cgeo%2Cid%2Cin_reply_to_user_id%2Clang%2Cpublic_metrics%2Ctext%2Cpossibly_sensitive%2Creferenced_tweets%2Creply_settings%2Csource%2Cwithheld%2Cedit_controls%2Cedit_history_tweet_ids&user.fields=created_at%2Cdescription%2Centities%2Cid%2Clocation%2Cname%2Cpinned_tweet_id%2Cprofile_image_url%2Cprotected%2Cpublic_metrics%2Curl%2Cusername%2Cverified%2Cwithheld&max_results=1000&pagination_token=O7UESD762G2HAZZZ (Caused by NewConnectionError('<urllib3.connection.HTTPSConnection object at 0x142992500>: Failed to establish a new connection: [Errno 8] nodename nor servname provided, or not known'))\n",
      "caught requests exception: HTTPSConnectionPool(host='api.twitter.com', port=443): Max retries exceeded with url: /2/users/11673462/followers?tweet.fields=attachments%2Cauthor_id%2Ccontext_annotations%2Cconversation_id%2Ccreated_at%2Centities%2Cgeo%2Cid%2Cin_reply_to_user_id%2Clang%2Cpublic_metrics%2Ctext%2Cpossibly_sensitive%2Creferenced_tweets%2Creply_settings%2Csource%2Cwithheld%2Cedit_controls%2Cedit_history_tweet_ids&user.fields=created_at%2Cdescription%2Centities%2Cid%2Clocation%2Cname%2Cpinned_tweet_id%2Cprofile_image_url%2Cprotected%2Cpublic_metrics%2Curl%2Cusername%2Cverified%2Cwithheld&max_results=1000&pagination_token=O7UESD762G2HAZZZ (Caused by NewConnectionError('<urllib3.connection.HTTPSConnection object at 0x142993010>: Failed to establish a new connection: [Errno 8] nodename nor servname provided, or not known'))\n",
      "caught requests exception: HTTPSConnectionPool(host='api.twitter.com', port=443): Max retries exceeded with url: /2/users/11673462/followers?tweet.fields=attachments%2Cauthor_id%2Ccontext_annotations%2Cconversation_id%2Ccreated_at%2Centities%2Cgeo%2Cid%2Cin_reply_to_user_id%2Clang%2Cpublic_metrics%2Ctext%2Cpossibly_sensitive%2Creferenced_tweets%2Creply_settings%2Csource%2Cwithheld%2Cedit_controls%2Cedit_history_tweet_ids&user.fields=created_at%2Cdescription%2Centities%2Cid%2Clocation%2Cname%2Cpinned_tweet_id%2Cprofile_image_url%2Cprotected%2Cpublic_metrics%2Curl%2Cusername%2Cverified%2Cwithheld&max_results=1000&pagination_token=O7UESD762G2HAZZZ (Caused by NewConnectionError('<urllib3.connection.HTTPSConnection object at 0x142993eb0>: Failed to establish a new connection: [Errno 8] nodename nor servname provided, or not known'))\n",
      "caught requests exception: HTTPSConnectionPool(host='api.twitter.com', port=443): Max retries exceeded with url: /2/users/11673462/followers?tweet.fields=attachments%2Cauthor_id%2Ccontext_annotations%2Cconversation_id%2Ccreated_at%2Centities%2Cgeo%2Cid%2Cin_reply_to_user_id%2Clang%2Cpublic_metrics%2Ctext%2Cpossibly_sensitive%2Creferenced_tweets%2Creply_settings%2Csource%2Cwithheld%2Cedit_controls%2Cedit_history_tweet_ids&user.fields=created_at%2Cdescription%2Centities%2Cid%2Clocation%2Cname%2Cpinned_tweet_id%2Cprofile_image_url%2Cprotected%2Cpublic_metrics%2Curl%2Cusername%2Cverified%2Cwithheld&max_results=1000&pagination_token=O7UESD762G2HAZZZ (Caused by NewConnectionError('<urllib3.connection.HTTPSConnection object at 0x1429928f0>: Failed to establish a new connection: [Errno 8] nodename nor servname provided, or not known'))\n",
      "caught requests exception: HTTPSConnectionPool(host='api.twitter.com', port=443): Max retries exceeded with url: /2/users/11673462/followers?tweet.fields=attachments%2Cauthor_id%2Ccontext_annotations%2Cconversation_id%2Ccreated_at%2Centities%2Cgeo%2Cid%2Cin_reply_to_user_id%2Clang%2Cpublic_metrics%2Ctext%2Cpossibly_sensitive%2Creferenced_tweets%2Creply_settings%2Csource%2Cwithheld%2Cedit_controls%2Cedit_history_tweet_ids&user.fields=created_at%2Cdescription%2Centities%2Cid%2Clocation%2Cname%2Cpinned_tweet_id%2Cprofile_image_url%2Cprotected%2Cpublic_metrics%2Curl%2Cusername%2Cverified%2Cwithheld&max_results=1000&pagination_token=O7UESD762G2HAZZZ (Caused by NewConnectionError('<urllib3.connection.HTTPSConnection object at 0x142990580>: Failed to establish a new connection: [Errno 8] nodename nor servname provided, or not known'))\n",
      "caught requests exception: HTTPSConnectionPool(host='api.twitter.com', port=443): Max retries exceeded with url: /2/users/11673462/followers?tweet.fields=attachments%2Cauthor_id%2Ccontext_annotations%2Cconversation_id%2Ccreated_at%2Centities%2Cgeo%2Cid%2Cin_reply_to_user_id%2Clang%2Cpublic_metrics%2Ctext%2Cpossibly_sensitive%2Creferenced_tweets%2Creply_settings%2Csource%2Cwithheld%2Cedit_controls%2Cedit_history_tweet_ids&user.fields=created_at%2Cdescription%2Centities%2Cid%2Clocation%2Cname%2Cpinned_tweet_id%2Cprofile_image_url%2Cprotected%2Cpublic_metrics%2Curl%2Cusername%2Cverified%2Cwithheld&max_results=1000&pagination_token=O7UESD762G2HAZZZ (Caused by NewConnectionError('<urllib3.connection.HTTPSConnection object at 0x142992560>: Failed to establish a new connection: [Errno 8] nodename nor servname provided, or not known'))\n"
     ]
    },
    {
     "name": "stderr",
     "output_type": "stream",
     "text": [
      "caught requests exception: HTTPSConnectionPool(host='api.twitter.com', port=443): Max retries exceeded with url: /2/users/11673462/followers?tweet.fields=attachments%2Cauthor_id%2Ccontext_annotations%2Cconversation_id%2Ccreated_at%2Centities%2Cgeo%2Cid%2Cin_reply_to_user_id%2Clang%2Cpublic_metrics%2Ctext%2Cpossibly_sensitive%2Creferenced_tweets%2Creply_settings%2Csource%2Cwithheld%2Cedit_controls%2Cedit_history_tweet_ids&user.fields=created_at%2Cdescription%2Centities%2Cid%2Clocation%2Cname%2Cpinned_tweet_id%2Cprofile_image_url%2Cprotected%2Cpublic_metrics%2Curl%2Cusername%2Cverified%2Cwithheld&max_results=1000&pagination_token=O7UESD762G2HAZZZ (Caused by NewConnectionError('<urllib3.connection.HTTPSConnection object at 0x142991720>: Failed to establish a new connection: [Errno 8] nodename nor servname provided, or not known'))\n",
      "caught requests exception: HTTPSConnectionPool(host='api.twitter.com', port=443): Max retries exceeded with url: /2/users/11673462/followers?tweet.fields=attachments%2Cauthor_id%2Ccontext_annotations%2Cconversation_id%2Ccreated_at%2Centities%2Cgeo%2Cid%2Cin_reply_to_user_id%2Clang%2Cpublic_metrics%2Ctext%2Cpossibly_sensitive%2Creferenced_tweets%2Creply_settings%2Csource%2Cwithheld%2Cedit_controls%2Cedit_history_tweet_ids&user.fields=created_at%2Cdescription%2Centities%2Cid%2Clocation%2Cname%2Cpinned_tweet_id%2Cprofile_image_url%2Cprotected%2Cpublic_metrics%2Curl%2Cusername%2Cverified%2Cwithheld&max_results=1000&pagination_token=O7UESD762G2HAZZZ (Caused by NewConnectionError('<urllib3.connection.HTTPSConnection object at 0x142990700>: Failed to establish a new connection: [Errno 8] nodename nor servname provided, or not known'))\n",
      "caught requests exception: HTTPSConnectionPool(host='api.twitter.com', port=443): Max retries exceeded with url: /2/users/11673462/followers?tweet.fields=attachments%2Cauthor_id%2Ccontext_annotations%2Cconversation_id%2Ccreated_at%2Centities%2Cgeo%2Cid%2Cin_reply_to_user_id%2Clang%2Cpublic_metrics%2Ctext%2Cpossibly_sensitive%2Creferenced_tweets%2Creply_settings%2Csource%2Cwithheld%2Cedit_controls%2Cedit_history_tweet_ids&user.fields=created_at%2Cdescription%2Centities%2Cid%2Clocation%2Cname%2Cpinned_tweet_id%2Cprofile_image_url%2Cprotected%2Cpublic_metrics%2Curl%2Cusername%2Cverified%2Cwithheld&max_results=1000&pagination_token=O7UESD762G2HAZZZ (Caused by NewConnectionError('<urllib3.connection.HTTPSConnection object at 0x142991540>: Failed to establish a new connection: [Errno 8] nodename nor servname provided, or not known'))\n",
      "caught requests exception: HTTPSConnectionPool(host='api.twitter.com', port=443): Max retries exceeded with url: /2/users/11673462/followers?tweet.fields=attachments%2Cauthor_id%2Ccontext_annotations%2Cconversation_id%2Ccreated_at%2Centities%2Cgeo%2Cid%2Cin_reply_to_user_id%2Clang%2Cpublic_metrics%2Ctext%2Cpossibly_sensitive%2Creferenced_tweets%2Creply_settings%2Csource%2Cwithheld%2Cedit_controls%2Cedit_history_tweet_ids&user.fields=created_at%2Cdescription%2Centities%2Cid%2Clocation%2Cname%2Cpinned_tweet_id%2Cprofile_image_url%2Cprotected%2Cpublic_metrics%2Curl%2Cusername%2Cverified%2Cwithheld&max_results=1000&pagination_token=O7UESD762G2HAZZZ (Caused by NewConnectionError('<urllib3.connection.HTTPSConnection object at 0x142993cd0>: Failed to establish a new connection: [Errno 8] nodename nor servname provided, or not known'))\n",
      "caught requests exception: HTTPSConnectionPool(host='api.twitter.com', port=443): Max retries exceeded with url: /2/users/11673462/followers?tweet.fields=attachments%2Cauthor_id%2Ccontext_annotations%2Cconversation_id%2Ccreated_at%2Centities%2Cgeo%2Cid%2Cin_reply_to_user_id%2Clang%2Cpublic_metrics%2Ctext%2Cpossibly_sensitive%2Creferenced_tweets%2Creply_settings%2Csource%2Cwithheld%2Cedit_controls%2Cedit_history_tweet_ids&user.fields=created_at%2Cdescription%2Centities%2Cid%2Clocation%2Cname%2Cpinned_tweet_id%2Cprofile_image_url%2Cprotected%2Cpublic_metrics%2Curl%2Cusername%2Cverified%2Cwithheld&max_results=1000&pagination_token=O7UESD762G2HAZZZ (Caused by NewConnectionError('<urllib3.connection.HTTPSConnection object at 0x142990eb0>: Failed to establish a new connection: [Errno 8] nodename nor servname provided, or not known'))\n",
      "caught requests exception: HTTPSConnectionPool(host='api.twitter.com', port=443): Max retries exceeded with url: /2/users/11673462/followers?tweet.fields=attachments%2Cauthor_id%2Ccontext_annotations%2Cconversation_id%2Ccreated_at%2Centities%2Cgeo%2Cid%2Cin_reply_to_user_id%2Clang%2Cpublic_metrics%2Ctext%2Cpossibly_sensitive%2Creferenced_tweets%2Creply_settings%2Csource%2Cwithheld%2Cedit_controls%2Cedit_history_tweet_ids&user.fields=created_at%2Cdescription%2Centities%2Cid%2Clocation%2Cname%2Cpinned_tweet_id%2Cprofile_image_url%2Cprotected%2Cpublic_metrics%2Curl%2Cusername%2Cverified%2Cwithheld&max_results=1000&pagination_token=O7UESD762G2HAZZZ (Caused by NewConnectionError('<urllib3.connection.HTTPSConnection object at 0x142993490>: Failed to establish a new connection: [Errno 8] nodename nor servname provided, or not known'))\n",
      "caught requests exception: HTTPSConnectionPool(host='api.twitter.com', port=443): Max retries exceeded with url: /2/users/11673462/followers?tweet.fields=attachments%2Cauthor_id%2Ccontext_annotations%2Cconversation_id%2Ccreated_at%2Centities%2Cgeo%2Cid%2Cin_reply_to_user_id%2Clang%2Cpublic_metrics%2Ctext%2Cpossibly_sensitive%2Creferenced_tweets%2Creply_settings%2Csource%2Cwithheld%2Cedit_controls%2Cedit_history_tweet_ids&user.fields=created_at%2Cdescription%2Centities%2Cid%2Clocation%2Cname%2Cpinned_tweet_id%2Cprofile_image_url%2Cprotected%2Cpublic_metrics%2Curl%2Cusername%2Cverified%2Cwithheld&max_results=1000&pagination_token=O7UESD762G2HAZZZ (Caused by NewConnectionError('<urllib3.connection.HTTPSConnection object at 0x142990790>: Failed to establish a new connection: [Errno 8] nodename nor servname provided, or not known'))\n",
      "caught requests exception: HTTPSConnectionPool(host='api.twitter.com', port=443): Max retries exceeded with url: /2/users/11673462/followers?tweet.fields=attachments%2Cauthor_id%2Ccontext_annotations%2Cconversation_id%2Ccreated_at%2Centities%2Cgeo%2Cid%2Cin_reply_to_user_id%2Clang%2Cpublic_metrics%2Ctext%2Cpossibly_sensitive%2Creferenced_tweets%2Creply_settings%2Csource%2Cwithheld%2Cedit_controls%2Cedit_history_tweet_ids&user.fields=created_at%2Cdescription%2Centities%2Cid%2Clocation%2Cname%2Cpinned_tweet_id%2Cprofile_image_url%2Cprotected%2Cpublic_metrics%2Curl%2Cusername%2Cverified%2Cwithheld&max_results=1000&pagination_token=O7UESD762G2HAZZZ (Caused by NewConnectionError('<urllib3.connection.HTTPSConnection object at 0x142990b20>: Failed to establish a new connection: [Errno 8] nodename nor servname provided, or not known'))\n",
      "caught requests exception: HTTPSConnectionPool(host='api.twitter.com', port=443): Max retries exceeded with url: /2/users/11673462/followers?tweet.fields=attachments%2Cauthor_id%2Ccontext_annotations%2Cconversation_id%2Ccreated_at%2Centities%2Cgeo%2Cid%2Cin_reply_to_user_id%2Clang%2Cpublic_metrics%2Ctext%2Cpossibly_sensitive%2Creferenced_tweets%2Creply_settings%2Csource%2Cwithheld%2Cedit_controls%2Cedit_history_tweet_ids&user.fields=created_at%2Cdescription%2Centities%2Cid%2Clocation%2Cname%2Cpinned_tweet_id%2Cprofile_image_url%2Cprotected%2Cpublic_metrics%2Curl%2Cusername%2Cverified%2Cwithheld&max_results=1000&pagination_token=O7UESD762G2HAZZZ (Caused by NewConnectionError('<urllib3.connection.HTTPSConnection object at 0x142990610>: Failed to establish a new connection: [Errno 8] nodename nor servname provided, or not known'))\n",
      "caught requests exception: HTTPSConnectionPool(host='api.twitter.com', port=443): Max retries exceeded with url: /2/users/11673462/followers?tweet.fields=attachments%2Cauthor_id%2Ccontext_annotations%2Cconversation_id%2Ccreated_at%2Centities%2Cgeo%2Cid%2Cin_reply_to_user_id%2Clang%2Cpublic_metrics%2Ctext%2Cpossibly_sensitive%2Creferenced_tweets%2Creply_settings%2Csource%2Cwithheld%2Cedit_controls%2Cedit_history_tweet_ids&user.fields=created_at%2Cdescription%2Centities%2Cid%2Clocation%2Cname%2Cpinned_tweet_id%2Cprofile_image_url%2Cprotected%2Cpublic_metrics%2Curl%2Cusername%2Cverified%2Cwithheld&max_results=1000&pagination_token=O7UESD762G2HAZZZ (Caused by NewConnectionError('<urllib3.connection.HTTPSConnection object at 0x142990f10>: Failed to establish a new connection: [Errno 8] nodename nor servname provided, or not known'))\n"
     ]
    },
    {
     "name": "stderr",
     "output_type": "stream",
     "text": [
      "caught requests exception: HTTPSConnectionPool(host='api.twitter.com', port=443): Max retries exceeded with url: /2/users/11673462/followers?tweet.fields=attachments%2Cauthor_id%2Ccontext_annotations%2Cconversation_id%2Ccreated_at%2Centities%2Cgeo%2Cid%2Cin_reply_to_user_id%2Clang%2Cpublic_metrics%2Ctext%2Cpossibly_sensitive%2Creferenced_tweets%2Creply_settings%2Csource%2Cwithheld%2Cedit_controls%2Cedit_history_tweet_ids&user.fields=created_at%2Cdescription%2Centities%2Cid%2Clocation%2Cname%2Cpinned_tweet_id%2Cprofile_image_url%2Cprotected%2Cpublic_metrics%2Curl%2Cusername%2Cverified%2Cwithheld&max_results=1000&pagination_token=O7UESD762G2HAZZZ (Caused by NewConnectionError('<urllib3.connection.HTTPSConnection object at 0x142990bb0>: Failed to establish a new connection: [Errno 8] nodename nor servname provided, or not known'))\n",
      "caught requests exception: HTTPSConnectionPool(host='api.twitter.com', port=443): Max retries exceeded with url: /2/users/11673462/followers?tweet.fields=attachments%2Cauthor_id%2Ccontext_annotations%2Cconversation_id%2Ccreated_at%2Centities%2Cgeo%2Cid%2Cin_reply_to_user_id%2Clang%2Cpublic_metrics%2Ctext%2Cpossibly_sensitive%2Creferenced_tweets%2Creply_settings%2Csource%2Cwithheld%2Cedit_controls%2Cedit_history_tweet_ids&user.fields=created_at%2Cdescription%2Centities%2Cid%2Clocation%2Cname%2Cpinned_tweet_id%2Cprofile_image_url%2Cprotected%2Cpublic_metrics%2Curl%2Cusername%2Cverified%2Cwithheld&max_results=1000&pagination_token=O7UESD762G2HAZZZ (Caused by NewConnectionError('<urllib3.connection.HTTPSConnection object at 0x142990610>: Failed to establish a new connection: [Errno 8] nodename nor servname provided, or not known'))\n",
      "caught requests exception: HTTPSConnectionPool(host='api.twitter.com', port=443): Max retries exceeded with url: /2/users/11673462/followers?tweet.fields=attachments%2Cauthor_id%2Ccontext_annotations%2Cconversation_id%2Ccreated_at%2Centities%2Cgeo%2Cid%2Cin_reply_to_user_id%2Clang%2Cpublic_metrics%2Ctext%2Cpossibly_sensitive%2Creferenced_tweets%2Creply_settings%2Csource%2Cwithheld%2Cedit_controls%2Cedit_history_tweet_ids&user.fields=created_at%2Cdescription%2Centities%2Cid%2Clocation%2Cname%2Cpinned_tweet_id%2Cprofile_image_url%2Cprotected%2Cpublic_metrics%2Curl%2Cusername%2Cverified%2Cwithheld&max_results=1000&pagination_token=O7UESD762G2HAZZZ (Caused by NewConnectionError('<urllib3.connection.HTTPSConnection object at 0x142990040>: Failed to establish a new connection: [Errno 8] nodename nor servname provided, or not known'))\n",
      "caught requests exception: HTTPSConnectionPool(host='api.twitter.com', port=443): Max retries exceeded with url: /2/users/11673462/followers?tweet.fields=attachments%2Cauthor_id%2Ccontext_annotations%2Cconversation_id%2Ccreated_at%2Centities%2Cgeo%2Cid%2Cin_reply_to_user_id%2Clang%2Cpublic_metrics%2Ctext%2Cpossibly_sensitive%2Creferenced_tweets%2Creply_settings%2Csource%2Cwithheld%2Cedit_controls%2Cedit_history_tweet_ids&user.fields=created_at%2Cdescription%2Centities%2Cid%2Clocation%2Cname%2Cpinned_tweet_id%2Cprofile_image_url%2Cprotected%2Cpublic_metrics%2Curl%2Cusername%2Cverified%2Cwithheld&max_results=1000&pagination_token=O7UESD762G2HAZZZ (Caused by NewConnectionError('<urllib3.connection.HTTPSConnection object at 0x142993d90>: Failed to establish a new connection: [Errno 8] nodename nor servname provided, or not known'))\n",
      "caught requests exception: HTTPSConnectionPool(host='api.twitter.com', port=443): Max retries exceeded with url: /2/users/11673462/followers?tweet.fields=attachments%2Cauthor_id%2Ccontext_annotations%2Cconversation_id%2Ccreated_at%2Centities%2Cgeo%2Cid%2Cin_reply_to_user_id%2Clang%2Cpublic_metrics%2Ctext%2Cpossibly_sensitive%2Creferenced_tweets%2Creply_settings%2Csource%2Cwithheld%2Cedit_controls%2Cedit_history_tweet_ids&user.fields=created_at%2Cdescription%2Centities%2Cid%2Clocation%2Cname%2Cpinned_tweet_id%2Cprofile_image_url%2Cprotected%2Cpublic_metrics%2Curl%2Cusername%2Cverified%2Cwithheld&max_results=1000&pagination_token=O7UESD762G2HAZZZ (Caused by NewConnectionError('<urllib3.connection.HTTPSConnection object at 0x142993910>: Failed to establish a new connection: [Errno 8] nodename nor servname provided, or not known'))\n",
      "caught requests exception: HTTPSConnectionPool(host='api.twitter.com', port=443): Max retries exceeded with url: /2/users/11673462/followers?tweet.fields=attachments%2Cauthor_id%2Ccontext_annotations%2Cconversation_id%2Ccreated_at%2Centities%2Cgeo%2Cid%2Cin_reply_to_user_id%2Clang%2Cpublic_metrics%2Ctext%2Cpossibly_sensitive%2Creferenced_tweets%2Creply_settings%2Csource%2Cwithheld%2Cedit_controls%2Cedit_history_tweet_ids&user.fields=created_at%2Cdescription%2Centities%2Cid%2Clocation%2Cname%2Cpinned_tweet_id%2Cprofile_image_url%2Cprotected%2Cpublic_metrics%2Curl%2Cusername%2Cverified%2Cwithheld&max_results=1000&pagination_token=O7UESD762G2HAZZZ (Caused by NewConnectionError('<urllib3.connection.HTTPSConnection object at 0x1429904f0>: Failed to establish a new connection: [Errno 8] nodename nor servname provided, or not known'))\n",
      "caught requests exception: HTTPSConnectionPool(host='api.twitter.com', port=443): Max retries exceeded with url: /2/users/11673462/followers?tweet.fields=attachments%2Cauthor_id%2Ccontext_annotations%2Cconversation_id%2Ccreated_at%2Centities%2Cgeo%2Cid%2Cin_reply_to_user_id%2Clang%2Cpublic_metrics%2Ctext%2Cpossibly_sensitive%2Creferenced_tweets%2Creply_settings%2Csource%2Cwithheld%2Cedit_controls%2Cedit_history_tweet_ids&user.fields=created_at%2Cdescription%2Centities%2Cid%2Clocation%2Cname%2Cpinned_tweet_id%2Cprofile_image_url%2Cprotected%2Cpublic_metrics%2Curl%2Cusername%2Cverified%2Cwithheld&max_results=1000&pagination_token=O7UESD762G2HAZZZ (Caused by NewConnectionError('<urllib3.connection.HTTPSConnection object at 0x142993400>: Failed to establish a new connection: [Errno 8] nodename nor servname provided, or not known'))\n",
      "caught requests exception: HTTPSConnectionPool(host='api.twitter.com', port=443): Max retries exceeded with url: /2/users/11673462/followers?tweet.fields=attachments%2Cauthor_id%2Ccontext_annotations%2Cconversation_id%2Ccreated_at%2Centities%2Cgeo%2Cid%2Cin_reply_to_user_id%2Clang%2Cpublic_metrics%2Ctext%2Cpossibly_sensitive%2Creferenced_tweets%2Creply_settings%2Csource%2Cwithheld%2Cedit_controls%2Cedit_history_tweet_ids&user.fields=created_at%2Cdescription%2Centities%2Cid%2Clocation%2Cname%2Cpinned_tweet_id%2Cprofile_image_url%2Cprotected%2Cpublic_metrics%2Curl%2Cusername%2Cverified%2Cwithheld&max_results=1000&pagination_token=O7UESD762G2HAZZZ (Caused by NewConnectionError('<urllib3.connection.HTTPSConnection object at 0x142991570>: Failed to establish a new connection: [Errno 8] nodename nor servname provided, or not known'))\n",
      "caught requests exception: HTTPSConnectionPool(host='api.twitter.com', port=443): Max retries exceeded with url: /2/users/11673462/followers?tweet.fields=attachments%2Cauthor_id%2Ccontext_annotations%2Cconversation_id%2Ccreated_at%2Centities%2Cgeo%2Cid%2Cin_reply_to_user_id%2Clang%2Cpublic_metrics%2Ctext%2Cpossibly_sensitive%2Creferenced_tweets%2Creply_settings%2Csource%2Cwithheld%2Cedit_controls%2Cedit_history_tweet_ids&user.fields=created_at%2Cdescription%2Centities%2Cid%2Clocation%2Cname%2Cpinned_tweet_id%2Cprofile_image_url%2Cprotected%2Cpublic_metrics%2Curl%2Cusername%2Cverified%2Cwithheld&max_results=1000&pagination_token=O7UESD762G2HAZZZ (Caused by NewConnectionError('<urllib3.connection.HTTPSConnection object at 0x142990670>: Failed to establish a new connection: [Errno 8] nodename nor servname provided, or not known'))\n",
      "caught requests exception: HTTPSConnectionPool(host='api.twitter.com', port=443): Max retries exceeded with url: /2/users/11673462/followers?tweet.fields=attachments%2Cauthor_id%2Ccontext_annotations%2Cconversation_id%2Ccreated_at%2Centities%2Cgeo%2Cid%2Cin_reply_to_user_id%2Clang%2Cpublic_metrics%2Ctext%2Cpossibly_sensitive%2Creferenced_tweets%2Creply_settings%2Csource%2Cwithheld%2Cedit_controls%2Cedit_history_tweet_ids&user.fields=created_at%2Cdescription%2Centities%2Cid%2Clocation%2Cname%2Cpinned_tweet_id%2Cprofile_image_url%2Cprotected%2Cpublic_metrics%2Curl%2Cusername%2Cverified%2Cwithheld&max_results=1000&pagination_token=O7UESD762G2HAZZZ (Caused by NewConnectionError('<urllib3.connection.HTTPSConnection object at 0x142993a90>: Failed to establish a new connection: [Errno 8] nodename nor servname provided, or not known'))\n"
     ]
    },
    {
     "name": "stderr",
     "output_type": "stream",
     "text": [
      "caught requests exception: HTTPSConnectionPool(host='api.twitter.com', port=443): Max retries exceeded with url: /2/users?tweet.fields=attachments%2Cauthor_id%2Ccontext_annotations%2Cconversation_id%2Ccreated_at%2Centities%2Cgeo%2Cid%2Cin_reply_to_user_id%2Clang%2Cpublic_metrics%2Ctext%2Cpossibly_sensitive%2Creferenced_tweets%2Creply_settings%2Csource%2Cwithheld%2Cedit_controls%2Cedit_history_tweet_ids&user.fields=created_at%2Cdescription%2Centities%2Cid%2Clocation%2Cname%2Cpinned_tweet_id%2Cprofile_image_url%2Cprotected%2Cpublic_metrics%2Curl%2Cusername%2Cverified%2Cwithheld&ids=1931749729 (Caused by NewConnectionError('<urllib3.connection.HTTPSConnection object at 0x142992230>: Failed to establish a new connection: [Errno 8] nodename nor servname provided, or not known'))\n"
     ]
    },
    {
     "name": "stdout",
     "output_type": "stream",
     "text": [
      "problème:  oliviertesquet\n"
     ]
    },
    {
     "name": "stderr",
     "output_type": "stream",
     "text": [
      "caught requests exception: HTTPSConnectionPool(host='api.twitter.com', port=443): Max retries exceeded with url: /2/users?tweet.fields=attachments%2Cauthor_id%2Ccontext_annotations%2Cconversation_id%2Ccreated_at%2Centities%2Cgeo%2Cid%2Cin_reply_to_user_id%2Clang%2Cpublic_metrics%2Ctext%2Cpossibly_sensitive%2Creferenced_tweets%2Creply_settings%2Csource%2Cwithheld%2Cedit_controls%2Cedit_history_tweet_ids&user.fields=created_at%2Cdescription%2Centities%2Cid%2Clocation%2Cname%2Cpinned_tweet_id%2Cprofile_image_url%2Cprotected%2Cpublic_metrics%2Curl%2Cusername%2Cverified%2Cwithheld&ids=1931749729 (Caused by NewConnectionError('<urllib3.connection.HTTPSConnection object at 0x1429931c0>: Failed to establish a new connection: [Errno 8] nodename nor servname provided, or not known'))\n",
      "caught requests exception: HTTPSConnectionPool(host='api.twitter.com', port=443): Max retries exceeded with url: /2/users?tweet.fields=attachments%2Cauthor_id%2Ccontext_annotations%2Cconversation_id%2Ccreated_at%2Centities%2Cgeo%2Cid%2Cin_reply_to_user_id%2Clang%2Cpublic_metrics%2Ctext%2Cpossibly_sensitive%2Creferenced_tweets%2Creply_settings%2Csource%2Cwithheld%2Cedit_controls%2Cedit_history_tweet_ids&user.fields=created_at%2Cdescription%2Centities%2Cid%2Clocation%2Cname%2Cpinned_tweet_id%2Cprofile_image_url%2Cprotected%2Cpublic_metrics%2Curl%2Cusername%2Cverified%2Cwithheld&ids=1931749729 (Caused by NewConnectionError('<urllib3.connection.HTTPSConnection object at 0x142992200>: Failed to establish a new connection: [Errno 8] nodename nor servname provided, or not known'))\n",
      "caught requests exception: HTTPSConnectionPool(host='api.twitter.com', port=443): Max retries exceeded with url: /2/users?tweet.fields=attachments%2Cauthor_id%2Ccontext_annotations%2Cconversation_id%2Ccreated_at%2Centities%2Cgeo%2Cid%2Cin_reply_to_user_id%2Clang%2Cpublic_metrics%2Ctext%2Cpossibly_sensitive%2Creferenced_tweets%2Creply_settings%2Csource%2Cwithheld%2Cedit_controls%2Cedit_history_tweet_ids&user.fields=created_at%2Cdescription%2Centities%2Cid%2Clocation%2Cname%2Cpinned_tweet_id%2Cprofile_image_url%2Cprotected%2Cpublic_metrics%2Curl%2Cusername%2Cverified%2Cwithheld&ids=1931749729 (Caused by NewConnectionError('<urllib3.connection.HTTPSConnection object at 0x142993be0>: Failed to establish a new connection: [Errno 8] nodename nor servname provided, or not known'))\n",
      "caught requests exception: HTTPSConnectionPool(host='api.twitter.com', port=443): Max retries exceeded with url: /2/users?tweet.fields=attachments%2Cauthor_id%2Ccontext_annotations%2Cconversation_id%2Ccreated_at%2Centities%2Cgeo%2Cid%2Cin_reply_to_user_id%2Clang%2Cpublic_metrics%2Ctext%2Cpossibly_sensitive%2Creferenced_tweets%2Creply_settings%2Csource%2Cwithheld%2Cedit_controls%2Cedit_history_tweet_ids&user.fields=created_at%2Cdescription%2Centities%2Cid%2Clocation%2Cname%2Cpinned_tweet_id%2Cprofile_image_url%2Cprotected%2Cpublic_metrics%2Curl%2Cusername%2Cverified%2Cwithheld&ids=1931749729 (Caused by NewConnectionError('<urllib3.connection.HTTPSConnection object at 0x142991b70>: Failed to establish a new connection: [Errno 8] nodename nor servname provided, or not known'))\n",
      "caught requests exception: HTTPSConnectionPool(host='api.twitter.com', port=443): Max retries exceeded with url: /2/users?tweet.fields=attachments%2Cauthor_id%2Ccontext_annotations%2Cconversation_id%2Ccreated_at%2Centities%2Cgeo%2Cid%2Cin_reply_to_user_id%2Clang%2Cpublic_metrics%2Ctext%2Cpossibly_sensitive%2Creferenced_tweets%2Creply_settings%2Csource%2Cwithheld%2Cedit_controls%2Cedit_history_tweet_ids&user.fields=created_at%2Cdescription%2Centities%2Cid%2Clocation%2Cname%2Cpinned_tweet_id%2Cprofile_image_url%2Cprotected%2Cpublic_metrics%2Curl%2Cusername%2Cverified%2Cwithheld&ids=1931749729 (Caused by NewConnectionError('<urllib3.connection.HTTPSConnection object at 0x142993df0>: Failed to establish a new connection: [Errno 8] nodename nor servname provided, or not known'))\n",
      "caught requests exception: HTTPSConnectionPool(host='api.twitter.com', port=443): Max retries exceeded with url: /2/users?tweet.fields=attachments%2Cauthor_id%2Ccontext_annotations%2Cconversation_id%2Ccreated_at%2Centities%2Cgeo%2Cid%2Cin_reply_to_user_id%2Clang%2Cpublic_metrics%2Ctext%2Cpossibly_sensitive%2Creferenced_tweets%2Creply_settings%2Csource%2Cwithheld%2Cedit_controls%2Cedit_history_tweet_ids&user.fields=created_at%2Cdescription%2Centities%2Cid%2Clocation%2Cname%2Cpinned_tweet_id%2Cprofile_image_url%2Cprotected%2Cpublic_metrics%2Curl%2Cusername%2Cverified%2Cwithheld&ids=1931749729 (Caused by NewConnectionError('<urllib3.connection.HTTPSConnection object at 0x1429928c0>: Failed to establish a new connection: [Errno 8] nodename nor servname provided, or not known'))\n",
      "caught requests exception: HTTPSConnectionPool(host='api.twitter.com', port=443): Max retries exceeded with url: /2/users?tweet.fields=attachments%2Cauthor_id%2Ccontext_annotations%2Cconversation_id%2Ccreated_at%2Centities%2Cgeo%2Cid%2Cin_reply_to_user_id%2Clang%2Cpublic_metrics%2Ctext%2Cpossibly_sensitive%2Creferenced_tweets%2Creply_settings%2Csource%2Cwithheld%2Cedit_controls%2Cedit_history_tweet_ids&user.fields=created_at%2Cdescription%2Centities%2Cid%2Clocation%2Cname%2Cpinned_tweet_id%2Cprofile_image_url%2Cprotected%2Cpublic_metrics%2Curl%2Cusername%2Cverified%2Cwithheld&ids=1931749729 (Caused by NewConnectionError('<urllib3.connection.HTTPSConnection object at 0x142990df0>: Failed to establish a new connection: [Errno 8] nodename nor servname provided, or not known'))\n",
      "caught requests exception: HTTPSConnectionPool(host='api.twitter.com', port=443): Max retries exceeded with url: /2/users?tweet.fields=attachments%2Cauthor_id%2Ccontext_annotations%2Cconversation_id%2Ccreated_at%2Centities%2Cgeo%2Cid%2Cin_reply_to_user_id%2Clang%2Cpublic_metrics%2Ctext%2Cpossibly_sensitive%2Creferenced_tweets%2Creply_settings%2Csource%2Cwithheld%2Cedit_controls%2Cedit_history_tweet_ids&user.fields=created_at%2Cdescription%2Centities%2Cid%2Clocation%2Cname%2Cpinned_tweet_id%2Cprofile_image_url%2Cprotected%2Cpublic_metrics%2Curl%2Cusername%2Cverified%2Cwithheld&ids=1931749729 (Caused by NewConnectionError('<urllib3.connection.HTTPSConnection object at 0x142990b80>: Failed to establish a new connection: [Errno 8] nodename nor servname provided, or not known'))\n",
      "caught requests exception: HTTPSConnectionPool(host='api.twitter.com', port=443): Max retries exceeded with url: /2/users?tweet.fields=attachments%2Cauthor_id%2Ccontext_annotations%2Cconversation_id%2Ccreated_at%2Centities%2Cgeo%2Cid%2Cin_reply_to_user_id%2Clang%2Cpublic_metrics%2Ctext%2Cpossibly_sensitive%2Creferenced_tweets%2Creply_settings%2Csource%2Cwithheld%2Cedit_controls%2Cedit_history_tweet_ids&user.fields=created_at%2Cdescription%2Centities%2Cid%2Clocation%2Cname%2Cpinned_tweet_id%2Cprofile_image_url%2Cprotected%2Cpublic_metrics%2Curl%2Cusername%2Cverified%2Cwithheld&ids=1931749729 (Caused by NewConnectionError('<urllib3.connection.HTTPSConnection object at 0x142990bb0>: Failed to establish a new connection: [Errno 8] nodename nor servname provided, or not known'))\n",
      "caught requests exception: HTTPSConnectionPool(host='api.twitter.com', port=443): Max retries exceeded with url: /2/users?tweet.fields=attachments%2Cauthor_id%2Ccontext_annotations%2Cconversation_id%2Ccreated_at%2Centities%2Cgeo%2Cid%2Cin_reply_to_user_id%2Clang%2Cpublic_metrics%2Ctext%2Cpossibly_sensitive%2Creferenced_tweets%2Creply_settings%2Csource%2Cwithheld%2Cedit_controls%2Cedit_history_tweet_ids&user.fields=created_at%2Cdescription%2Centities%2Cid%2Clocation%2Cname%2Cpinned_tweet_id%2Cprofile_image_url%2Cprotected%2Cpublic_metrics%2Curl%2Cusername%2Cverified%2Cwithheld&ids=1931749729 (Caused by NewConnectionError('<urllib3.connection.HTTPSConnection object at 0x142992710>: Failed to establish a new connection: [Errno 8] nodename nor servname provided, or not known'))\n",
      "caught requests exception: HTTPSConnectionPool(host='api.twitter.com', port=443): Max retries exceeded with url: /2/users?tweet.fields=attachments%2Cauthor_id%2Ccontext_annotations%2Cconversation_id%2Ccreated_at%2Centities%2Cgeo%2Cid%2Cin_reply_to_user_id%2Clang%2Cpublic_metrics%2Ctext%2Cpossibly_sensitive%2Creferenced_tweets%2Creply_settings%2Csource%2Cwithheld%2Cedit_controls%2Cedit_history_tweet_ids&user.fields=created_at%2Cdescription%2Centities%2Cid%2Clocation%2Cname%2Cpinned_tweet_id%2Cprofile_image_url%2Cprotected%2Cpublic_metrics%2Curl%2Cusername%2Cverified%2Cwithheld&ids=1931749729 (Caused by NewConnectionError('<urllib3.connection.HTTPSConnection object at 0x142990700>: Failed to establish a new connection: [Errno 8] nodename nor servname provided, or not known'))\n"
     ]
    },
    {
     "name": "stderr",
     "output_type": "stream",
     "text": [
      "caught requests exception: HTTPSConnectionPool(host='api.twitter.com', port=443): Max retries exceeded with url: /2/users?tweet.fields=attachments%2Cauthor_id%2Ccontext_annotations%2Cconversation_id%2Ccreated_at%2Centities%2Cgeo%2Cid%2Cin_reply_to_user_id%2Clang%2Cpublic_metrics%2Ctext%2Cpossibly_sensitive%2Creferenced_tweets%2Creply_settings%2Csource%2Cwithheld%2Cedit_controls%2Cedit_history_tweet_ids&user.fields=created_at%2Cdescription%2Centities%2Cid%2Clocation%2Cname%2Cpinned_tweet_id%2Cprofile_image_url%2Cprotected%2Cpublic_metrics%2Curl%2Cusername%2Cverified%2Cwithheld&ids=1931749729 (Caused by NewConnectionError('<urllib3.connection.HTTPSConnection object at 0x142990790>: Failed to establish a new connection: [Errno 8] nodename nor servname provided, or not known'))\n",
      "caught requests exception: HTTPSConnectionPool(host='api.twitter.com', port=443): Max retries exceeded with url: /2/users?tweet.fields=attachments%2Cauthor_id%2Ccontext_annotations%2Cconversation_id%2Ccreated_at%2Centities%2Cgeo%2Cid%2Cin_reply_to_user_id%2Clang%2Cpublic_metrics%2Ctext%2Cpossibly_sensitive%2Creferenced_tweets%2Creply_settings%2Csource%2Cwithheld%2Cedit_controls%2Cedit_history_tweet_ids&user.fields=created_at%2Cdescription%2Centities%2Cid%2Clocation%2Cname%2Cpinned_tweet_id%2Cprofile_image_url%2Cprotected%2Cpublic_metrics%2Curl%2Cusername%2Cverified%2Cwithheld&ids=1931749729 (Caused by NewConnectionError('<urllib3.connection.HTTPSConnection object at 0x142993970>: Failed to establish a new connection: [Errno 8] nodename nor servname provided, or not known'))\n",
      "caught requests exception: HTTPSConnectionPool(host='api.twitter.com', port=443): Max retries exceeded with url: /2/users?tweet.fields=attachments%2Cauthor_id%2Ccontext_annotations%2Cconversation_id%2Ccreated_at%2Centities%2Cgeo%2Cid%2Cin_reply_to_user_id%2Clang%2Cpublic_metrics%2Ctext%2Cpossibly_sensitive%2Creferenced_tweets%2Creply_settings%2Csource%2Cwithheld%2Cedit_controls%2Cedit_history_tweet_ids&user.fields=created_at%2Cdescription%2Centities%2Cid%2Clocation%2Cname%2Cpinned_tweet_id%2Cprofile_image_url%2Cprotected%2Cpublic_metrics%2Curl%2Cusername%2Cverified%2Cwithheld&ids=1931749729 (Caused by NewConnectionError('<urllib3.connection.HTTPSConnection object at 0x142993d90>: Failed to establish a new connection: [Errno 8] nodename nor servname provided, or not known'))\n",
      "caught requests exception: HTTPSConnectionPool(host='api.twitter.com', port=443): Max retries exceeded with url: /2/users?tweet.fields=attachments%2Cauthor_id%2Ccontext_annotations%2Cconversation_id%2Ccreated_at%2Centities%2Cgeo%2Cid%2Cin_reply_to_user_id%2Clang%2Cpublic_metrics%2Ctext%2Cpossibly_sensitive%2Creferenced_tweets%2Creply_settings%2Csource%2Cwithheld%2Cedit_controls%2Cedit_history_tweet_ids&user.fields=created_at%2Cdescription%2Centities%2Cid%2Clocation%2Cname%2Cpinned_tweet_id%2Cprofile_image_url%2Cprotected%2Cpublic_metrics%2Curl%2Cusername%2Cverified%2Cwithheld&ids=1931749729 (Caused by NewConnectionError('<urllib3.connection.HTTPSConnection object at 0x142993370>: Failed to establish a new connection: [Errno 8] nodename nor servname provided, or not known'))\n",
      "caught requests exception: HTTPSConnectionPool(host='api.twitter.com', port=443): Max retries exceeded with url: /2/users?tweet.fields=attachments%2Cauthor_id%2Ccontext_annotations%2Cconversation_id%2Ccreated_at%2Centities%2Cgeo%2Cid%2Cin_reply_to_user_id%2Clang%2Cpublic_metrics%2Ctext%2Cpossibly_sensitive%2Creferenced_tweets%2Creply_settings%2Csource%2Cwithheld%2Cedit_controls%2Cedit_history_tweet_ids&user.fields=created_at%2Cdescription%2Centities%2Cid%2Clocation%2Cname%2Cpinned_tweet_id%2Cprofile_image_url%2Cprotected%2Cpublic_metrics%2Curl%2Cusername%2Cverified%2Cwithheld&ids=1931749729 (Caused by NewConnectionError('<urllib3.connection.HTTPSConnection object at 0x142992ad0>: Failed to establish a new connection: [Errno 8] nodename nor servname provided, or not known'))\n",
      "caught requests exception: HTTPSConnectionPool(host='api.twitter.com', port=443): Max retries exceeded with url: /2/users?tweet.fields=attachments%2Cauthor_id%2Ccontext_annotations%2Cconversation_id%2Ccreated_at%2Centities%2Cgeo%2Cid%2Cin_reply_to_user_id%2Clang%2Cpublic_metrics%2Ctext%2Cpossibly_sensitive%2Creferenced_tweets%2Creply_settings%2Csource%2Cwithheld%2Cedit_controls%2Cedit_history_tweet_ids&user.fields=created_at%2Cdescription%2Centities%2Cid%2Clocation%2Cname%2Cpinned_tweet_id%2Cprofile_image_url%2Cprotected%2Cpublic_metrics%2Curl%2Cusername%2Cverified%2Cwithheld&ids=1931749729 (Caused by NewConnectionError('<urllib3.connection.HTTPSConnection object at 0x1429903a0>: Failed to establish a new connection: [Errno 8] nodename nor servname provided, or not known'))\n",
      "caught requests exception: HTTPSConnectionPool(host='api.twitter.com', port=443): Max retries exceeded with url: /2/users?tweet.fields=attachments%2Cauthor_id%2Ccontext_annotations%2Cconversation_id%2Ccreated_at%2Centities%2Cgeo%2Cid%2Cin_reply_to_user_id%2Clang%2Cpublic_metrics%2Ctext%2Cpossibly_sensitive%2Creferenced_tweets%2Creply_settings%2Csource%2Cwithheld%2Cedit_controls%2Cedit_history_tweet_ids&user.fields=created_at%2Cdescription%2Centities%2Cid%2Clocation%2Cname%2Cpinned_tweet_id%2Cprofile_image_url%2Cprotected%2Cpublic_metrics%2Curl%2Cusername%2Cverified%2Cwithheld&ids=1931749729 (Caused by NewConnectionError('<urllib3.connection.HTTPSConnection object at 0x142990ca0>: Failed to establish a new connection: [Errno 8] nodename nor servname provided, or not known'))\n",
      "caught requests exception: HTTPSConnectionPool(host='api.twitter.com', port=443): Max retries exceeded with url: /2/users?tweet.fields=attachments%2Cauthor_id%2Ccontext_annotations%2Cconversation_id%2Ccreated_at%2Centities%2Cgeo%2Cid%2Cin_reply_to_user_id%2Clang%2Cpublic_metrics%2Ctext%2Cpossibly_sensitive%2Creferenced_tweets%2Creply_settings%2Csource%2Cwithheld%2Cedit_controls%2Cedit_history_tweet_ids&user.fields=created_at%2Cdescription%2Centities%2Cid%2Clocation%2Cname%2Cpinned_tweet_id%2Cprofile_image_url%2Cprotected%2Cpublic_metrics%2Curl%2Cusername%2Cverified%2Cwithheld&ids=1931749729 (Caused by NewConnectionError('<urllib3.connection.HTTPSConnection object at 0x142993190>: Failed to establish a new connection: [Errno 8] nodename nor servname provided, or not known'))\n",
      "caught requests exception: HTTPSConnectionPool(host='api.twitter.com', port=443): Max retries exceeded with url: /2/users?tweet.fields=attachments%2Cauthor_id%2Ccontext_annotations%2Cconversation_id%2Ccreated_at%2Centities%2Cgeo%2Cid%2Cin_reply_to_user_id%2Clang%2Cpublic_metrics%2Ctext%2Cpossibly_sensitive%2Creferenced_tweets%2Creply_settings%2Csource%2Cwithheld%2Cedit_controls%2Cedit_history_tweet_ids&user.fields=created_at%2Cdescription%2Centities%2Cid%2Clocation%2Cname%2Cpinned_tweet_id%2Cprofile_image_url%2Cprotected%2Cpublic_metrics%2Curl%2Cusername%2Cverified%2Cwithheld&ids=1931749729 (Caused by NewConnectionError('<urllib3.connection.HTTPSConnection object at 0x1429928f0>: Failed to establish a new connection: [Errno 8] nodename nor servname provided, or not known'))\n",
      "caught requests exception: HTTPSConnectionPool(host='api.twitter.com', port=443): Max retries exceeded with url: /2/users?tweet.fields=attachments%2Cauthor_id%2Ccontext_annotations%2Cconversation_id%2Ccreated_at%2Centities%2Cgeo%2Cid%2Cin_reply_to_user_id%2Clang%2Cpublic_metrics%2Ctext%2Cpossibly_sensitive%2Creferenced_tweets%2Creply_settings%2Csource%2Cwithheld%2Cedit_controls%2Cedit_history_tweet_ids&user.fields=created_at%2Cdescription%2Centities%2Cid%2Clocation%2Cname%2Cpinned_tweet_id%2Cprofile_image_url%2Cprotected%2Cpublic_metrics%2Curl%2Cusername%2Cverified%2Cwithheld&ids=1931749729 (Caused by NewConnectionError('<urllib3.connection.HTTPSConnection object at 0x142991ed0>: Failed to establish a new connection: [Errno 8] nodename nor servname provided, or not known'))\n",
      "caught requests exception: HTTPSConnectionPool(host='api.twitter.com', port=443): Max retries exceeded with url: /2/users?tweet.fields=attachments%2Cauthor_id%2Ccontext_annotations%2Cconversation_id%2Ccreated_at%2Centities%2Cgeo%2Cid%2Cin_reply_to_user_id%2Clang%2Cpublic_metrics%2Ctext%2Cpossibly_sensitive%2Creferenced_tweets%2Creply_settings%2Csource%2Cwithheld%2Cedit_controls%2Cedit_history_tweet_ids&user.fields=created_at%2Cdescription%2Centities%2Cid%2Clocation%2Cname%2Cpinned_tweet_id%2Cprofile_image_url%2Cprotected%2Cpublic_metrics%2Curl%2Cusername%2Cverified%2Cwithheld&ids=1931749729 (Caused by NewConnectionError('<urllib3.connection.HTTPSConnection object at 0x142993010>: Failed to establish a new connection: [Errno 8] nodename nor servname provided, or not known'))\n"
     ]
    },
    {
     "name": "stdout",
     "output_type": "stream",
     "text": [
      "Pr1323 ok 49\n",
      "for_pedestrians ok 361\n",
      "Benjamin_Badia ok 101\n",
      "CleoCZ ok 3328\n",
      "PhCourcier ok 2440\n",
      "problème:  FauvreLeonie\n",
      "problème:  lauregmbl\n",
      "tokvil ok 112\n",
      "CLeLudec ok 436\n",
      "MonaMenadi ok 69\n"
     ]
    },
    {
     "name": "stderr",
     "output_type": "stream",
     "text": [
      "rate limit exceeded: sleeping 896.3083920478821 secs\n"
     ]
    },
    {
     "name": "stdout",
     "output_type": "stream",
     "text": [
      "AgentNum ok 3448\n",
      "hhheetttth ok 42\n",
      "Scpo_de_vin ok 123\n",
      "xenakizh ok 100\n",
      "apallisser ok 274\n",
      "AntidoteEss ok 514\n",
      "SRutard_DirDD ok 427\n",
      "vlt_marie ok 1\n",
      "problème:  m__sukmana\n",
      "ANGELNELEFORMAL ok 945\n",
      "kosmographe ok 32\n"
     ]
    },
    {
     "name": "stderr",
     "output_type": "stream",
     "text": [
      "rate limit exceeded: sleeping 897.9108211994171 secs\n"
     ]
    },
    {
     "name": "stdout",
     "output_type": "stream",
     "text": [
      "LaurentCab ok 2080\n",
      "tuba_lyon ok 7262\n",
      "Alex_BERREBI ok 126\n",
      "jsbtweet ok 276\n",
      "rgbetancourt ok 2700\n"
     ]
    },
    {
     "name": "stderr",
     "output_type": "stream",
     "text": [
      "rate limit exceeded: sleeping 891.9180889129639 secs\n"
     ]
    },
    {
     "name": "stdout",
     "output_type": "stream",
     "text": [
      "ltoustou ok 491\n",
      "CogitatioUP ok 2913\n",
      "EnricoPanai ok 343\n",
      "Ypac_ ok 72\n",
      "grognon_dogon ok 126\n",
      "Petitmoineau2 ok 47\n",
      "benotlopez1 ok 705\n",
      "SuVergnolle ok 2682\n",
      "FestivalNumok ok 1620\n",
      "problème:  theamazingnjut\n"
     ]
    },
    {
     "name": "stderr",
     "output_type": "stream",
     "text": [
      "rate limit exceeded: sleeping 895.3229529857635 secs\n"
     ]
    },
    {
     "name": "stdout",
     "output_type": "stream",
     "text": [
      "CaterinaFroio ok 4925\n",
      "rpmanon ok 41\n",
      "mthdlon ok 67\n",
      "RemiDhalluin ok 1539\n",
      "LesPrototypeurs ok 11\n",
      "A_Moultala ok 41\n",
      "martinesavary ok 947\n",
      "CarlitoPadrino ok 12\n",
      "TimpeNico ok 48\n",
      "Orlane_J ok 496\n"
     ]
    },
    {
     "name": "stderr",
     "output_type": "stream",
     "text": [
      "rate limit exceeded: sleeping 896.1513679027557 secs\n"
     ]
    },
    {
     "name": "stdout",
     "output_type": "stream",
     "text": [
      "problème:  julietteynv\n",
      "ThomasLeCour ok 3163\n",
      "marie__gibert ok 534\n",
      "cottinstef ok 3737\n",
      "damdam41 ok 367\n",
      "AnnaCristofol ok 10\n",
      "AntoineGrange74 ok 281\n",
      "b_mesnel ok 133\n",
      "atopos6 ok 253\n"
     ]
    },
    {
     "name": "stderr",
     "output_type": "stream",
     "text": [
      "rate limit exceeded: sleeping 895.1782259941101 secs\n"
     ]
    },
    {
     "name": "stdout",
     "output_type": "stream",
     "text": [
      "JulienNocetti ok 3410\n",
      "CesarBouvet ok 2165\n",
      "ML_Mangilli_D ok 177\n",
      "uca1406 ok 39\n",
      "problème:  Loiselyo1\n",
      "tramwayoflife ok 26\n",
      "problème:  MartinBagnol\n",
      "problème:  anq_vincent\n",
      "10plus1questio1 ok 349\n",
      "ACoiffard ok 522\n"
     ]
    },
    {
     "name": "stderr",
     "output_type": "stream",
     "text": [
      "rate limit exceeded: sleeping 898.5641150474548 secs\n"
     ]
    },
    {
     "name": "stdout",
     "output_type": "stream",
     "text": [
      "tomchampas ok 560\n",
      "JeremyPaoloni ok 1065\n",
      "bastdcr ok 198\n",
      "Emilie_Le_Fur ok 1496\n",
      "JeanloupDelmas ok 2224\n",
      "JebLamarck ok 664\n",
      "violettevyr ok 140\n",
      "louisevialard ok 910\n",
      "MartheViallet ok 839\n",
      "problème:  tonton_ty\n"
     ]
    },
    {
     "name": "stderr",
     "output_type": "stream",
     "text": [
      "rate limit exceeded: sleeping 894.0880420207977 secs\n",
      "rate limit exceeded: sleeping 890.452474117279 secs\n",
      "caught 503 from Twitter API, sleeping 1\n",
      "caught 503 from Twitter API, sleeping 1\n",
      "caught 503 from Twitter API, sleeping 1\n",
      "caught 503 from Twitter API, sleeping 4\n",
      "caught 503 from Twitter API, sleeping 9\n",
      "caught 503 from Twitter API, sleeping 1\n",
      "caught 503 from Twitter API, sleeping 4\n",
      "caught 503 from Twitter API, sleeping 1\n",
      "rate limit exceeded: sleeping 852.4304540157318 secs\n",
      "rate limit exceeded: sleeping 888.6803069114685 secs\n",
      "rate limit exceeded: sleeping 889.0989282131195 secs\n",
      "rate limit exceeded: sleeping 888.6433019638062 secs\n",
      "rate limit exceeded: sleeping 890.3096880912781 secs\n",
      "rate limit exceeded: sleeping 889.264909029007 secs\n",
      "rate limit exceeded: sleeping 890.1673491001129 secs\n",
      "rate limit exceeded: sleeping 890.1380858421326 secs\n",
      "rate limit exceeded: sleeping 888.9931268692017 secs\n"
     ]
    },
    {
     "name": "stdout",
     "output_type": "stream",
     "text": [
      "sciencespo ok 145948\n",
      "BeerBergman ok 4256\n",
      "krapinskii ok 184\n",
      "Koumoul_fr ok 529\n",
      "antoinegosnet ok 154\n",
      "OpBlz ok 139\n",
      "NInstalle ok 471\n",
      "s_perrault ok 431\n"
     ]
    },
    {
     "name": "stderr",
     "output_type": "stream",
     "text": [
      "rate limit exceeded: sleeping 891.48490691185 secs\n"
     ]
    },
    {
     "name": "stdout",
     "output_type": "stream",
     "text": [
      "Contemporaliis2 ok 188\n",
      "Cornelia_Woll ok 5230\n",
      "IPailliart ok 501\n",
      "dabluebag ok 415\n",
      "gsouleres ok 342\n",
      "castelblah ok 44\n",
      "LuOesch ok 673\n",
      "doctoratsauvage ok 389\n",
      "Clemencefcn ok 23\n",
      "ardunea ok 1649\n"
     ]
    },
    {
     "name": "stderr",
     "output_type": "stream",
     "text": [
      "rate limit exceeded: sleeping 893.1770560741425 secs\n"
     ]
    },
    {
     "name": "stdout",
     "output_type": "stream",
     "text": [
      "MatthieuChauve1 ok 850\n",
      "fiobourgeois ok 543\n",
      "Eva_Poration ok 2978\n",
      "LCoromines ok 319\n",
      "charuggeri ok 2480\n",
      "Anjn_m ok 13\n",
      "felicitylab ok 211\n",
      "carolinelebrard ok 279\n",
      "David_Lavaud ok 926\n",
      "mathilde_abel ok 155\n",
      "Pleo_nasme ok 236\n"
     ]
    },
    {
     "name": "stderr",
     "output_type": "stream",
     "text": [
      "rate limit exceeded: sleeping 893.0823800563812 secs\n"
     ]
    },
    {
     "name": "stdout",
     "output_type": "stream",
     "text": [
      "SouenL ok 464\n",
      "BanulsJustine ok 245\n",
      "VincentCourson ok 4991\n",
      "mat55403703 ok 10\n",
      "phil_lefevre ok 637\n",
      "C_LeqRth ok 2421\n",
      "Cilce ok 137\n",
      "Laguigne77 ok 333\n"
     ]
    },
    {
     "name": "stderr",
     "output_type": "stream",
     "text": [
      "rate limit exceeded: sleeping 891.7694509029388 secs\n"
     ]
    },
    {
     "name": "stdout",
     "output_type": "stream",
     "text": [
      "benoit_ribon ok 1012\n",
      "franetibe ok 306\n",
      "emelinecomby ok 1587\n",
      "Georges_Fresh ok 206\n",
      "ClavierFabien ok 225\n",
      "BonneCage ok 551\n",
      "hugohanr ok 4883\n",
      "problème:  CarmenSCH8\n"
     ]
    },
    {
     "name": "stderr",
     "output_type": "stream",
     "text": [
      "rate limit exceeded: sleeping 894.1969978809357 secs\n"
     ]
    },
    {
     "name": "stdout",
     "output_type": "stream",
     "text": [
      "cybunk ok 2284\n",
      "initialsgd ok 662\n",
      "GALG_fr ok 171\n",
      "umr_lisis ok 351\n",
      "PublicFactoryFR ok 295\n"
     ]
    },
    {
     "name": "stderr",
     "output_type": "stream",
     "text": [
      "rate limit exceeded: sleeping 891.6526730060577 secs\n"
     ]
    },
    {
     "name": "stdout",
     "output_type": "stream",
     "text": [
      "christianpaul58 ok 17523\n"
     ]
    },
    {
     "name": "stderr",
     "output_type": "stream",
     "text": [
      "rate limit exceeded: sleeping 888.4934709072113 secs\n",
      "rate limit exceeded: sleeping 888.0176260471344 secs\n"
     ]
    },
    {
     "name": "stdout",
     "output_type": "stream",
     "text": [
      "cmoreldarleux ok 21794\n",
      "JohnDoeConnor ok 31\n",
      "mirriro ok 48\n",
      "AssiaWirth ok 300\n",
      "problème:  DylanChm\n",
      "emile_marzolf ok 4058\n",
      "EmmanuelRMartin ok 3493\n",
      "der_curtis ok 832\n"
     ]
    },
    {
     "name": "stderr",
     "output_type": "stream",
     "text": [
      "rate limit exceeded: sleeping 893.7967350482941 secs\n"
     ]
    },
    {
     "name": "stdout",
     "output_type": "stream",
     "text": [
      "Florent__Sch ok 1519\n",
      "VCodaccioni ok 10138\n",
      "michelcloup ok 1749\n"
     ]
    },
    {
     "name": "stderr",
     "output_type": "stream",
     "text": [
      "rate limit exceeded: sleeping 890.4609091281891 secs\n"
     ]
    },
    {
     "name": "stdout",
     "output_type": "stream",
     "text": [
      "PecqueuxA ok 3265\n"
     ]
    },
    {
     "name": "stderr",
     "output_type": "stream",
     "text": [
      "rate limit exceeded: sleeping 891.0963649749756 secs\n"
     ]
    },
    {
     "name": "stdout",
     "output_type": "stream",
     "text": [
      "michtosincere ok 20923\n",
      "AnDurovic ok 565\n",
      "clemweber ok 941\n",
      "CelineGeissmann ok 1840\n",
      "manon_laugaa ok 21\n"
     ]
    },
    {
     "name": "stderr",
     "output_type": "stream",
     "text": [
      "rate limit exceeded: sleeping 891.5453410148621 secs\n"
     ]
    },
    {
     "name": "stdout",
     "output_type": "stream",
     "text": [
      "Petit_Gibus_ ok 32\n",
      "Sapiamama ok 48\n",
      "Balorc ok 78\n",
      "elena_scappa ok 1577\n",
      "theojov ok 52\n",
      "jlgagnol ok 320\n",
      "kkh148 ok 170\n",
      "andrea_crafty ok 170\n",
      "epmrio ok 34\n",
      "Alaesus ok 222\n",
      "veillecnil ok 4\n",
      "DataEnquete ok 5\n",
      "jognol ok 101\n",
      "scity_lab ok 686\n"
     ]
    },
    {
     "name": "stderr",
     "output_type": "stream",
     "text": [
      "rate limit exceeded: sleeping 897.6599490642548 secs\n"
     ]
    },
    {
     "name": "stdout",
     "output_type": "stream",
     "text": [
      "_BmAS_ ok 2094\n",
      "SANANDA275 ok 2715\n",
      "EmmaSBenassi ok 721\n",
      "AymericMlo ok 1573\n"
     ]
    },
    {
     "name": "stderr",
     "output_type": "stream",
     "text": [
      "rate limit exceeded: sleeping 890.1769118309021 secs\n"
     ]
    },
    {
     "name": "stdout",
     "output_type": "stream",
     "text": [
      "SciencesPo_CEE ok 6356\n",
      "StephaneGarde ok 847\n",
      "Superdemain ok 2380\n",
      "Onecub ok 1879\n",
      "apparente59 ok 24\n",
      "QPanissod ok 2031\n",
      "ClaraLatimier ok 29\n",
      "VivonsPoitou ok 5\n",
      "goldbergaetan ok 1035\n",
      "twytof ok 731\n"
     ]
    },
    {
     "name": "stderr",
     "output_type": "stream",
     "text": [
      "rate limit exceeded: sleeping 894.3323180675507 secs\n"
     ]
    },
    {
     "name": "stdout",
     "output_type": "stream",
     "text": [
      "matej_palenik ok 65\n",
      "julienrossi ok 484\n",
      "MNoel75 ok 1123\n",
      "problème:  Geekelle\n",
      "UnDecencyPod ok 1903\n",
      "emma__gauthier ok 325\n",
      "problème:  lienfaible507\n",
      "SoccavoL ok 1413\n",
      "fpaupier ok 84\n",
      "EstelleHary ok 973\n",
      "PluralityU ok 1707\n"
     ]
    },
    {
     "name": "stderr",
     "output_type": "stream",
     "text": [
      "rate limit exceeded: sleeping 894.6990480422974 secs\n"
     ]
    },
    {
     "name": "stdout",
     "output_type": "stream",
     "text": [
      "AnneRumin ok 766\n",
      "marcteyssier ok 1287\n",
      "Mathilde__A ok 286\n",
      "annecordier ok 8004\n"
     ]
    },
    {
     "name": "stderr",
     "output_type": "stream",
     "text": [
      "rate limit exceeded: sleeping 890.8628840446472 secs\n"
     ]
    },
    {
     "name": "stdout",
     "output_type": "stream",
     "text": [
      "SDubuissonquell ok 2349\n",
      "MaxVincentOFF ok 24\n",
      "yuckiki ok 77\n",
      "MRecoquille ok 653\n",
      "problème:  cassiocampos\n",
      "marineloyen ok 690\n",
      "CarolaMoujan ok 766\n",
      "MjPeltenburg ok 205\n"
     ]
    },
    {
     "name": "stderr",
     "output_type": "stream",
     "text": [
      "rate limit exceeded: sleeping 892.6827719211578 secs\n"
     ]
    },
    {
     "name": "stdout",
     "output_type": "stream",
     "text": [
      "PierreWouters ok 6981\n",
      "Simon_PiYv ok 50\n",
      "CLandomiel ok 3625\n",
      "Hettarym ok 16\n",
      "geoffrooy ok 2506\n",
      "nuriaconforto ok 128\n",
      "oliverrack ok 1364\n"
     ]
    },
    {
     "name": "stderr",
     "output_type": "stream",
     "text": [
      "rate limit exceeded: sleeping 891.9249839782715 secs\n"
     ]
    },
    {
     "name": "stdout",
     "output_type": "stream",
     "text": [
      "Shadok_eu ok 3492\n",
      "BruCousin ok 1323\n",
      "problème:  NthBrr\n",
      "simplon_idf ok 669\n",
      "HenriLarmaraud ok 289\n",
      "FEcormierNocca ok 331\n",
      "AchilleNevers ok 1385\n",
      "villehybride ok 2312\n",
      "sofiawickberg ok 593\n",
      "GingerBluefr ok 355\n",
      "JMazilier ok 37\n"
     ]
    },
    {
     "name": "stderr",
     "output_type": "stream",
     "text": [
      "rate limit exceeded: sleeping 889.6739280223846 secs\n"
     ]
    },
    {
     "name": "stdout",
     "output_type": "stream",
     "text": [
      "benJBmC ok 473\n",
      "CafeUrbareims ok 235\n",
      "HubOpenSource ok 1736\n",
      "macgraveur ok 2150\n",
      "CleoCollomb ok 918\n",
      "LeuLeudo ok 803\n",
      "tgerbaud ok 1166\n",
      "nostable ok 43\n",
      "_nicrobe_ ok 1\n"
     ]
    },
    {
     "name": "stderr",
     "output_type": "stream",
     "text": [
      "rate limit exceeded: sleeping 893.0688059329987 secs\n"
     ]
    },
    {
     "name": "stdout",
     "output_type": "stream",
     "text": [
      "fcuignet ok 1895\n",
      "AsophieCatalan ok 49\n",
      "DoraCrisan ok 315\n",
      "mglorion ok 508\n",
      "C_Abrassart ok 991\n",
      "EmilieAudib ok 26\n",
      "damienjacob ok 976\n",
      "MalpartLea ok 2048\n",
      "NoemieLe20 ok 208\n",
      "LoBoulay ok 846\n"
     ]
    },
    {
     "name": "stderr",
     "output_type": "stream",
     "text": [
      "rate limit exceeded: sleeping 892.7027478218079 secs\n"
     ]
    },
    {
     "name": "stdout",
     "output_type": "stream",
     "text": [
      "fbocquet ok 8161\n",
      "francepierre ok 6046\n",
      "cteychene ok 425\n",
      "Data_Terra ok 62\n",
      "luciemarchais ok 196\n"
     ]
    },
    {
     "name": "stderr",
     "output_type": "stream",
     "text": [
      "rate limit exceeded: sleeping 892.20134806633 secs\n",
      "rate limit exceeded: sleeping 887.9550349712372 secs\n"
     ]
    },
    {
     "name": "stdout",
     "output_type": "stream",
     "text": [
      "szadkowski_m ok 22513\n",
      "lionelcapel ok 1179\n"
     ]
    },
    {
     "name": "stderr",
     "output_type": "stream",
     "text": [
      "rate limit exceeded: sleeping 888.8257069587708 secs\n"
     ]
    },
    {
     "name": "stdout",
     "output_type": "stream",
     "text": [
      "judithduportail ok 18620\n"
     ]
    },
    {
     "name": "stderr",
     "output_type": "stream",
     "text": [
      "rate limit exceeded: sleeping 886.2706120014191 secs\n"
     ]
    },
    {
     "name": "stdout",
     "output_type": "stream",
     "text": [
      "nicolas_chavent ok 2508\n",
      "privacy_data ok 1107\n",
      "Granchacrafree ok 458\n",
      "MGMETRAUX ok 326\n",
      "problème:  solherm\n",
      "Olivier_Aubert ok 410\n",
      "Rob1Grassi ok 607\n",
      "mate_shs_cnrs ok 792\n",
      "Sixiao5 ok 94\n",
      "valgotgot ok 497\n",
      "AgatheMellon ok 57\n",
      "aymeric_vivier ok 52\n"
     ]
    },
    {
     "name": "stderr",
     "output_type": "stream",
     "text": [
      "rate limit exceeded: sleeping 894.7515330314636 secs\n",
      "rate limit exceeded: sleeping 887.3097910881042 secs\n",
      "rate limit exceeded: sleeping 886.8475849628448 secs\n"
     ]
    },
    {
     "name": "stdout",
     "output_type": "stream",
     "text": [
      "LionelREICHARDT ok 44362\n"
     ]
    },
    {
     "name": "stderr",
     "output_type": "stream",
     "text": [
      "rate limit exceeded: sleeping 888.5151770114899 secs\n"
     ]
    },
    {
     "name": "stdout",
     "output_type": "stream",
     "text": [
      "poupouleteam ok 20\n",
      "ihedate ok 981\n",
      "em3xx ok 29\n",
      "arnautd21 ok 39\n",
      "tomawak72 ok 170\n",
      "eleho_p ok 43\n",
      "matthsar ok 61\n",
      "Maxime_gi ok 126\n"
     ]
    },
    {
     "name": "stderr",
     "output_type": "stream",
     "text": [
      "rate limit exceeded: sleeping 893.1874089241028 secs\n",
      "rate limit exceeded: sleeping 886.8936388492584 secs\n"
     ]
    },
    {
     "name": "stdout",
     "output_type": "stream",
     "text": [
      "IfmParis ok 27342\n",
      "XavierBerger27 ok 14\n",
      "lawupsociety ok 231\n",
      "KhadijaTig ok 2003\n",
      "FrancoisMorlet ok 218\n",
      "linecefaivre ok 2725\n"
     ]
    },
    {
     "name": "stderr",
     "output_type": "stream",
     "text": [
      "rate limit exceeded: sleeping 891.4765570163727 secs\n"
     ]
    },
    {
     "name": "stdout",
     "output_type": "stream",
     "text": [
      "PickMeUpAL ok 2206\n",
      "tiropcom ok 206\n",
      "RPeyriguere ok 10\n",
      "aArchitecton ok 289\n",
      "esterabadau ok 177\n",
      "MattRiMo ok 1483\n",
      "problème:  Gaucher_L\n",
      "L_DellaTorre ok 63\n",
      "MariLeBechec ok 681\n",
      "J_C_Barrios ok 74\n",
      "GTrottmann ok 645\n",
      "laurent_guigue ok 334\n"
     ]
    },
    {
     "name": "stderr",
     "output_type": "stream",
     "text": [
      "rate limit exceeded: sleeping 894.769345998764 secs\n"
     ]
    },
    {
     "name": "stdout",
     "output_type": "stream",
     "text": [
      "benjaminhue ok 2322\n",
      "MartiniBieri ok 274\n"
     ]
    },
    {
     "name": "stderr",
     "output_type": "stream",
     "text": [
      "rate limit exceeded: sleeping 888.4393148422241 secs\n",
      "rate limit exceeded: sleeping 889.3210890293121 secs\n",
      "rate limit exceeded: sleeping 888.2918720245361 secs\n",
      "rate limit exceeded: sleeping 890.0241558551788 secs\n",
      "rate limit exceeded: sleeping 890.71413397789 secs\n",
      "rate limit exceeded: sleeping 889.014358997345 secs\n",
      "rate limit exceeded: sleeping 888.2776350975037 secs\n",
      "rate limit exceeded: sleeping 887.3478989601135 secs\n",
      "rate limit exceeded: sleeping 886.3876841068268 secs\n",
      "rate limit exceeded: sleeping 885.821408033371 secs\n"
     ]
    },
    {
     "name": "stdout",
     "output_type": "stream",
     "text": [
      "vincentglad ok 160506\n"
     ]
    },
    {
     "name": "stderr",
     "output_type": "stream",
     "text": [
      "rate limit exceeded: sleeping 888.3082618713379 secs\n"
     ]
    },
    {
     "name": "stdout",
     "output_type": "stream",
     "text": [
      "problème:  vecartier\n",
      "nathanelamarHK ok 806\n",
      "Gerome_Truc ok 4109\n",
      "laura4lano ok 5291\n",
      "DerouesMargaux ok 11\n",
      "Rpasquie ok 1735\n"
     ]
    },
    {
     "name": "stderr",
     "output_type": "stream",
     "text": [
      "rate limit exceeded: sleeping 887.4233331680298 secs\n"
     ]
    },
    {
     "name": "stdout",
     "output_type": "stream",
     "text": [
      "problème:  poli_jacques\n"
     ]
    },
    {
     "name": "stderr",
     "output_type": "stream",
     "text": [
      "rate limit exceeded: sleeping 888.3964469432831 secs\n",
      "rate limit exceeded: sleeping 888.1431119441986 secs\n",
      "rate limit exceeded: sleeping 888.7347021102905 secs\n",
      "rate limit exceeded: sleeping 887.3354070186615 secs\n"
     ]
    },
    {
     "name": "stdout",
     "output_type": "stream",
     "text": [
      "Pr_Logos ok 61035\n",
      "persovinz ok 2922\n",
      "SarahCosatto ok 31\n",
      "VicPotier ok 457\n",
      "MireilleP92 ok 92\n",
      "pourmarue ok 603\n",
      "sobrinhodesign ok 226\n",
      "hubsustain ok 761\n"
     ]
    },
    {
     "name": "stderr",
     "output_type": "stream",
     "text": [
      "rate limit exceeded: sleeping 892.363687992096 secs\n"
     ]
    },
    {
     "name": "stdout",
     "output_type": "stream",
     "text": [
      "hubertguillaud ok 11210\n",
      "aml_bl22 ok 8\n",
      "TheCESBible ok 455\n",
      "SylvieRamir ok 160\n",
      "Kisio ok 792\n",
      "tmt_mgt ok 156\n"
     ]
    },
    {
     "name": "stderr",
     "output_type": "stream",
     "text": [
      "rate limit exceeded: sleeping 892.8047099113464 secs\n"
     ]
    },
    {
     "name": "stdout",
     "output_type": "stream",
     "text": [
      "omniacademic ok 9\n",
      "Judith_Fco ok 1\n",
      "ChaireLU ok 244\n",
      "__LENIA ok 1316\n",
      "NoemieMrz ok 178\n",
      "ConnectedMitch ok 45\n",
      "L_Mastromatteo ok 317\n",
      "AdRaizonville ok 458\n",
      "SouadBoutegraB ok 1903\n",
      "MarineRom ok 2459\n",
      "Mehdi_KMI ok 559\n",
      "og_yamaguchi ok 21\n"
     ]
    },
    {
     "name": "stderr",
     "output_type": "stream",
     "text": [
      "rate limit exceeded: sleeping 892.7428269386292 secs\n"
     ]
    },
    {
     "name": "stdout",
     "output_type": "stream",
     "text": [
      "gokcetaskan ok 725\n",
      "WeAreLeonard ok 4896\n",
      "N3iry1 ok 9\n",
      "CamilleBolzan ok 253\n",
      "NFr21 ok 3273\n",
      "fanch_rt ok 653\n",
      "FloreBlondel ok 1444\n"
     ]
    },
    {
     "name": "stderr",
     "output_type": "stream",
     "text": [
      "rate limit exceeded: sleeping 889.758945941925 secs\n"
     ]
    },
    {
     "name": "stdout",
     "output_type": "stream",
     "text": [
      "ArnaudlPaillard ok 950\n",
      "max_puissant ok 177\n",
      "michaelacancela ok 3312\n",
      "vtoubiana ok 1830\n",
      "MikeUnityDelta ok 8\n"
     ]
    },
    {
     "name": "stderr",
     "output_type": "stream",
     "text": [
      "rate limit exceeded: sleeping 888.9306628704071 secs\n"
     ]
    },
    {
     "name": "stdout",
     "output_type": "stream",
     "text": [
      "Mediacites ok 15032\n",
      "profmgilman ok 1194\n"
     ]
    },
    {
     "name": "stderr",
     "output_type": "stream",
     "text": [
      "rate limit exceeded: sleeping 889.4931449890137 secs\n"
     ]
    },
    {
     "name": "stdout",
     "output_type": "stream",
     "text": [
      "VeilleGeoLille ok 3387\n",
      "futurouest ok 527\n",
      "benjaminbellamy ok 1023\n",
      "BrasAgathe ok 4\n",
      "Whainot ok 3028\n",
      "hachehach ok 1278\n",
      "arianeda ok 1935\n",
      "Nat_Mann ok 313\n"
     ]
    },
    {
     "name": "stderr",
     "output_type": "stream",
     "text": [
      "rate limit exceeded: sleeping 890.5477769374847 secs\n"
     ]
    },
    {
     "name": "stdout",
     "output_type": "stream",
     "text": [
      "nautoui ok 2229\n",
      "the_vcarraro ok 281\n"
     ]
    },
    {
     "name": "stderr",
     "output_type": "stream",
     "text": [
      "rate limit exceeded: sleeping 888.7450649738312 secs\n",
      "rate limit exceeded: sleeping 886.8370349407196 secs\n",
      "rate limit exceeded: sleeping 885.362251996994 secs\n",
      "rate limit exceeded: sleeping 887.6549971103668 secs\n"
     ]
    },
    {
     "name": "stdout",
     "output_type": "stream",
     "text": [
      "Shirastweet ok 57095\n",
      "WiFiberUSA ok 175\n"
     ]
    },
    {
     "name": "stderr",
     "output_type": "stream",
     "text": [
      "rate limit exceeded: sleeping 886.9586749076843 secs\n"
     ]
    },
    {
     "name": "stdout",
     "output_type": "stream",
     "text": [
      "marilor ok 21491\n",
      "maxime_pauwels ok 1081\n",
      "plusespacesud ok 402\n",
      "Somelle2 ok 144\n"
     ]
    },
    {
     "name": "stderr",
     "output_type": "stream",
     "text": [
      "rate limit exceeded: sleeping 889.7681789398193 secs\n"
     ]
    },
    {
     "name": "stdout",
     "output_type": "stream",
     "text": [
      "ericvidalenc ok 9866\n",
      "hackers_ouverts ok 131\n",
      "VBroock ok 13\n",
      "xavierfiguerola ok 971\n",
      "scheherazade_18 ok 593\n",
      "iratrevisan ok 334\n",
      "Anna_angelinum ok 666\n",
      "isadekersauzon ok 64\n"
     ]
    },
    {
     "name": "stderr",
     "output_type": "stream",
     "text": [
      "rate limit exceeded: sleeping 890.3564190864563 secs\n"
     ]
    },
    {
     "name": "stdout",
     "output_type": "stream",
     "text": [
      "felipetessarolo ok 926\n",
      "veyssiere_sonia ok 682\n",
      "Natalie31466988 ok 219\n",
      "cecilia_adeline ok 12\n"
     ]
    },
    {
     "name": "stderr",
     "output_type": "stream",
     "text": [
      "rate limit exceeded: sleeping 890.1043541431427 secs\n"
     ]
    },
    {
     "name": "stdout",
     "output_type": "stream",
     "text": [
      "AntonioCasilli ok 21265\n",
      "pierrebeslay ok 158\n",
      "problème:  poudrerie310\n"
     ]
    },
    {
     "name": "stderr",
     "output_type": "stream",
     "text": [
      "rate limit exceeded: sleeping 889.9538180828094 secs\n"
     ]
    },
    {
     "name": "stdout",
     "output_type": "stream",
     "text": [
      "SamuelHayat ok 20568\n",
      "WebDemocracyFR ok 63\n",
      "SandraB39555548 ok 40\n",
      "TerresNum ok 17\n",
      "problème:  tnydne\n",
      "N_Desmons ok 273\n",
      "BakloutiFanny ok 864\n",
      "problème:  Pierre94900045\n",
      "problème:  CMBerteaux\n"
     ]
    },
    {
     "name": "stderr",
     "output_type": "stream",
     "text": [
      "rate limit exceeded: sleeping 897.4546349048615 secs\n"
     ]
    },
    {
     "name": "stdout",
     "output_type": "stream",
     "text": [
      "CamMortelette ok 1882\n",
      "mondegeonumeric ok 1470\n",
      "LtiTirot ok 418\n",
      "VictorDumont12 ok 113\n",
      "crit_urbanisms ok 260\n",
      "Vazquezpointfr ok 569\n",
      "simlazar ok 803\n",
      "IsmaelEychenne ok 75\n",
      "MrRuskov ok 662\n",
      "RomainBochet ok 1514\n",
      "Magali_Mrln ok 28\n",
      "_aliette ok 12\n"
     ]
    },
    {
     "name": "stderr",
     "output_type": "stream",
     "text": [
      "rate limit exceeded: sleeping 896.72412109375 secs\n"
     ]
    },
    {
     "name": "stdout",
     "output_type": "stream",
     "text": [
      "epfl74 ok 422\n",
      "datasciencedej ok 2289\n",
      "problème:  pmthor09\n",
      "problème:  OlgaSlobodova\n",
      "Chloe_Fried ok 117\n",
      "Mau_MejiaG ok 2417\n",
      "cthibout ok 2340\n",
      "problème:  Brie_TanGuer\n",
      "heloisethib ok 41\n"
     ]
    },
    {
     "name": "stderr",
     "output_type": "stream",
     "text": [
      "rate limit exceeded: sleeping 897.1937930583954 secs\n"
     ]
    },
    {
     "name": "stdout",
     "output_type": "stream",
     "text": [
      "Galib_bd ok 1454\n",
      "cchalancon ok 2640\n",
      "JeromeHourdeaux ok 6499\n",
      "francoishuguet ok 1524\n",
      "EPeillard ok 167\n",
      "VPiganiol ok 894\n"
     ]
    },
    {
     "name": "stderr",
     "output_type": "stream",
     "text": [
      "rate limit exceeded: sleeping 891.0348689556122 secs\n"
     ]
    },
    {
     "name": "stdout",
     "output_type": "stream",
     "text": [
      "louise_tbr ok 1075\n",
      "clementfoutrel ok 313\n",
      "starvoguine ok 96\n",
      "LudovicPeran ok 682\n",
      "AIRe__s ok 2753\n",
      "Toutetlereste ok 645\n"
     ]
    },
    {
     "name": "stderr",
     "output_type": "stream",
     "text": [
      "rate limit exceeded: sleeping 893.1024010181427 secs\n"
     ]
    },
    {
     "name": "stdout",
     "output_type": "stream",
     "text": [
      "biancawylie ok 10121\n",
      "AntoineGaboriau ok 535\n",
      "nielsvdoorn ok 2982\n",
      "JeromeGuermeur ok 273\n",
      "AmineDidioui ok 184\n",
      "MarianneVarotti ok 138\n",
      "depasse_mot ok 17\n",
      "positwivisme ok 37\n"
     ]
    },
    {
     "name": "stderr",
     "output_type": "stream",
     "text": [
      "rate limit exceeded: sleeping 896.2054011821747 secs\n"
     ]
    },
    {
     "name": "stdout",
     "output_type": "stream",
     "text": [
      "Rayan_Nezzar ok 11281\n",
      "Iteris ok 2790\n"
     ]
    },
    {
     "name": "stderr",
     "output_type": "stream",
     "text": [
      "rate limit exceeded: sleeping 892.8567039966583 secs\n"
     ]
    },
    {
     "name": "stdout",
     "output_type": "stream",
     "text": [
      "DigitAS_UIBK ok 444\n",
      "legenreurbain ok 1282\n",
      "Matthieu_HELY ok 2786\n",
      "socioanna ok 1043\n",
      "CunyGregoire ok 133\n",
      "RevueMetropoles ok 1154\n",
      "CJuillardm ok 13\n",
      "MahdaviMojdeh ok 57\n"
     ]
    },
    {
     "name": "stderr",
     "output_type": "stream",
     "text": [
      "rate limit exceeded: sleeping 895.873300075531 secs\n"
     ]
    },
    {
     "name": "stdout",
     "output_type": "stream",
     "text": [
      "FelixTreguer ok 5941\n",
      "ghislaindelabie ok 1391\n",
      "Cruz_jerem ok 381\n"
     ]
    },
    {
     "name": "stderr",
     "output_type": "stream",
     "text": [
      "rate limit exceeded: sleeping 891.1321721076965 secs\n"
     ]
    },
    {
     "name": "stdout",
     "output_type": "stream",
     "text": [
      "ParisEnCommun ok 10520\n",
      "DanniellaLopez3 ok 2\n",
      "BenYacoubYassi1 ok 76\n"
     ]
    },
    {
     "name": "stderr",
     "output_type": "stream",
     "text": [
      "rate limit exceeded: sleeping 893.5024719238281 secs\n",
      "rate limit exceeded: sleeping 890.060366153717 secs\n",
      "rate limit exceeded: sleeping 890.0943250656128 secs\n",
      "rate limit exceeded: sleeping 888.2979619503021 secs\n",
      "rate limit exceeded: sleeping 888.8659358024597 secs\n",
      "rate limit exceeded: sleeping 888.854416847229 secs\n"
     ]
    },
    {
     "name": "stdout",
     "output_type": "stream",
     "text": [
      "EUinmyRegion ok 92127\n",
      "PAHorth ok 27\n",
      "Jul_Dum ok 1432\n"
     ]
    },
    {
     "name": "stderr",
     "output_type": "stream",
     "text": [
      "rate limit exceeded: sleeping 890.9738800525665 secs\n",
      "rate limit exceeded: sleeping 888.5452380180359 secs\n",
      "rate limit exceeded: sleeping 888.9500439167023 secs\n"
     ]
    },
    {
     "name": "stdout",
     "output_type": "stream",
     "text": [
      "GroupeLaPoste ok 44878\n",
      "SimPersico ok 2957\n",
      "RommeSeverine ok 115\n",
      "Start_innov8 ok 438\n"
     ]
    },
    {
     "name": "stderr",
     "output_type": "stream",
     "text": [
      "rate limit exceeded: sleeping 889.0136740207672 secs\n"
     ]
    },
    {
     "name": "stdout",
     "output_type": "stream",
     "text": [
      "RaphSchwab ok 226\n",
      "thevelvetMD ok 55\n",
      "EU_Leaders_FR ok 72\n"
     ]
    },
    {
     "name": "stderr",
     "output_type": "stream",
     "text": [
      "rate limit exceeded: sleeping 891.4286799430847 secs\n"
     ]
    },
    {
     "name": "stdout",
     "output_type": "stream",
     "text": [
      "ScPoResearch ok 20245\n",
      "JulienDamelet ok 2316\n",
      "Data_En_marche ok 108\n",
      "jfenchong ok 65\n"
     ]
    },
    {
     "name": "stderr",
     "output_type": "stream",
     "text": [
      "rate limit exceeded: sleeping 888.7963898181915 secs\n"
     ]
    },
    {
     "name": "stdout",
     "output_type": "stream",
     "text": [
      "mathieuperisse ok 2373\n",
      "JoelLangonne ok 223\n",
      "ProuvoyeurF ok 24\n",
      "Arnaud_Chardon ok 156\n",
      "FrankJardillier ok 58\n"
     ]
    },
    {
     "name": "stderr",
     "output_type": "stream",
     "text": [
      "rate limit exceeded: sleeping 893.3044438362122 secs\n",
      "rate limit exceeded: sleeping 889.8626129627228 secs\n",
      "rate limit exceeded: sleeping 892.1158630847931 secs\n",
      "rate limit exceeded: sleeping 889.2683551311493 secs\n",
      "rate limit exceeded: sleeping 889.1371030807495 secs\n"
     ]
    },
    {
     "name": "stdout",
     "output_type": "stream",
     "text": [
      "cyriacgbogou ok 76078\n",
      "CanFre ok 708\n",
      "PierreLouisR ok 3685\n"
     ]
    },
    {
     "name": "stderr",
     "output_type": "stream",
     "text": [
      "rate limit exceeded: sleeping 887.9005408287048 secs\n"
     ]
    },
    {
     "name": "stdout",
     "output_type": "stream",
     "text": [
      "AssociationICI ok 1424\n",
      "vrmtvrmt ok 5388\n",
      "Gaelle_Sutton ok 3660\n",
      "Pepine ok 1563\n",
      "problème:  asticotbavard\n",
      "Helaubert ok 443\n"
     ]
    },
    {
     "name": "stderr",
     "output_type": "stream",
     "text": [
      "rate limit exceeded: sleeping 890.9120798110962 secs\n"
     ]
    },
    {
     "name": "stdout",
     "output_type": "stream",
     "text": [
      "etifontaine ok 347\n",
      "Ameecoconut ok 9\n",
      "DeberdtGregoire ok 1\n",
      "EleonorePigalle ok 89\n",
      "Datagora ok 6117\n",
      "XavBernierGeo ok 2182\n"
     ]
    },
    {
     "name": "stderr",
     "output_type": "stream",
     "text": [
      "rate limit exceeded: sleeping 892.255334854126 secs\n"
     ]
    },
    {
     "name": "stdout",
     "output_type": "stream",
     "text": [
      "florent_maillet ok 2824\n",
      "sblondel59 ok 440\n",
      "anoptikon ok 311\n",
      "problème:  adakerserho\n",
      "problème:  ok_AtteOK\n",
      "P_A_71 ok 93\n",
      "thomasbrthlr ok 112\n",
      "HeloiseLeu ok 1252\n",
      "tonio_go ok 205\n",
      "benimadimco ok 382\n"
     ]
    },
    {
     "name": "stderr",
     "output_type": "stream",
     "text": [
      "rate limit exceeded: sleeping 895.3867630958557 secs\n"
     ]
    },
    {
     "name": "stdout",
     "output_type": "stream",
     "text": [
      "brunosanlaville ok 4392\n",
      "LudovicNOEL69 ok 593\n",
      "jorochman ok 106\n",
      "LouisSalgueiro ok 873\n",
      "Laurent_Bouzon ok 647\n",
      "La_bordure ok 3368\n",
      "C_Dubedout ok 269\n",
      "problème:  paul__cochet\n"
     ]
    },
    {
     "name": "stderr",
     "output_type": "stream",
     "text": [
      "rate limit exceeded: sleeping 892.4092109203339 secs\n"
     ]
    },
    {
     "name": "stdout",
     "output_type": "stream",
     "text": [
      "1to1Monaco ok 4623\n",
      "DorieBruyas ok 1801\n",
      "lestrelin ok 5052\n",
      "ubuntom ok 269\n",
      "VeroniqueDupon ok 9\n",
      "raff_bzz ok 92\n",
      "problème:  leoresio\n",
      "bea_merc ok 408\n"
     ]
    },
    {
     "name": "stderr",
     "output_type": "stream",
     "text": [
      "rate limit exceeded: sleeping 893.599365234375 secs\n"
     ]
    },
    {
     "name": "stdout",
     "output_type": "stream",
     "text": [
      "valeriepeugeot ok 3851\n",
      "problème:  bruno_loustalet\n",
      "vives_christian ok 224\n"
     ]
    },
    {
     "name": "stderr",
     "output_type": "stream",
     "text": [
      "rate limit exceeded: sleeping 890.3078680038452 secs\n"
     ]
    },
    {
     "name": "stdout",
     "output_type": "stream",
     "text": [
      "m_older ok 11461\n",
      "AngieNavarroMX ok 4050\n",
      "MaxDavidBouchet ok 692\n",
      "ReVe6el ok 1769\n",
      "MartChartier ok 471\n",
      "TevaMeyer ok 2420\n",
      "ColleAdrien ok 70\n"
     ]
    },
    {
     "name": "stderr",
     "output_type": "stream",
     "text": [
      "rate limit exceeded: sleeping 891.6503591537476 secs\n"
     ]
    },
    {
     "name": "stdout",
     "output_type": "stream",
     "text": [
      "DataRegionSud ok 2520\n",
      "cathpn ok 3719\n",
      "MCFolio ok 107\n",
      "LCcartographie ok 358\n",
      "Thoma_Lamb ok 217\n",
      "MaloChevillotte ok 35\n",
      "Campus2022_STU ok 38\n",
      "OResilientes ok 6\n",
      "parchias ok 656\n",
      "CassandreTarvic ok 306\n"
     ]
    },
    {
     "name": "stderr",
     "output_type": "stream",
     "text": [
      "rate limit exceeded: sleeping 893.5464839935303 secs\n"
     ]
    },
    {
     "name": "stdout",
     "output_type": "stream",
     "text": [
      "jacquespriol ok 3025\n",
      "LaRochelleNUM ok 901\n",
      "lazetk69 ok 21\n",
      "manonirma ok 20\n",
      "geoffdelc ok 2439\n",
      "_Point_Virgule ok 914\n",
      "Lacydone ok 1337\n"
     ]
    },
    {
     "name": "stderr",
     "output_type": "stream",
     "text": [
      "rate limit exceeded: sleeping 891.5272800922394 secs\n"
     ]
    },
    {
     "name": "stdout",
     "output_type": "stream",
     "text": [
      "ScPoEUrbaine ok 2359\n",
      "lolobobo ok 1327\n",
      "PierreSquevin ok 681\n",
      "BorisMarcovitch ok 20\n",
      "Martine75913182 ok 410\n",
      "problème:  pattdjo\n"
     ]
    },
    {
     "name": "stderr",
     "output_type": "stream",
     "text": [
      "rate limit exceeded: sleeping 891.7299168109894 secs\n"
     ]
    },
    {
     "name": "stdout",
     "output_type": "stream",
     "text": [
      "silvertje ok 8180\n",
      "urban_unbound ok 1644\n",
      "ThomasKirszbaum ok 3734\n",
      "LaureneTran12 ok 1415\n",
      "Poetedessens ok 31\n",
      "PatrickCastel ok 1147\n",
      "WazeHerault ok 1117\n",
      "s_mougin ok 13\n"
     ]
    },
    {
     "name": "stderr",
     "output_type": "stream",
     "text": [
      "rate limit exceeded: sleeping 892.7797110080719 secs\n"
     ]
    },
    {
     "name": "stdout",
     "output_type": "stream",
     "text": [
      "BaluchonEns ok 1386\n",
      "LionelFrancou ok 409\n",
      "problème:  IamNesssie\n",
      "problème:  richard_timsit\n",
      "rock_agent ok 67\n",
      "mariea_lb ok 121\n",
      "ddogot ok 694\n",
      "G_Ficat_Andrieu ok 370\n"
     ]
    },
    {
     "name": "stderr",
     "output_type": "stream",
     "text": [
      "rate limit exceeded: sleeping 893.6534650325775 secs\n",
      "rate limit exceeded: sleeping 888.886687040329 secs\n"
     ]
    },
    {
     "name": "stdout",
     "output_type": "stream",
     "text": [
      "marwanormalzup ok 22526\n",
      "carolineporot ok 4455\n",
      "PoleDonnees ok 357\n",
      "Cohen2207Cohen ok 118\n",
      "DdeuxF ok 1287\n",
      "maxproxi ok 15\n",
      "Ludovic_AM ok 1651\n"
     ]
    },
    {
     "name": "stderr",
     "output_type": "stream",
     "text": [
      "rate limit exceeded: sleeping 892.8602979183197 secs\n"
     ]
    },
    {
     "name": "stdout",
     "output_type": "stream",
     "text": [
      "veillemob ok 11\n",
      "AJRavenelleNYC ok 2529\n",
      "benjamin_mrtn ok 995\n",
      "AudeDubois1 ok 330\n",
      "StereoluxLab ok 2954\n",
      "Etienne010101 ok 1052\n",
      "FaBggt ok 36\n",
      "JoffreyElbert ok 54\n"
     ]
    },
    {
     "name": "stderr",
     "output_type": "stream",
     "text": [
      "rate limit exceeded: sleeping 890.8255259990692 secs\n"
     ]
    },
    {
     "name": "stdout",
     "output_type": "stream",
     "text": [
      "AymericPM ok 3576\n",
      "JudithLienhard ok 76\n",
      "antoineperfet ok 232\n",
      "laseine_luimeme ok 614\n",
      "SophieTrelcat ok 38\n",
      "Forumurb1 ok 1211\n",
      "ArchipelLib ok 590\n",
      "_rlg ok 1716\n",
      "VincentCV ok 38\n",
      "EtienneLyon ok 1424\n"
     ]
    },
    {
     "name": "stderr",
     "output_type": "stream",
     "text": [
      "rate limit exceeded: sleeping 893.4008948802948 secs\n"
     ]
    },
    {
     "name": "stdout",
     "output_type": "stream",
     "text": [
      "philmoissonnier ok 2671\n",
      "b_kotras ok 850\n",
      "lilliane0201 ok 251\n",
      "fefelli ok 1251\n",
      "IsaFougeras ok 846\n"
     ]
    },
    {
     "name": "stderr",
     "output_type": "stream",
     "text": [
      "rate limit exceeded: sleeping 889.440397977829 secs\n"
     ]
    },
    {
     "name": "stdout",
     "output_type": "stream",
     "text": [
      "JeremiasPrassl ok 8158\n",
      "a_rden ok 533\n",
      "PaulM_C ok 477\n",
      "RobinCura ok 446\n",
      "UjuBib ok 807\n",
      "GravierJulie ok 349\n",
      "recifs ok 2980\n",
      "MatthieuAdam_ ok 3159\n",
      "LafonSophie ok 49\n",
      "problème:  Loudapi\n",
      "Ertedisnews ok 124\n"
     ]
    },
    {
     "name": "stderr",
     "output_type": "stream",
     "text": [
      "rate limit exceeded: sleeping 891.4884469509125 secs\n"
     ]
    },
    {
     "name": "stdout",
     "output_type": "stream",
     "text": [
      "pierrebernard00 ok 286\n",
      "CapgeminiEngFR ok 7920\n"
     ]
    },
    {
     "name": "stderr",
     "output_type": "stream",
     "text": [
      "rate limit exceeded: sleeping 889.056398153305 secs\n"
     ]
    },
    {
     "name": "stdout",
     "output_type": "stream",
     "text": [
      "jlcassely ok 7789\n",
      "tomchevalier6 ok 1718\n",
      "IvartPascale ok 16\n",
      "reseaudurable ok 8137\n"
     ]
    },
    {
     "name": "stderr",
     "output_type": "stream",
     "text": [
      "rate limit exceeded: sleeping 881.5789399147034 secs\n"
     ]
    },
    {
     "name": "stdout",
     "output_type": "stream",
     "text": [
      "Al_Pal99 ok 79\n",
      "AsifMah69063215 ok 413\n",
      "NicolasMaughan ok 1979\n",
      "nmatsuyama ok 748\n",
      "JIPerezK ok 1184\n",
      "ndbingham ok 472\n",
      "BlondeauMaxim ok 1361\n",
      "cam_combe ok 214\n",
      "scoavoux ok 925\n"
     ]
    },
    {
     "name": "stderr",
     "output_type": "stream",
     "text": [
      "rate limit exceeded: sleeping 889.8692810535431 secs\n",
      "rate limit exceeded: sleeping 888.8044919967651 secs\n"
     ]
    },
    {
     "name": "stdout",
     "output_type": "stream",
     "text": [
      "fabiomalini ok 30618\n",
      "soizicpenicaud ok 1560\n",
      "KevKerkev ok 380\n"
     ]
    },
    {
     "name": "stderr",
     "output_type": "stream",
     "text": [
      "rate limit exceeded: sleeping 889.2033760547638 secs\n"
     ]
    },
    {
     "name": "stdout",
     "output_type": "stream",
     "text": [
      "Locosoble ok 925\n",
      "ObservatoireBtp ok 1503\n",
      "ygen15 ok 52\n"
     ]
    },
    {
     "name": "stderr",
     "output_type": "stream",
     "text": [
      "rate limit exceeded: sleeping 887.4414870738983 secs\n"
     ]
    },
    {
     "name": "stdout",
     "output_type": "stream",
     "text": [
      "Lea_Lejeune ok 12913\n",
      "pietercolpaert ok 5165\n",
      "chav_xav ok 418\n",
      "BorisKarsch ok 251\n",
      "ThomasG77 ok 3354\n"
     ]
    },
    {
     "name": "stderr",
     "output_type": "stream",
     "text": [
      "rate limit exceeded: sleeping 890.2607429027557 secs\n"
     ]
    },
    {
     "name": "stdout",
     "output_type": "stream",
     "text": [
      "Okina_Transport ok 23\n",
      "BoundlessDigit ok 1429\n",
      "problème:  NadimBhM\n",
      "Annick06189259 ok 46\n",
      "EmelineIglesias ok 160\n",
      "MaCroBG ok 262\n",
      "lmegrelis ok 61\n",
      "monsieurashton ok 430\n",
      "AppsHabitat ok 168\n",
      "Marinet47000155 ok 251\n",
      "LDurest ok 72\n",
      "gillesbastin ok 2766\n"
     ]
    },
    {
     "name": "stderr",
     "output_type": "stream",
     "text": [
      "rate limit exceeded: sleeping 896.5678551197052 secs\n"
     ]
    },
    {
     "name": "stdout",
     "output_type": "stream",
     "text": [
      "MicrosoftNY ok 7214\n",
      "jankrewer ok 586\n",
      "LuDalmaso ok 293\n",
      "fernando__lopez ok 4016\n",
      "Sebacactus ok 355\n"
     ]
    },
    {
     "name": "stderr",
     "output_type": "stream",
     "text": [
      "rate limit exceeded: sleeping 889.0363321304321 secs\n"
     ]
    },
    {
     "name": "stdout",
     "output_type": "stream",
     "text": [
      "Brulancio ok 112\n",
      "daisita_g ok 248\n",
      "ddominicazur ok 34\n",
      "VTC_TCHATCHEUR ok 745\n",
      "IADataScience ok 1117\n",
      "Raphael_Morel ok 98\n",
      "LouisePasin ok 723\n",
      "pierregeorges00 ok 989\n",
      "mary_soyer ok 59\n",
      "estlgentilleau ok 913\n",
      "quilliencecile ok 71\n",
      "PDufraisse ok 88\n",
      "c2d_BxMetro ok 1843\n"
     ]
    },
    {
     "name": "stderr",
     "output_type": "stream",
     "text": [
      "rate limit exceeded: sleeping 894.9147980213165 secs\n"
     ]
    },
    {
     "name": "stdout",
     "output_type": "stream",
     "text": [
      "isabel24 ok 782\n"
     ]
    },
    {
     "name": "stderr",
     "output_type": "stream",
     "text": [
      "caught 503 from Twitter API, sleeping 1\n"
     ]
    },
    {
     "name": "stdout",
     "output_type": "stream",
     "text": [
      "aquinum ok 8250\n"
     ]
    },
    {
     "name": "stderr",
     "output_type": "stream",
     "text": [
      "rate limit exceeded: sleeping 884.187940120697 secs\n"
     ]
    },
    {
     "name": "stdout",
     "output_type": "stream",
     "text": [
      "UCLALuskin ok 8233\n",
      "problème:  pouyanhoss\n",
      "OTainguy ok 49\n",
      "geknana ok 3429\n",
      "Olivier_DH ok 352\n",
      "problème:  Elclb\n",
      "DataLitConf ok 311\n",
      "manonloisel1 ok 847\n"
     ]
    },
    {
     "name": "stderr",
     "output_type": "stream",
     "text": [
      "rate limit exceeded: sleeping 894.0152390003204 secs\n"
     ]
    },
    {
     "name": "stdout",
     "output_type": "stream",
     "text": [
      "carolinarequena ok 117\n",
      "FrVigouroux ok 3140\n",
      "Viuzfr ok 7810\n",
      "pepita23B ok 1238\n"
     ]
    },
    {
     "name": "stderr",
     "output_type": "stream",
     "text": [
      "rate limit exceeded: sleeping 889.4633138179779 secs\n"
     ]
    },
    {
     "name": "stdout",
     "output_type": "stream",
     "text": [
      "jayredondo ok 647\n"
     ]
    },
    {
     "name": "stderr",
     "output_type": "stream",
     "text": [
      "rate limit exceeded: sleeping 888.5311870574951 secs\n"
     ]
    },
    {
     "name": "stdout",
     "output_type": "stream",
     "text": [
      "InfosDSI ok 15050\n",
      "coeurbouliki ok 28\n",
      "NinesData ok 540\n",
      "problème:  zymla\n",
      "babils ok 1471\n",
      "transid ok 1172\n",
      "tommaschera ok 78\n"
     ]
    },
    {
     "name": "stderr",
     "output_type": "stream",
     "text": [
      "rate limit exceeded: sleeping 895.108855009079 secs\n",
      "rate limit exceeded: sleeping 888.0010931491852 secs\n"
     ]
    },
    {
     "name": "stdout",
     "output_type": "stream",
     "text": [
      "renaud_epstein ok 24968\n",
      "HayakuStudio ok 27\n",
      "BertrandMocquet ok 5593\n"
     ]
    },
    {
     "name": "stderr",
     "output_type": "stream",
     "text": [
      "rate limit exceeded: sleeping 889.7454829216003 secs\n"
     ]
    },
    {
     "name": "stdout",
     "output_type": "stream",
     "text": [
      "eTerritoire ok 13903\n",
      "LenaSaffon ok 185\n",
      "TGidoin ok 1797\n"
     ]
    },
    {
     "name": "stderr",
     "output_type": "stream",
     "text": [
      "rate limit exceeded: sleeping 888.6432518959045 secs\n"
     ]
    },
    {
     "name": "stdout",
     "output_type": "stream",
     "text": [
      "BorisMericskay ok 5140\n",
      "VVidalBeneyto ok 191\n",
      "120pommiers ok 22\n",
      "benoit_campion ok 958\n",
      "overflorian ok 1977\n",
      "KatieJWells ok 1910\n",
      "Bozek_Lesny ok 84\n",
      "ChupinDavid ok 541\n",
      "matringel ok 141\n"
     ]
    },
    {
     "name": "stderr",
     "output_type": "stream",
     "text": [
      "rate limit exceeded: sleeping 892.062824010849 secs\n"
     ]
    },
    {
     "name": "stdout",
     "output_type": "stream",
     "text": [
      "naturalidees ok 318\n",
      "banqiz ok 141\n",
      "Momo182n ok 81\n",
      "gwenaelpiaser ok 344\n",
      "we_do_data ok 7848\n",
      "gaalcaras ok 343\n"
     ]
    },
    {
     "name": "stderr",
     "output_type": "stream",
     "text": [
      "rate limit exceeded: sleeping 892.5684030056 secs\n"
     ]
    },
    {
     "name": "stdout",
     "output_type": "stream",
     "text": [
      "jwyg ok 12452\n",
      "csuffys ok 709\n",
      "WazeGard ok 2603\n"
     ]
    },
    {
     "name": "stderr",
     "output_type": "stream",
     "text": [
      "rate limit exceeded: sleeping 889.4016680717468 secs\n"
     ]
    },
    {
     "name": "stdout",
     "output_type": "stream",
     "text": [
      "CecileDiguet ok 688\n",
      "lstmpsmdrns ok 697\n",
      "clrbmnt ok 191\n",
      "problème:  etegamist\n",
      "Un_GR_parisien ok 164\n",
      "c_farrugia ok 979\n",
      "dupont_st ok 992\n",
      "r_mejean ok 981\n",
      "CalicodesIles ok 166\n",
      "defos6 ok 1\n",
      "Ugo_vski ok 126\n"
     ]
    },
    {
     "name": "stderr",
     "output_type": "stream",
     "text": [
      "rate limit exceeded: sleeping 895.3329699039459 secs\n"
     ]
    },
    {
     "name": "stdout",
     "output_type": "stream",
     "text": [
      "sergemont ok 18483\n"
     ]
    },
    {
     "name": "stderr",
     "output_type": "stream",
     "text": [
      "rate limit exceeded: sleeping 890.3576021194458 secs\n"
     ]
    },
    {
     "name": "stdout",
     "output_type": "stream",
     "text": [
      "Mobisphere ok 2506\n",
      "so_superlune ok 68\n",
      "JulieLochet ok 191\n",
      "alice_pouyat ok 558\n",
      "yguittat ok 305\n",
      "oliblondeau ok 628\n",
      "ScPoExecEd ok 3993\n",
      "JorgeavecunJ ok 688\n",
      "problème:  YannTvrnr\n",
      "sl_lab ok 952\n"
     ]
    },
    {
     "name": "stderr",
     "output_type": "stream",
     "text": [
      "rate limit exceeded: sleeping 893.2152309417725 secs\n"
     ]
    },
    {
     "name": "stdout",
     "output_type": "stream",
     "text": [
      "fouquetol ok 49\n",
      "camilleboulouis ok 117\n",
      "dietoff ok 1851\n",
      "cs_klima ok 136\n",
      "uberizeur ok 200\n",
      "dr_ottmann ok 175\n",
      "comesalvaire ok 117\n",
      "AfricaLegaltech ok 47\n",
      "SCET_Groupe ok 1905\n"
     ]
    },
    {
     "name": "stderr",
     "output_type": "stream",
     "text": [
      "rate limit exceeded: sleeping 895.4907598495483 secs\n"
     ]
    },
    {
     "name": "stdout",
     "output_type": "stream",
     "text": [
      "AOC_media ok 15783\n",
      "edlerdaniel ok 279\n"
     ]
    },
    {
     "name": "stderr",
     "output_type": "stream",
     "text": [
      "rate limit exceeded: sleeping 892.0866858959198 secs\n"
     ]
    },
    {
     "name": "stdout",
     "output_type": "stream",
     "text": [
      "CharlotteGirerd ok 1068\n",
      "AlexandreMurer ok 254\n",
      "problème:  antp0\n",
      "jesse_b_p ok 812\n",
      "nicolasrio2 ok 2234\n",
      "popsu_puca ok 4217\n"
     ]
    },
    {
     "name": "stderr",
     "output_type": "stream",
     "text": [
      "rate limit exceeded: sleeping 891.9941260814667 secs\n"
     ]
    },
    {
     "name": "stdout",
     "output_type": "stream",
     "text": [
      "LINCnil ok 6765\n",
      "LaurentBarelier ok 447\n",
      "FabienMoudileno ok 3\n",
      "JanvierThibault ok 998\n",
      "ReseauCorum ok 314\n",
      "Flo_Urba_Nuit ok 616\n",
      "laramaest ok 1252\n",
      "sebasgarnier ok 1446\n",
      "JSwordyBorie ok 131\n"
     ]
    },
    {
     "name": "stderr",
     "output_type": "stream",
     "text": [
      "rate limit exceeded: sleeping 893.5443468093872 secs\n"
     ]
    },
    {
     "name": "stdout",
     "output_type": "stream",
     "text": [
      "EuStartupPrize ok 2666\n",
      "opheliepopille ok 72\n",
      "TristanBoursico ok 550\n",
      "Dani_Gambit ok 2545\n",
      "TristanHeau ok 671\n",
      "kevindelv ok 655\n",
      "beauvith ok 3\n",
      "TeoDelFabbro ok 146\n",
      "BrunoCarballa ok 483\n",
      "TurbineCoop ok 3840\n"
     ]
    },
    {
     "name": "stderr",
     "output_type": "stream",
     "text": [
      "rate limit exceeded: sleeping 893.9264869689941 secs\n"
     ]
    },
    {
     "name": "stdout",
     "output_type": "stream",
     "text": [
      "TiphainePitoise ok 548\n",
      "Yoyelle ok 294\n",
      "tristramg ok 1281\n",
      "ProfGrondin ok 862\n",
      "SimonStGeorges ok 122\n",
      "j0bates ok 469\n",
      "EthelKarskens ok 49\n",
      "Emphiris ok 780\n",
      "problème:  DesmarisLaura\n",
      "SamuelGautier ok 690\n"
     ]
    },
    {
     "name": "stderr",
     "output_type": "stream",
     "text": [
      "rate limit exceeded: sleeping 893.594822883606 secs\n"
     ]
    },
    {
     "name": "stdout",
     "output_type": "stream",
     "text": [
      "s_delmas ok 4988\n",
      "SRContretemps ok 9963\n",
      "romainmazon ok 1969\n",
      "attoma_paris ok 1324\n"
     ]
    },
    {
     "name": "stderr",
     "output_type": "stream",
     "text": [
      "rate limit exceeded: sleeping 890.1653571128845 secs\n"
     ]
    },
    {
     "name": "stdout",
     "output_type": "stream",
     "text": [
      "comeetie ok 1690\n",
      "Suzanne_Buildrz ok 492\n",
      "K_odama ok 716\n",
      "vbarue ok 249\n",
      "AntoineGuillou ok 2666\n",
      "AVAIR_X ok 910\n",
      "bbilloud ok 3240\n"
     ]
    },
    {
     "name": "stderr",
     "output_type": "stream",
     "text": [
      "rate limit exceeded: sleeping 892.4269299507141 secs\n"
     ]
    },
    {
     "name": "stdout",
     "output_type": "stream",
     "text": [
      "Fnau_urba ok 7962\n",
      "smykos ok 6560\n"
     ]
    },
    {
     "name": "stderr",
     "output_type": "stream",
     "text": [
      "rate limit exceeded: sleeping 890.6656970977783 secs\n"
     ]
    },
    {
     "name": "stdout",
     "output_type": "stream",
     "text": [
      "csabbah ok 4930\n",
      "JohanRicher ok 1936\n",
      "Kujawski_E ok 1974\n",
      "XavierCoadic ok 1967\n",
      "FuturistPioneer ok 1103\n",
      "marinealbarede ok 650\n",
      "bdefos ok 997\n",
      "stephlulu ok 1933\n"
     ]
    },
    {
     "name": "stderr",
     "output_type": "stream",
     "text": [
      "rate limit exceeded: sleeping 890.4035620689392 secs\n"
     ]
    },
    {
     "name": "stdout",
     "output_type": "stream",
     "text": [
      "y_leriche ok 1122\n",
      "ibi_city ok 1601\n",
      "problème:  Ch_Ch2\n",
      "FViesMobiles ok 4581\n",
      "aurelbelho ok 331\n"
     ]
    },
    {
     "name": "stderr",
     "output_type": "stream",
     "text": [
      "rate limit exceeded: sleeping 893.965245962143 secs\n"
     ]
    },
    {
     "name": "stdout",
     "output_type": "stream",
     "text": [
      "SylvainGrisot ok 4838\n",
      "ATU_37 ok 865\n",
      "jpjambes ok 1745\n",
      "imtl_org ok 584\n",
      "FeKsontini ok 39\n",
      "GroupeChronos ok 7100\n"
     ]
    },
    {
     "name": "stderr",
     "output_type": "stream",
     "text": [
      "rate limit exceeded: sleeping 893.2003681659698 secs\n"
     ]
    },
    {
     "name": "stdout",
     "output_type": "stream",
     "text": [
      "CiteDesServices ok 2029\n",
      "CAnthropolis ok 337\n",
      "baudeponch ok 275\n",
      "abood_mourad ok 193\n",
      "edaubricourt ok 126\n",
      "bcatherine ok 1608\n",
      "ProjetBATO ok 264\n",
      "BusJungle ok 1442\n",
      "LandonAurelie ok 439\n",
      "ClaraBrenot ok 550\n",
      "NicolasDouay ok 1504\n"
     ]
    },
    {
     "name": "stderr",
     "output_type": "stream",
     "text": [
      "rate limit exceeded: sleeping 896.585911989212 secs\n"
     ]
    },
    {
     "name": "stdout",
     "output_type": "stream",
     "text": [
      "LolaNicolle ok 737\n",
      "zapinfo93 ok 21\n",
      "ModEcoUrbains ok 194\n"
     ]
    },
    {
     "name": "stderr",
     "output_type": "stream",
     "text": [
      "rate limit exceeded: sleeping 893.8384850025177 secs\n"
     ]
    },
    {
     "name": "stdout",
     "output_type": "stream",
     "text": [
      "Memoire2cite ok 25636\n",
      "NIUGESREIVAX ok 353\n"
     ]
    },
    {
     "name": "stderr",
     "output_type": "stream",
     "text": [
      "rate limit exceeded: sleeping 893.2435851097107 secs\n"
     ]
    },
    {
     "name": "stdout",
     "output_type": "stream",
     "text": [
      "gehan ok 667\n",
      "le4emur ok 1096\n",
      "datingzeroboys ok 1038\n",
      "popupurbain ok 7868\n",
      "fil_ville ok 191\n"
     ]
    },
    {
     "name": "stderr",
     "output_type": "stream",
     "text": [
      "rate limit exceeded: sleeping 893.0642120838165 secs\n"
     ]
    },
    {
     "name": "stdout",
     "output_type": "stream",
     "text": [
      "VitaleTommaso ok 2432\n",
      "Fractale04 ok 453\n",
      "RTE_aura ok 2673\n",
      "problème:  FrankPasquale\n",
      "pandiver ok 180\n",
      "MehdiBarch ok 51\n",
      "megyoung0 ok 2130\n",
      "Mediavilla_F ok 668\n",
      "MyNanoByte ok 1001\n"
     ]
    },
    {
     "name": "stderr",
     "output_type": "stream",
     "text": [
      "rate limit exceeded: sleeping 896.2640278339386 secs\n"
     ]
    },
    {
     "name": "stdout",
     "output_type": "stream",
     "text": [
      "SarahSabsibo ok 1056\n",
      "LeLabOSC ok 1876\n",
      "jordanparisse ok 601\n",
      "fjacquinod ok 87\n",
      "LaMotet ok 5358\n",
      "PaulPetel ok 286\n"
     ]
    },
    {
     "name": "stderr",
     "output_type": "stream",
     "text": [
      "rate limit exceeded: sleeping 893.9913918972015 secs\n",
      "rate limit exceeded: sleeping 891.4432280063629 secs\n",
      "rate limit exceeded: sleeping 891.5625631809235 secs\n"
     ]
    },
    {
     "name": "stdout",
     "output_type": "stream",
     "text": [
      "shannonmattern ok 33212\n",
      "Adisson_F ok 500\n",
      "genferin ok 1269\n",
      "Camillepantano ok 391\n",
      "zaki_marouane ok 43\n",
      "lessmileysdelom ok 2832\n",
      "brmarot ok 763\n",
      "F__Casta ok 563\n",
      "hugosoutra ok 2520\n"
     ]
    },
    {
     "name": "stderr",
     "output_type": "stream",
     "text": [
      "rate limit exceeded: sleeping 893.5960559844971 secs\n"
     ]
    },
    {
     "name": "stdout",
     "output_type": "stream",
     "text": [
      "nmaisetti ok 2882\n",
      "OdataMalo ok 728\n",
      "TatdeF ok 718\n",
      "GothBorg ok 249\n",
      "AgenceSkoli ok 471\n",
      "GilPradeau ok 1393\n"
     ]
    },
    {
     "name": "stderr",
     "output_type": "stream",
     "text": [
      "rate limit exceeded: sleeping 893.1690969467163 secs\n"
     ]
    },
    {
     "name": "stdout",
     "output_type": "stream",
     "text": [
      "joelgombin ok 12365\n",
      "PinsonGilles ok 4598\n",
      "desidedata ok 285\n",
      "AlexisGhosn ok 793\n"
     ]
    },
    {
     "name": "stderr",
     "output_type": "stream",
     "text": [
      "rate limit exceeded: sleeping 893.7168681621552 secs\n"
     ]
    },
    {
     "name": "stdout",
     "output_type": "stream",
     "text": [
      "Munandar_25 ok 2\n",
      "TutsLyon ok 228\n",
      "nicolasnova ok 12438\n"
     ]
    },
    {
     "name": "stderr",
     "output_type": "stream",
     "text": [
      "rate limit exceeded: sleeping 892.3189289569855 secs\n"
     ]
    },
    {
     "name": "stdout",
     "output_type": "stream",
     "text": [
      "datactivi_st ok 9356\n",
      "pybaudot ok 1355\n",
      "GaetanConstant ok 1297\n",
      "Dymytrova1 ok 251\n"
     ]
    },
    {
     "name": "stderr",
     "output_type": "stream",
     "text": [
      "rate limit exceeded: sleeping 892.9545459747314 secs\n"
     ]
    },
    {
     "name": "stdout",
     "output_type": "stream",
     "text": [
      "timdavies ok 8599\n",
      "problème:  lacame22\n",
      "DataBzh ok 2853\n",
      "pgernez ok 266\n",
      "virginiemarco ok 348\n"
     ]
    },
    {
     "name": "stderr",
     "output_type": "stream",
     "text": [
      "rate limit exceeded: sleeping 894.4919190406799 secs\n"
     ]
    },
    {
     "name": "stdout",
     "output_type": "stream",
     "text": [
      "gameofchlens ok 40\n",
      "mariyapikhtere1 ok 184\n",
      "fcauchi ok 4081\n"
     ]
    },
    {
     "name": "stderr",
     "output_type": "stream",
     "text": [
      "rate limit exceeded: sleeping 891.6039848327637 secs\n"
     ]
    },
    {
     "name": "stdout",
     "output_type": "stream",
     "text": [
      "InfosReseaux ok 11023\n",
      "IdylleMannino ok 25\n",
      "BEnjalbal ok 1503\n",
      "panana_chocolat ok 125\n",
      "Benjamin_Pradel ok 2759\n",
      "FabriceBardet ok 277\n",
      "ArmelleGilliard ok 1502\n",
      "fa8d594d7f03411 ok 9\n"
     ]
    },
    {
     "name": "stderr",
     "output_type": "stream",
     "text": [
      "rate limit exceeded: sleeping 894.486988067627 secs\n"
     ]
    },
    {
     "name": "stdout",
     "output_type": "stream",
     "text": [
      "_BMichel_ ok 3017\n",
      "ben1999mohamed ok 5\n"
     ]
    },
    {
     "name": "stderr",
     "output_type": "stream",
     "text": [
      "rate limit exceeded: sleeping 893.9766309261322 secs\n",
      "rate limit exceeded: sleeping 891.6024918556213 secs\n",
      "rate limit exceeded: sleeping 892.510509967804 secs\n",
      "rate limit exceeded: sleeping 891.1173100471497 secs\n",
      "rate limit exceeded: sleeping 891.8037540912628 secs\n",
      "rate limit exceeded: sleeping 891.9606039524078 secs\n",
      "rate limit exceeded: sleeping 888.8394849300385 secs\n",
      "rate limit exceeded: sleeping 891.4016671180725 secs\n",
      "rate limit exceeded: sleeping 890.344400882721 secs\n",
      "rate limit exceeded: sleeping 891.968211889267 secs\n",
      "rate limit exceeded: sleeping 891.4577519893646 secs\n",
      "rate limit exceeded: sleeping 890.6621239185333 secs\n",
      "rate limit exceeded: sleeping 890.3360121250153 secs\n",
      "rate limit exceeded: sleeping 890.2790720462799 secs\n",
      "rate limit exceeded: sleeping 890.1265931129456 secs\n",
      "rate limit exceeded: sleeping 879.2623660564423 secs\n",
      "rate limit exceeded: sleeping 883.8919379711151 secs\n",
      "rate limit exceeded: sleeping 886.233097076416 secs\n",
      "rate limit exceeded: sleeping 882.4423360824585 secs\n",
      "rate limit exceeded: sleeping 884.5028281211853 secs\n",
      "rate limit exceeded: sleeping 885.5008659362793 secs\n",
      "rate limit exceeded: sleeping 885.5610060691833 secs\n",
      "rate limit exceeded: sleeping 889.4544489383698 secs\n",
      "rate limit exceeded: sleeping 888.0051782131195 secs\n",
      "rate limit exceeded: sleeping 889.1553330421448 secs\n",
      "rate limit exceeded: sleeping 888.6052720546722 secs\n",
      "rate limit exceeded: sleeping 889.735741853714 secs\n",
      "rate limit exceeded: sleeping 889.5982677936554 secs\n",
      "rate limit exceeded: sleeping 888.4302310943604 secs\n",
      "rate limit exceeded: sleeping 889.3486039638519 secs\n",
      "rate limit exceeded: sleeping 889.8088948726654 secs\n",
      "rate limit exceeded: sleeping 889.0258159637451 secs\n",
      "rate limit exceeded: sleeping 888.1462149620056 secs\n",
      "rate limit exceeded: sleeping 887.5629198551178 secs\n",
      "rate limit exceeded: sleeping 889.5054929256439 secs\n",
      "rate limit exceeded: sleeping 889.0065269470215 secs\n",
      "rate limit exceeded: sleeping 888.9131808280945 secs\n",
      "rate limit exceeded: sleeping 888.3818109035492 secs\n",
      "rate limit exceeded: sleeping 889.3385698795319 secs\n",
      "rate limit exceeded: sleeping 887.0864748954773 secs\n",
      "rate limit exceeded: sleeping 888.3973739147186 secs\n",
      "rate limit exceeded: sleeping 890.0855097770691 secs\n",
      "rate limit exceeded: sleeping 889.2433338165283 secs\n"
     ]
    },
    {
     "name": "stdout",
     "output_type": "stream",
     "text": [
      "TayeDiggs ok 651478\n",
      "FRV1OO ok 682\n",
      "DawnAndLink ok 14\n",
      "lapply ok 1156\n"
     ]
    },
    {
     "name": "stderr",
     "output_type": "stream",
     "text": [
      "rate limit exceeded: sleeping 885.0161249637604 secs\n"
     ]
    },
    {
     "name": "stdout",
     "output_type": "stream",
     "text": [
      "Datalyo ok 440\n",
      "biblauer ok 2805\n",
      "guillaumethi ok 1019\n"
     ]
    },
    {
     "name": "stderr",
     "output_type": "stream",
     "text": [
      "rate limit exceeded: sleeping 888.8784630298615 secs\n"
     ]
    },
    {
     "name": "stdout",
     "output_type": "stream",
     "text": [
      "NicolasLoubet ok 12723\n",
      "rdunks1 ok 787\n",
      "laMYNE_ ok 2513\n",
      "xmasclaux ok 499\n",
      "problème:  CBatellier\n",
      "problème:  AlexGadre\n",
      "martinovichf ok 274\n",
      "FrMagnin ok 728\n",
      "NoraDiouri ok 529\n"
     ]
    },
    {
     "name": "stderr",
     "output_type": "stream",
     "text": [
      "rate limit exceeded: sleeping 890.880537033081 secs\n"
     ]
    },
    {
     "name": "stdout",
     "output_type": "stream",
     "text": [
      "OpenLaw_fr ok 4262\n",
      "opendataphilly ok 4421\n",
      "samjlogan ok 73\n",
      "c_frisch ok 856\n"
     ]
    },
    {
     "name": "stderr",
     "output_type": "stream",
     "text": [
      "rate limit exceeded: sleeping 888.329968214035 secs\n"
     ]
    },
    {
     "name": "stdout",
     "output_type": "stream",
     "text": [
      "HiveData ok 4522\n",
      "mathieucaps ok 886\n",
      "iraneidepmoreno ok 13\n",
      "thefrenchsmith ok 3865\n",
      "OrianneLedroit ok 3885\n"
     ]
    },
    {
     "name": "stderr",
     "output_type": "stream",
     "text": [
      "rate limit exceeded: sleeping 888.0535941123962 secs\n"
     ]
    },
    {
     "name": "stdout",
     "output_type": "stream",
     "text": [
      "ehooge ok 7280\n",
      "CoralineCherbit ok 542\n",
      "SASGobert ok 5\n",
      "Clixapp ok 33\n",
      "supplensois ok 1796\n"
     ]
    },
    {
     "name": "stderr",
     "output_type": "stream",
     "text": [
      "rate limit exceeded: sleeping 891.3305010795593 secs\n",
      "rate limit exceeded: sleeping 889.2578189373016 secs\n",
      "rate limit exceeded: sleeping 889.0424010753632 secs\n"
     ]
    },
    {
     "name": "stdout",
     "output_type": "stream",
     "text": [
      "CrowdTYouth ok 41492\n",
      "n_vernus_prost ok 1399\n"
     ]
    },
    {
     "name": "stderr",
     "output_type": "stream",
     "text": [
      "rate limit exceeded: sleeping 888.4992680549622 secs\n"
     ]
    },
    {
     "name": "stdout",
     "output_type": "stream",
     "text": [
      "fab_mob ok 7173\n",
      "NaliniLC ok 474\n",
      "morallobetass4 ok 58\n",
      "jhondel ok 535\n",
      "mmfaten ok 364\n",
      "djonglez ok 904\n",
      "AlienorFz ok 175\n",
      "twitteyou ok 46\n"
     ]
    },
    {
     "name": "stderr",
     "output_type": "stream",
     "text": [
      "rate limit exceeded: sleeping 891.5671560764313 secs\n"
     ]
    },
    {
     "name": "stdout",
     "output_type": "stream",
     "text": [
      "FabriquelaCite ok 8049\n",
      "BlancJulie3 ok 46\n",
      "FlorianGauthier ok 1157\n",
      "DuboisPC ok 29\n",
      "DoreyCorentin ok 102\n",
      "CLambertpro ok 539\n",
      "Yurycor ok 80\n",
      "CronomioApp ok 378\n"
     ]
    },
    {
     "name": "stderr",
     "output_type": "stream",
     "text": [
      "rate limit exceeded: sleeping 894.5256152153015 secs\n"
     ]
    },
    {
     "name": "stdout",
     "output_type": "stream",
     "text": [
      "imaginove ok 5629\n",
      "EnviroHack2015 ok 413\n",
      "MerylLaurent ok 175\n",
      "c_brfft ok 1655\n",
      "BenoitLoeillet ok 1116\n",
      "MKayN ok 637\n",
      "LawLeenhardt ok 5768\n",
      "CofSarah ok 215\n"
     ]
    },
    {
     "name": "stderr",
     "output_type": "stream",
     "text": [
      "rate limit exceeded: sleeping 890.9986219406128 secs\n"
     ]
    },
    {
     "name": "stdout",
     "output_type": "stream",
     "text": [
      "Hove_KDigital ok 3506\n",
      "Marie_Veltz ok 66\n",
      "urbanaute ok 1040\n",
      "Nath_a_lu ok 178\n",
      "FioletG ok 258\n",
      "jrmdns ok 3090\n",
      "bricevinocour ok 767\n"
     ]
    },
    {
     "name": "stderr",
     "output_type": "stream",
     "text": [
      "rate limit exceeded: sleeping 892.15984416008 secs\n"
     ]
    },
    {
     "name": "stdout",
     "output_type": "stream",
     "text": [
      "laurelucchesi ok 7585\n",
      "RevueZilsel ok 3340\n",
      "dzabberloki ok 7\n",
      "Noemie_Calais ok 17\n",
      "seschoedel ok 212\n"
     ]
    },
    {
     "name": "stderr",
     "output_type": "stream",
     "text": [
      "rate limit exceeded: sleeping 889.0795769691467 secs\n"
     ]
    },
    {
     "name": "stdout",
     "output_type": "stream",
     "text": [
      "sabineblanc ok 5914\n",
      "BEE_EHESS ok 139\n",
      "BabyBertyy ok 2719\n",
      "LensoisInTheUSA ok 5536\n"
     ]
    },
    {
     "name": "stderr",
     "output_type": "stream",
     "text": [
      "rate limit exceeded: sleeping 891.2881820201874 secs\n"
     ]
    },
    {
     "name": "stdout",
     "output_type": "stream",
     "text": [
      "MatthieuLilleP ok 1390\n",
      "CandelaProd ok 342\n"
     ]
    },
    {
     "name": "stderr",
     "output_type": "stream",
     "text": [
      "rate limit exceeded: sleeping 890.4080090522766 secs\n",
      "rate limit exceeded: sleeping 889.1319680213928 secs\n"
     ]
    },
    {
     "name": "stdout",
     "output_type": "stream",
     "text": [
      "freakonometrics ok 28004\n",
      "libidosciendi ok 7661\n",
      "Schreibix ok 1423\n",
      "problème:  cleverbanana\n",
      "jostadh ok 139\n"
     ]
    },
    {
     "name": "stderr",
     "output_type": "stream",
     "text": [
      "rate limit exceeded: sleeping 892.7421219348907 secs\n"
     ]
    },
    {
     "name": "stdout",
     "output_type": "stream",
     "text": [
      "aktant ok 1463\n",
      "ArthurRenault ok 497\n",
      "ruggeroparis ok 440\n",
      "datateam2020 ok 22\n",
      "Antoine_Jardin ok 200\n",
      "Sarah0dls ok 25\n",
      "oxoCreations ok 504\n",
      "Rclensnet ok 232\n",
      "gcrouigneau ok 1452\n",
      "varl_mbarx ok 1129\n"
     ]
    },
    {
     "name": "stderr",
     "output_type": "stream",
     "text": [
      "rate limit exceeded: sleeping 895.3828148841858 secs\n"
     ]
    },
    {
     "name": "stdout",
     "output_type": "stream",
     "text": [
      "LieuxDeSavoir ok 8404\n",
      "Mathilde_Bras ok 3588\n",
      "bibliobuzard ok 155\n",
      "Gilles_Juan ok 2673\n",
      "HaCLTO ok 658\n"
     ]
    },
    {
     "name": "stderr",
     "output_type": "stream",
     "text": [
      "rate limit exceeded: sleeping 890.9116411209106 secs\n"
     ]
    },
    {
     "name": "stdout",
     "output_type": "stream",
     "text": [
      "problème:  UrrutiaAdriana\n",
      "constanceparodi ok 3080\n",
      "sociolol ok 2498\n"
     ]
    },
    {
     "name": "stderr",
     "output_type": "stream",
     "text": [
      "rate limit exceeded: sleeping 892.319130897522 secs\n"
     ]
    },
    {
     "name": "stdout",
     "output_type": "stream",
     "text": [
      "ArSaintMartin ok 10797\n",
      "mamadou_zizou ok 87\n",
      "Contemporaneite ok 347\n",
      "Taimaz ok 5644\n",
      "lehub_agence ok 376\n",
      "StatsLens ok 352\n",
      "b_boucherie ok 215\n"
     ]
    },
    {
     "name": "stderr",
     "output_type": "stream",
     "text": [
      "rate limit exceeded: sleeping 892.2010581493378 secs\n"
     ]
    },
    {
     "name": "stdout",
     "output_type": "stream",
     "text": [
      "Rymly ok 385\n",
      "micromegapolis ok 586\n",
      "isawf ok 38\n",
      "fc_phare ok 1116\n",
      "Fantarousse ok 193\n",
      "problème:  nozav\n",
      "squintar ok 4009\n",
      "samuelgoyet ok 605\n",
      "EFMfootmasculin ok 902\n"
     ]
    },
    {
     "name": "stderr",
     "output_type": "stream",
     "text": [
      "rate limit exceeded: sleeping 894.9652271270752 secs\n"
     ]
    },
    {
     "name": "stdout",
     "output_type": "stream",
     "text": [
      "mXli1 ok 5036\n",
      "leofn3 ok 2349\n",
      "LoicHay ok 5591\n"
     ]
    },
    {
     "name": "stderr",
     "output_type": "stream",
     "text": [
      "rate limit exceeded: sleeping 890.0661418437958 secs\n"
     ]
    },
    {
     "name": "stdout",
     "output_type": "stream",
     "text": [
      "el_Reg ok 2347\n",
      "LauraVVDE ok 118\n",
      "Griibouille ok 678\n"
     ]
    },
    {
     "name": "stderr",
     "output_type": "stream",
     "text": [
      "rate limit exceeded: sleeping 890.388689994812 secs\n"
     ]
    },
    {
     "name": "stdout",
     "output_type": "stream",
     "text": [
      "yann_bonnet ok 11062\n",
      "AmauryVanEspen ok 677\n",
      "michelbriand ok 10525\n"
     ]
    },
    {
     "name": "stderr",
     "output_type": "stream",
     "text": [
      "rate limit exceeded: sleeping 889.1237828731537 secs\n"
     ]
    },
    {
     "name": "stdout",
     "output_type": "stream",
     "text": [
      "arouvroy ok 2929\n",
      "sdartiailh ok 945\n",
      "aamonnz ok 4396\n",
      "GuardianOfHoney ok 387\n",
      "gefaure ok 1570\n",
      "mek2b ok 481\n",
      "annaCI_2011 ok 631\n",
      "ubuavelo ok 420\n",
      "laspic ok 1465\n"
     ]
    },
    {
     "name": "stderr",
     "output_type": "stream",
     "text": [
      "rate limit exceeded: sleeping 892.2335929870605 secs\n"
     ]
    },
    {
     "name": "stdout",
     "output_type": "stream",
     "text": [
      "oliviertredan ok 737\n",
      "vfauve ok 918\n",
      "OuVontNosImpots ok 44\n",
      "Joel_Tignon ok 160\n",
      "Cedric026080 ok 108\n",
      "millenaire3 ok 5891\n",
      "PhotosRCL ok 104\n",
      "alexina_f ok 115\n",
      "problème:  AhlemBensa\n",
      "Hughfroomwilson ok 4\n"
     ]
    },
    {
     "name": "stderr",
     "output_type": "stream",
     "text": [
      "rate limit exceeded: sleeping 895.5900950431824 secs\n"
     ]
    },
    {
     "name": "stdout",
     "output_type": "stream",
     "text": [
      "lobtic ok 106\n",
      "jfmarchandise ok 3507\n",
      "Sam_azl ok 1378\n",
      "abrugiere ok 1528\n",
      "franmusiani ok 3009\n",
      "problème:  GameinSociety\n",
      "TeamLens_Off ok 625\n"
     ]
    },
    {
     "name": "stderr",
     "output_type": "stream",
     "text": [
      "rate limit exceeded: sleeping 893.2436630725861 secs\n"
     ]
    },
    {
     "name": "stdout",
     "output_type": "stream",
     "text": [
      "CorporateLigue5 ok 56\n",
      "smartayan ok 3593\n",
      "lespotinsdangel ok 6489\n"
     ]
    },
    {
     "name": "stderr",
     "output_type": "stream",
     "text": [
      "rate limit exceeded: sleeping 891.5369839668274 secs\n"
     ]
    },
    {
     "name": "stdout",
     "output_type": "stream",
     "text": [
      "chhhloe ok 5522\n",
      "CCRduNPA ok 312\n",
      "helloitsanouk ok 2064\n",
      "manoriz_ ok 678\n",
      "SR_B_ ok 1379\n",
      "MPEPNational ok 761\n",
      "allardhuver ok 522\n",
      "VincentMandinau ok 1046\n"
     ]
    },
    {
     "name": "stderr",
     "output_type": "stream",
     "text": [
      "rate limit exceeded: sleeping 893.0760231018066 secs\n"
     ]
    },
    {
     "name": "stdout",
     "output_type": "stream",
     "text": [
      "CeriseLocard ok 1083\n",
      "michaelgurstein ok 1326\n",
      "yoannveny ok 89\n",
      "nawatography ok 287\n",
      "MaximeHure ok 511\n",
      "FloMuteb ok 349\n",
      "astridperdrix ok 412\n",
      "LaMarv_ ok 268\n",
      "JCPlantin ok 2445\n",
      "meego ok 509\n",
      "webmasterditori ok 41\n"
     ]
    },
    {
     "name": "stderr",
     "output_type": "stream",
     "text": [
      "rate limit exceeded: sleeping 896.3329019546509 secs\n"
     ]
    },
    {
     "name": "stdout",
     "output_type": "stream",
     "text": [
      "fcharles ok 9056\n",
      "RBadouard ok 3567\n",
      "egschmitt ok 1611\n"
     ]
    },
    {
     "name": "stderr",
     "output_type": "stream",
     "text": [
      "rate limit exceeded: sleeping 890.825511932373 secs\n",
      "rate limit exceeded: sleeping 892.0871050357819 secs\n"
     ]
    },
    {
     "name": "stdout",
     "output_type": "stream",
     "text": [
      "EnfantsDroits ok 18225\n",
      "ephore ok 339\n",
      "Enroweb ok 6328\n",
      "DELPHDESGURSE ok 1234\n",
      "Malik_T_Richard ok 230\n"
     ]
    },
    {
     "name": "stderr",
     "output_type": "stream",
     "text": [
      "rate limit exceeded: sleeping 892.7823569774628 secs\n"
     ]
    },
    {
     "name": "stdout",
     "output_type": "stream",
     "text": [
      "YBoffo ok 465\n",
      "MaximeMichali ok 66\n",
      "HBERNINZON ok 331\n",
      "bloveluck ok 837\n",
      "MarcMarcantoine ok 1\n",
      "storyplanet ok 1182\n",
      "Lebowskiana ok 2600\n",
      "C_Mabi ok 3076\n",
      "_RaluCalin_ ok 185\n"
     ]
    },
    {
     "name": "stderr",
     "output_type": "stream",
     "text": [
      "rate limit exceeded: sleeping 895.5662069320679 secs\n"
     ]
    },
    {
     "name": "stdout",
     "output_type": "stream",
     "text": [
      "123opendata ok 770\n",
      "Marine_Bgs ok 232\n",
      "BySupersub ok 165\n",
      "appledav ok 1655\n",
      "samgoeta ok 4154\n",
      "garcianuria ok 194\n",
      "Mai_nguyenduy ok 104\n",
      "socio_log ok 260\n",
      "FraArtioli ok 182\n",
      "10kyfly ok 82\n"
     ]
    },
    {
     "name": "stderr",
     "output_type": "stream",
     "text": [
      "rate limit exceeded: sleeping 895.9436979293823 secs\n"
     ]
    },
    {
     "name": "stdout",
     "output_type": "stream",
     "text": [
      "CyrilleGiquello ok 791\n",
      "Hugobiwan ok 5150\n",
      "LaurianneDsp ok 2590\n"
     ]
    },
    {
     "name": "stderr",
     "output_type": "stream",
     "text": [
      "rate limit exceeded: sleeping 892.0655210018158 secs\n"
     ]
    },
    {
     "name": "stdout",
     "output_type": "stream",
     "text": [
      "PhilippeGargov ok 5379\n",
      "77sportsinfos ok 2614\n",
      "patricaisquire ok 87\n",
      "schignard ok 6711\n",
      "dcarlier ok 126\n",
      "antekbs ok 774\n",
      "jfadeuilhe ok 203\n"
     ]
    },
    {
     "name": "stderr",
     "output_type": "stream",
     "text": [
      "rate limit exceeded: sleeping 894.1291310787201 secs\n"
     ]
    },
    {
     "name": "stdout",
     "output_type": "stream",
     "text": [
      "OpenData3M ok 3493\n",
      "Anais_Truant ok 475\n",
      "jesswinnie ok 58\n",
      "pzwsk ok 1770\n",
      "ClemencePene ok 5387\n"
     ]
    },
    {
     "name": "stderr",
     "output_type": "stream",
     "text": [
      "rate limit exceeded: sleeping 892.576159954071 secs\n"
     ]
    },
    {
     "name": "stdout",
     "output_type": "stream",
     "text": [
      "AdrienRougier ok 1423\n",
      "stephaniewojcik ok 2279\n"
     ]
    },
    {
     "name": "stderr",
     "output_type": "stream",
     "text": [
      "rate limit exceeded: sleeping 893.7109279632568 secs\n",
      "rate limit exceeded: sleeping 892.8844270706177 secs\n",
      "rate limit exceeded: sleeping 892.2888569831848 secs\n",
      "rate limit exceeded: sleeping 891.7411000728607 secs\n",
      "rate limit exceeded: sleeping 893.0252640247345 secs\n",
      "rate limit exceeded: sleeping 893.7012569904327 secs\n",
      "rate limit exceeded: sleeping 894.0394990444183 secs\n",
      "rate limit exceeded: sleeping 892.9595677852631 secs\n",
      "rate limit exceeded: sleeping 893.6899189949036 secs\n",
      "rate limit exceeded: sleeping 892.1787340641022 secs\n",
      "rate limit exceeded: sleeping 893.7505888938904 secs\n",
      "rate limit exceeded: sleeping 892.9972620010376 secs\n",
      "rate limit exceeded: sleeping 891.4855220317841 secs\n",
      "rate limit exceeded: sleeping 893.0094840526581 secs\n",
      "rate limit exceeded: sleeping 893.0897300243378 secs\n",
      "rate limit exceeded: sleeping 892.5479600429535 secs\n",
      "rate limit exceeded: sleeping 892.6202969551086 secs\n",
      "rate limit exceeded: sleeping 893.412985086441 secs\n",
      "rate limit exceeded: sleeping 891.4916770458221 secs\n",
      "rate limit exceeded: sleeping 892.0724248886108 secs\n",
      "rate limit exceeded: sleeping 892.8446578979492 secs\n",
      "rate limit exceeded: sleeping 891.5261640548706 secs\n",
      "rate limit exceeded: sleeping 891.6545767784119 secs\n",
      "rate limit exceeded: sleeping 891.8173198699951 secs\n",
      "rate limit exceeded: sleeping 891.4671230316162 secs\n",
      "rate limit exceeded: sleeping 892.298789024353 secs\n",
      "rate limit exceeded: sleeping 891.1337480545044 secs\n",
      "rate limit exceeded: sleeping 890.5572710037231 secs\n",
      "rate limit exceeded: sleeping 891.5211100578308 secs\n",
      "rate limit exceeded: sleeping 891.2500150203705 secs\n",
      "rate limit exceeded: sleeping 890.4279799461365 secs\n",
      "rate limit exceeded: sleeping 891.3365068435669 secs\n",
      "rate limit exceeded: sleeping 887.635735988617 secs\n",
      "rate limit exceeded: sleeping 888.797278881073 secs\n",
      "rate limit exceeded: sleeping 890.1507430076599 secs\n",
      "rate limit exceeded: sleeping 889.9224309921265 secs\n",
      "rate limit exceeded: sleeping 888.6242299079895 secs\n",
      "rate limit exceeded: sleeping 889.3483459949493 secs\n",
      "rate limit exceeded: sleeping 888.7652270793915 secs\n",
      "rate limit exceeded: sleeping 888.5016341209412 secs\n",
      "rate limit exceeded: sleeping 889.4188539981842 secs\n",
      "rate limit exceeded: sleeping 889.5231711864471 secs\n",
      "rate limit exceeded: sleeping 889.7537860870361 secs\n",
      "rate limit exceeded: sleeping 888.9325261116028 secs\n",
      "rate limit exceeded: sleeping 889.8979830741882 secs\n",
      "rate limit exceeded: sleeping 889.0971698760986 secs\n",
      "rate limit exceeded: sleeping 888.4050490856171 secs\n",
      "rate limit exceeded: sleeping 888.6342749595642 secs\n",
      "rate limit exceeded: sleeping 887.8313920497894 secs\n",
      "rate limit exceeded: sleeping 887.6243369579315 secs\n",
      "rate limit exceeded: sleeping 886.6377651691437 secs\n",
      "rate limit exceeded: sleeping 887.4333200454712 secs\n"
     ]
    },
    {
     "name": "stdout",
     "output_type": "stream",
     "text": [
      "frenchweb ok 785194\n",
      "GOuverte ok 709\n"
     ]
    },
    {
     "name": "stderr",
     "output_type": "stream",
     "text": [
      "rate limit exceeded: sleeping 882.8977489471436 secs\n"
     ]
    },
    {
     "name": "stdout",
     "output_type": "stream",
     "text": [
      "Opendatasoft ok 8331\n",
      "jmlazard ok 4017\n",
      "sociographie ok 2657\n"
     ]
    },
    {
     "name": "stderr",
     "output_type": "stream",
     "text": [
      "rate limit exceeded: sleeping 889.2606289386749 secs\n"
     ]
    },
    {
     "name": "stdout",
     "output_type": "stream",
     "text": [
      "qcouvert ok 2611\n",
      "PhDelirium ok 2308\n",
      "Gol_Ukraine ok 711\n",
      "ccolnet ok 769\n",
      "CultOrd ok 1245\n",
      "cboutet ok 1140\n",
      "17oct_1961 ok 321\n",
      "problème:  georgeslebonn\n",
      "ITEMSint ok 456\n",
      "vincemadeline ok 1857\n"
     ]
    },
    {
     "name": "stderr",
     "output_type": "stream",
     "text": [
      "rate limit exceeded: sleeping 891.0033159255981 secs\n"
     ]
    },
    {
     "name": "stdout",
     "output_type": "stream",
     "text": [
      "felixb1 ok 926\n",
      "RbnOrient ok 348\n",
      "capitaleouverte ok 648\n",
      "Slavsky_ltd ok 692\n",
      "xcrouan ok 4782\n",
      "eve_robert ok 288\n",
      "CineVodka ok 78\n",
      "datalocale ok 727\n",
      "keronos ok 546\n"
     ]
    },
    {
     "name": "stderr",
     "output_type": "stream",
     "text": [
      "rate limit exceeded: sleeping 891.4644238948822 secs\n"
     ]
    },
    {
     "name": "stdout",
     "output_type": "stream",
     "text": [
      "MrDimitriG ok 2537\n",
      "Clmce_Bm ok 40\n",
      "bzante ok 6545\n",
      "guilens ok 11\n",
      "slevy_ayoun ok 1107\n",
      "hpargue ok 2535\n"
     ]
    },
    {
     "name": "stderr",
     "output_type": "stream",
     "text": [
      "rate limit exceeded: sleeping 890.5281479358673 secs\n"
     ]
    },
    {
     "name": "stdout",
     "output_type": "stream",
     "text": [
      "Commune1871 ok 1452\n",
      "Vicuze ok 134\n",
      "i_thunes ok 117\n",
      "redDOTvideo ok 71\n",
      "ViewsCollectif ok 816\n",
      "MorganeGB ok 538\n",
      "PhilippeNadouce ok 2114\n",
      "Turone ok 2120\n"
     ]
    },
    {
     "name": "stderr",
     "output_type": "stream",
     "text": [
      "rate limit exceeded: sleeping 892.3657360076904 secs\n"
     ]
    },
    {
     "name": "stdout",
     "output_type": "stream",
     "text": [
      "nicolaskb ok 11760\n"
     ]
    },
    {
     "name": "stderr",
     "output_type": "stream",
     "text": [
      "rate limit exceeded: sleeping 886.8808240890503 secs\n",
      "rate limit exceeded: sleeping 888.8787939548492 secs\n",
      "rate limit exceeded: sleeping 888.1494789123535 secs\n",
      "rate limit exceeded: sleeping 889.1478888988495 secs\n",
      "rate limit exceeded: sleeping 889.1105599403381 secs\n",
      "rate limit exceeded: sleeping 887.4196321964264 secs\n",
      "rate limit exceeded: sleeping 889.4818298816681 secs\n",
      "rate limit exceeded: sleeping 889.0864310264587 secs\n",
      "rate limit exceeded: sleeping 889.5666790008545 secs\n",
      "rate limit exceeded: sleeping 889.5315630435944 secs\n",
      "rate limit exceeded: sleeping 890.2549979686737 secs\n",
      "rate limit exceeded: sleeping 889.2831099033356 secs\n",
      "rate limit exceeded: sleeping 889.6268811225891 secs\n",
      "rate limit exceeded: sleeping 891.0314319133759 secs\n",
      "rate limit exceeded: sleeping 888.9229581356049 secs\n",
      "rate limit exceeded: sleeping 891.4657459259033 secs\n",
      "rate limit exceeded: sleeping 891.4393301010132 secs\n",
      "rate limit exceeded: sleeping 891.3107788562775 secs\n",
      "rate limit exceeded: sleeping 888.3507158756256 secs\n",
      "rate limit exceeded: sleeping 888.414256811142 secs\n",
      "rate limit exceeded: sleeping 889.392816066742 secs\n",
      "rate limit exceeded: sleeping 888.8511538505554 secs\n",
      "rate limit exceeded: sleeping 890.8602750301361 secs\n",
      "rate limit exceeded: sleeping 890.3726840019226 secs\n",
      "rate limit exceeded: sleeping 890.908919095993 secs\n",
      "rate limit exceeded: sleeping 891.0823450088501 secs\n",
      "rate limit exceeded: sleeping 891.295156955719 secs\n",
      "rate limit exceeded: sleeping 890.5445868968964 secs\n",
      "rate limit exceeded: sleeping 891.2511627674103 secs\n"
     ]
    },
    {
     "name": "stdout",
     "output_type": "stream",
     "text": [
      "jeanlucr ok 436245\n",
      "samuelpicas ok 196\n",
      "CamilleDedack ok 361\n",
      "projetfrutescen ok 23\n"
     ]
    },
    {
     "name": "stderr",
     "output_type": "stream",
     "text": [
      "rate limit exceeded: sleeping 889.5899739265442 secs\n"
     ]
    },
    {
     "name": "stdout",
     "output_type": "stream",
     "text": [
      "Chroni_clip ok 539\n",
      "planBdeveloper ok 735\n",
      "problème:  picmustic\n",
      "Pierregm ok 21\n",
      "jules_victor ok 38\n",
      "cyrilmarci ok 188\n",
      "AgatheGuilhem ok 129\n",
      "LumentoFilm ok 2173\n",
      "jcbouniol ok 2183\n",
      "problème:  GGarvanese\n",
      "storytell_in ok 654\n"
     ]
    },
    {
     "name": "stderr",
     "output_type": "stream",
     "text": [
      "rate limit exceeded: sleeping 897.6067960262299 secs\n"
     ]
    },
    {
     "name": "stdout",
     "output_type": "stream",
     "text": [
      "q_wesh ok 258\n",
      "problème:  morganetual\n",
      "CornerProd ok 811\n",
      "3wdoc ok 1472\n",
      "weshlille ok 687\n"
     ]
    },
    {
     "name": "stderr",
     "output_type": "stream",
     "text": [
      "rate limit exceeded: sleeping 894.3025789260864 secs\n",
      "rate limit exceeded: sleeping 891.4086539745331 secs\n"
     ]
    },
    {
     "name": "stdout",
     "output_type": "stream",
     "text": [
      "RaphaelleRL ok 26592\n",
      "mars_buttruee ok 34\n",
      "rdvphoto ok 507\n",
      "chouing ok 6041\n"
     ]
    },
    {
     "name": "stderr",
     "output_type": "stream",
     "text": [
      "rate limit exceeded: sleeping 893.2554171085358 secs\n"
     ]
    },
    {
     "name": "stdout",
     "output_type": "stream",
     "text": [
      "rwwfr ok 4578\n",
      "GJaege ok 339\n",
      "etiennewesh ok 595\n",
      "problème:  plemga\n",
      "Langecarrie ok 4\n",
      "TertuliaSC ok 5608\n"
     ]
    },
    {
     "name": "stderr",
     "output_type": "stream",
     "text": [
      "rate limit exceeded: sleeping 894.3790950775146 secs\n"
     ]
    },
    {
     "name": "stdout",
     "output_type": "stream",
     "text": [
      "JeanAbbiateci ok 14005\n",
      "CalaisPDF ok 1135\n",
      "helenehay ok 39\n"
     ]
    },
    {
     "name": "stderr",
     "output_type": "stream",
     "text": [
      "rate limit exceeded: sleeping 893.412661075592 secs\n"
     ]
    },
    {
     "name": "stdout",
     "output_type": "stream",
     "text": [
      "thomasmatagne ok 1773\n",
      "kvhg ok 3476\n",
      "HaraldCP ok 248\n",
      "Infopulse ok 35\n",
      "louismoulin ok 4789\n"
     ]
    }
   ],
   "source": [
    "files = os.listdir(\"data\")\n",
    "for f in followers :\n",
    "    try:\n",
    "        name = f[\"username\"]\n",
    "        id_user = f[\"id\"]\n",
    "        if not name+\"_followers\" in files:\n",
    "            followers = get_followers(f[\"id\"])\n",
    "            pickle.dump(followers,open(f\"data/{name}_followers\",\"wb\"))\n",
    "            print(name,\"ok\",len(followers))\n",
    "    except:\n",
    "        print(\"problème: \",name)"
   ]
  }
 ],
 "metadata": {
  "kernelspec": {
   "display_name": "Python 3 (ipykernel)",
   "language": "python",
   "name": "python3"
  },
  "language_info": {
   "codemirror_mode": {
    "name": "ipython",
    "version": 3
   },
   "file_extension": ".py",
   "mimetype": "text/x-python",
   "name": "python",
   "nbconvert_exporter": "python",
   "pygments_lexer": "ipython3",
   "version": "3.9.13"
  }
 },
 "nbformat": 4,
 "nbformat_minor": 5
}
