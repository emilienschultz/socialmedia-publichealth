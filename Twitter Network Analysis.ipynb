{
 "cells": [
  {
   "cell_type": "markdown",
   "id": "bfea3d39",
   "metadata": {},
   "source": [
    "# Analysis Twitter data"
   ]
  },
  {
   "cell_type": "markdown",
   "id": "9de7c1a6",
   "metadata": {},
   "source": [
    "How can we study a social media as Twitter. The strategy is generally similar.\n",
    "\n",
    "- data collection (scrapping or API)\n",
    "- data curation  / management\n",
    "- exploration of the curated data\n",
    "- visualisations and advanced analysis"
   ]
  },
  {
   "cell_type": "markdown",
   "id": "dad1568d",
   "metadata": {},
   "source": [
    "## Step 1 - Collecting data\n",
    "\n",
    "In this case, I use `twarc` with commandline. Others options exist, for instance as a librairy.\n",
    "\n",
    "To use `twarc` : https://twarc-project.readthedocs.io/en/latest/twarc2_en_us/\n",
    "\n",
    "`twarc2 search --archive '#lancetgate OR lancetgate' --end-time \"2023-01-01\" --start-time \"2020-02-01\" results_lg.jsonl`\n",
    "\n",
    "To get the data in a csv format, I use another command line\n",
    "\n",
    "`twarc2 csv results_lg.jsonl results_lg.csv`\n",
    "\n",
    "We have a dataset with the tweets. You can download it here : https://www.dropbox.com/s/5lc3cfv8tpriw77/results_lg.zip?dl=0"
   ]
  },
  {
   "cell_type": "markdown",
   "id": "d01181cc",
   "metadata": {},
   "source": [
    "## Step 2 - exploring the data\n",
    "\n",
    "Let's use `Pandas`"
   ]
  },
  {
   "cell_type": "code",
   "execution_count": 1,
   "id": "0efb9fce",
   "metadata": {},
   "outputs": [],
   "source": [
    "import pandas as pd"
   ]
  },
  {
   "cell_type": "markdown",
   "id": "30f9a1ac",
   "metadata": {},
   "source": [
    "And load the data"
   ]
  },
  {
   "cell_type": "code",
   "execution_count": 2,
   "id": "9f613e0f",
   "metadata": {},
   "outputs": [
    {
     "data": {
      "text/plain": [
       "(135783, 83)"
      ]
     },
     "execution_count": 2,
     "metadata": {},
     "output_type": "execute_result"
    }
   ],
   "source": [
    "data = pd.read_csv(\"../Data/results_lg.csv\", \n",
    "                    low_memory=False,\n",
    "                    dtype={'entities.cashtags':\"object\"})\n",
    "data.shape"
   ]
  },
  {
   "cell_type": "code",
   "execution_count": 3,
   "id": "a397edd7",
   "metadata": {},
   "outputs": [
    {
     "data": {
      "text/html": [
       "<div>\n",
       "<style scoped>\n",
       "    .dataframe tbody tr th:only-of-type {\n",
       "        vertical-align: middle;\n",
       "    }\n",
       "\n",
       "    .dataframe tbody tr th {\n",
       "        vertical-align: top;\n",
       "    }\n",
       "\n",
       "    .dataframe thead th {\n",
       "        text-align: right;\n",
       "    }\n",
       "</style>\n",
       "<table border=\"1\" class=\"dataframe\">\n",
       "  <thead>\n",
       "    <tr style=\"text-align: right;\">\n",
       "      <th></th>\n",
       "      <th>id</th>\n",
       "      <th>conversation_id</th>\n",
       "      <th>referenced_tweets.replied_to.id</th>\n",
       "      <th>referenced_tweets.retweeted.id</th>\n",
       "      <th>referenced_tweets.quoted.id</th>\n",
       "      <th>author_id</th>\n",
       "      <th>in_reply_to_user_id</th>\n",
       "      <th>in_reply_to_username</th>\n",
       "      <th>retweeted_user_id</th>\n",
       "      <th>retweeted_username</th>\n",
       "      <th>...</th>\n",
       "      <th>geo.geo.bbox</th>\n",
       "      <th>geo.geo.type</th>\n",
       "      <th>geo.id</th>\n",
       "      <th>geo.name</th>\n",
       "      <th>geo.place_id</th>\n",
       "      <th>geo.place_type</th>\n",
       "      <th>matching_rules</th>\n",
       "      <th>__twarc.retrieved_at</th>\n",
       "      <th>__twarc.url</th>\n",
       "      <th>__twarc.version</th>\n",
       "    </tr>\n",
       "  </thead>\n",
       "  <tbody>\n",
       "    <tr>\n",
       "      <th>0</th>\n",
       "      <td>1609305609211416578</td>\n",
       "      <td>1609305609211416578</td>\n",
       "      <td>NaN</td>\n",
       "      <td>1.608943e+18</td>\n",
       "      <td>NaN</td>\n",
       "      <td>1182419452710838272</td>\n",
       "      <td>NaN</td>\n",
       "      <td>NaN</td>\n",
       "      <td>1.531881e+18</td>\n",
       "      <td>TakeHeight</td>\n",
       "      <td>...</td>\n",
       "      <td>NaN</td>\n",
       "      <td>NaN</td>\n",
       "      <td>NaN</td>\n",
       "      <td>NaN</td>\n",
       "      <td>NaN</td>\n",
       "      <td>NaN</td>\n",
       "      <td>NaN</td>\n",
       "      <td>2023-01-16T21:04:47+00:00</td>\n",
       "      <td>https://api.twitter.com/2/tweets/search/all?ex...</td>\n",
       "      <td>2.13.0</td>\n",
       "    </tr>\n",
       "    <tr>\n",
       "      <th>1</th>\n",
       "      <td>1609279128456531969</td>\n",
       "      <td>1609279128456531969</td>\n",
       "      <td>NaN</td>\n",
       "      <td>1.609278e+18</td>\n",
       "      <td>NaN</td>\n",
       "      <td>1352449995652296704</td>\n",
       "      <td>NaN</td>\n",
       "      <td>NaN</td>\n",
       "      <td>1.503472e+18</td>\n",
       "      <td>Jikkyleaks</td>\n",
       "      <td>...</td>\n",
       "      <td>NaN</td>\n",
       "      <td>NaN</td>\n",
       "      <td>NaN</td>\n",
       "      <td>NaN</td>\n",
       "      <td>NaN</td>\n",
       "      <td>NaN</td>\n",
       "      <td>NaN</td>\n",
       "      <td>2023-01-16T21:04:47+00:00</td>\n",
       "      <td>https://api.twitter.com/2/tweets/search/all?ex...</td>\n",
       "      <td>2.13.0</td>\n",
       "    </tr>\n",
       "    <tr>\n",
       "      <th>2</th>\n",
       "      <td>1609278946524426244</td>\n",
       "      <td>1609278946524426244</td>\n",
       "      <td>NaN</td>\n",
       "      <td>1.602335e+18</td>\n",
       "      <td>NaN</td>\n",
       "      <td>3695081546</td>\n",
       "      <td>NaN</td>\n",
       "      <td>NaN</td>\n",
       "      <td>8.037884e+17</td>\n",
       "      <td>JamesTodaroMD</td>\n",
       "      <td>...</td>\n",
       "      <td>NaN</td>\n",
       "      <td>NaN</td>\n",
       "      <td>NaN</td>\n",
       "      <td>NaN</td>\n",
       "      <td>NaN</td>\n",
       "      <td>NaN</td>\n",
       "      <td>NaN</td>\n",
       "      <td>2023-01-16T21:04:47+00:00</td>\n",
       "      <td>https://api.twitter.com/2/tweets/search/all?ex...</td>\n",
       "      <td>2.13.0</td>\n",
       "    </tr>\n",
       "    <tr>\n",
       "      <th>3</th>\n",
       "      <td>1609278733768364032</td>\n",
       "      <td>1609278733768364032</td>\n",
       "      <td>NaN</td>\n",
       "      <td>1.609278e+18</td>\n",
       "      <td>NaN</td>\n",
       "      <td>73928056</td>\n",
       "      <td>NaN</td>\n",
       "      <td>NaN</td>\n",
       "      <td>1.503472e+18</td>\n",
       "      <td>Jikkyleaks</td>\n",
       "      <td>...</td>\n",
       "      <td>NaN</td>\n",
       "      <td>NaN</td>\n",
       "      <td>NaN</td>\n",
       "      <td>NaN</td>\n",
       "      <td>NaN</td>\n",
       "      <td>NaN</td>\n",
       "      <td>NaN</td>\n",
       "      <td>2023-01-16T21:04:47+00:00</td>\n",
       "      <td>https://api.twitter.com/2/tweets/search/all?ex...</td>\n",
       "      <td>2.13.0</td>\n",
       "    </tr>\n",
       "    <tr>\n",
       "      <th>4</th>\n",
       "      <td>1609278314962911238</td>\n",
       "      <td>1608485547202289664</td>\n",
       "      <td>1.609268e+18</td>\n",
       "      <td>NaN</td>\n",
       "      <td>NaN</td>\n",
       "      <td>1503472017412034562</td>\n",
       "      <td>8.293770e+17</td>\n",
       "      <td>DrLizaMD</td>\n",
       "      <td>NaN</td>\n",
       "      <td>NaN</td>\n",
       "      <td>...</td>\n",
       "      <td>NaN</td>\n",
       "      <td>NaN</td>\n",
       "      <td>NaN</td>\n",
       "      <td>NaN</td>\n",
       "      <td>NaN</td>\n",
       "      <td>NaN</td>\n",
       "      <td>NaN</td>\n",
       "      <td>2023-01-16T21:04:47+00:00</td>\n",
       "      <td>https://api.twitter.com/2/tweets/search/all?ex...</td>\n",
       "      <td>2.13.0</td>\n",
       "    </tr>\n",
       "  </tbody>\n",
       "</table>\n",
       "<p>5 rows × 83 columns</p>\n",
       "</div>"
      ],
      "text/plain": [
       "                    id      conversation_id  referenced_tweets.replied_to.id  \\\n",
       "0  1609305609211416578  1609305609211416578                              NaN   \n",
       "1  1609279128456531969  1609279128456531969                              NaN   \n",
       "2  1609278946524426244  1609278946524426244                              NaN   \n",
       "3  1609278733768364032  1609278733768364032                              NaN   \n",
       "4  1609278314962911238  1608485547202289664                     1.609268e+18   \n",
       "\n",
       "   referenced_tweets.retweeted.id  referenced_tweets.quoted.id  \\\n",
       "0                    1.608943e+18                          NaN   \n",
       "1                    1.609278e+18                          NaN   \n",
       "2                    1.602335e+18                          NaN   \n",
       "3                    1.609278e+18                          NaN   \n",
       "4                             NaN                          NaN   \n",
       "\n",
       "             author_id  in_reply_to_user_id in_reply_to_username  \\\n",
       "0  1182419452710838272                  NaN                  NaN   \n",
       "1  1352449995652296704                  NaN                  NaN   \n",
       "2           3695081546                  NaN                  NaN   \n",
       "3             73928056                  NaN                  NaN   \n",
       "4  1503472017412034562         8.293770e+17             DrLizaMD   \n",
       "\n",
       "   retweeted_user_id retweeted_username  ...  geo.geo.bbox geo.geo.type  \\\n",
       "0       1.531881e+18         TakeHeight  ...           NaN          NaN   \n",
       "1       1.503472e+18         Jikkyleaks  ...           NaN          NaN   \n",
       "2       8.037884e+17      JamesTodaroMD  ...           NaN          NaN   \n",
       "3       1.503472e+18         Jikkyleaks  ...           NaN          NaN   \n",
       "4                NaN                NaN  ...           NaN          NaN   \n",
       "\n",
       "  geo.id geo.name geo.place_id  geo.place_type  matching_rules  \\\n",
       "0    NaN      NaN          NaN             NaN             NaN   \n",
       "1    NaN      NaN          NaN             NaN             NaN   \n",
       "2    NaN      NaN          NaN             NaN             NaN   \n",
       "3    NaN      NaN          NaN             NaN             NaN   \n",
       "4    NaN      NaN          NaN             NaN             NaN   \n",
       "\n",
       "        __twarc.retrieved_at  \\\n",
       "0  2023-01-16T21:04:47+00:00   \n",
       "1  2023-01-16T21:04:47+00:00   \n",
       "2  2023-01-16T21:04:47+00:00   \n",
       "3  2023-01-16T21:04:47+00:00   \n",
       "4  2023-01-16T21:04:47+00:00   \n",
       "\n",
       "                                         __twarc.url  __twarc.version  \n",
       "0  https://api.twitter.com/2/tweets/search/all?ex...           2.13.0  \n",
       "1  https://api.twitter.com/2/tweets/search/all?ex...           2.13.0  \n",
       "2  https://api.twitter.com/2/tweets/search/all?ex...           2.13.0  \n",
       "3  https://api.twitter.com/2/tweets/search/all?ex...           2.13.0  \n",
       "4  https://api.twitter.com/2/tweets/search/all?ex...           2.13.0  \n",
       "\n",
       "[5 rows x 83 columns]"
      ]
     },
     "execution_count": 3,
     "metadata": {},
     "output_type": "execute_result"
    }
   ],
   "source": [
    "data.head()"
   ]
  },
  {
   "cell_type": "markdown",
   "id": "98ea6996",
   "metadata": {},
   "source": [
    "What are the information we have ?"
   ]
  },
  {
   "cell_type": "code",
   "execution_count": 5,
   "id": "6c279e1d",
   "metadata": {},
   "outputs": [],
   "source": [
    "filtre = pd.isnull(data[\"retweeted_user_id\"]) & pd.isnull(data[\"quoted_user_id\"]) "
   ]
  },
  {
   "cell_type": "code",
   "execution_count": 7,
   "id": "2c9a43b8",
   "metadata": {},
   "outputs": [
    {
     "data": {
      "text/plain": [
       "18285"
      ]
     },
     "execution_count": 7,
     "metadata": {},
     "output_type": "execute_result"
    }
   ],
   "source": [
    "filtre.sum()"
   ]
  },
  {
   "cell_type": "code",
   "execution_count": 8,
   "id": "c0878c63",
   "metadata": {},
   "outputs": [
    {
     "data": {
      "text/html": [
       "<div>\n",
       "<style scoped>\n",
       "    .dataframe tbody tr th:only-of-type {\n",
       "        vertical-align: middle;\n",
       "    }\n",
       "\n",
       "    .dataframe tbody tr th {\n",
       "        vertical-align: top;\n",
       "    }\n",
       "\n",
       "    .dataframe thead th {\n",
       "        text-align: right;\n",
       "    }\n",
       "</style>\n",
       "<table border=\"1\" class=\"dataframe\">\n",
       "  <thead>\n",
       "    <tr style=\"text-align: right;\">\n",
       "      <th></th>\n",
       "      <th>id</th>\n",
       "      <th>conversation_id</th>\n",
       "      <th>referenced_tweets.replied_to.id</th>\n",
       "      <th>referenced_tweets.retweeted.id</th>\n",
       "      <th>referenced_tweets.quoted.id</th>\n",
       "      <th>author_id</th>\n",
       "      <th>in_reply_to_user_id</th>\n",
       "      <th>in_reply_to_username</th>\n",
       "      <th>retweeted_user_id</th>\n",
       "      <th>retweeted_username</th>\n",
       "      <th>...</th>\n",
       "      <th>geo.geo.bbox</th>\n",
       "      <th>geo.geo.type</th>\n",
       "      <th>geo.id</th>\n",
       "      <th>geo.name</th>\n",
       "      <th>geo.place_id</th>\n",
       "      <th>geo.place_type</th>\n",
       "      <th>matching_rules</th>\n",
       "      <th>__twarc.retrieved_at</th>\n",
       "      <th>__twarc.url</th>\n",
       "      <th>__twarc.version</th>\n",
       "    </tr>\n",
       "  </thead>\n",
       "  <tbody>\n",
       "    <tr>\n",
       "      <th>4</th>\n",
       "      <td>1609278314962911238</td>\n",
       "      <td>1608485547202289664</td>\n",
       "      <td>1.609268e+18</td>\n",
       "      <td>NaN</td>\n",
       "      <td>NaN</td>\n",
       "      <td>1503472017412034562</td>\n",
       "      <td>8.293770e+17</td>\n",
       "      <td>DrLizaMD</td>\n",
       "      <td>NaN</td>\n",
       "      <td>NaN</td>\n",
       "      <td>...</td>\n",
       "      <td>NaN</td>\n",
       "      <td>NaN</td>\n",
       "      <td>NaN</td>\n",
       "      <td>NaN</td>\n",
       "      <td>NaN</td>\n",
       "      <td>NaN</td>\n",
       "      <td>NaN</td>\n",
       "      <td>2023-01-16T21:04:47+00:00</td>\n",
       "      <td>https://api.twitter.com/2/tweets/search/all?ex...</td>\n",
       "      <td>2.13.0</td>\n",
       "    </tr>\n",
       "    <tr>\n",
       "      <th>5</th>\n",
       "      <td>1609249230551683074</td>\n",
       "      <td>1609180617257648132</td>\n",
       "      <td>1.609245e+18</td>\n",
       "      <td>NaN</td>\n",
       "      <td>NaN</td>\n",
       "      <td>2166832300</td>\n",
       "      <td>3.844850e+07</td>\n",
       "      <td>MolonLabeLegacy</td>\n",
       "      <td>NaN</td>\n",
       "      <td>NaN</td>\n",
       "      <td>...</td>\n",
       "      <td>NaN</td>\n",
       "      <td>NaN</td>\n",
       "      <td>NaN</td>\n",
       "      <td>NaN</td>\n",
       "      <td>NaN</td>\n",
       "      <td>NaN</td>\n",
       "      <td>NaN</td>\n",
       "      <td>2023-01-16T21:04:47+00:00</td>\n",
       "      <td>https://api.twitter.com/2/tweets/search/all?ex...</td>\n",
       "      <td>2.13.0</td>\n",
       "    </tr>\n",
       "    <tr>\n",
       "      <th>54</th>\n",
       "      <td>1608992353716678656</td>\n",
       "      <td>1608962848289587203</td>\n",
       "      <td>1.608963e+18</td>\n",
       "      <td>NaN</td>\n",
       "      <td>NaN</td>\n",
       "      <td>4530269002</td>\n",
       "      <td>2.508431e+09</td>\n",
       "      <td>vinceflibustier</td>\n",
       "      <td>NaN</td>\n",
       "      <td>NaN</td>\n",
       "      <td>...</td>\n",
       "      <td>NaN</td>\n",
       "      <td>NaN</td>\n",
       "      <td>NaN</td>\n",
       "      <td>NaN</td>\n",
       "      <td>NaN</td>\n",
       "      <td>NaN</td>\n",
       "      <td>NaN</td>\n",
       "      <td>2023-01-16T21:04:47+00:00</td>\n",
       "      <td>https://api.twitter.com/2/tweets/search/all?ex...</td>\n",
       "      <td>2.13.0</td>\n",
       "    </tr>\n",
       "    <tr>\n",
       "      <th>59</th>\n",
       "      <td>1608988038230855682</td>\n",
       "      <td>1601583411172626432</td>\n",
       "      <td>1.608583e+18</td>\n",
       "      <td>NaN</td>\n",
       "      <td>NaN</td>\n",
       "      <td>1597006245449310213</td>\n",
       "      <td>1.597006e+18</td>\n",
       "      <td>FactAndSerious</td>\n",
       "      <td>NaN</td>\n",
       "      <td>NaN</td>\n",
       "      <td>...</td>\n",
       "      <td>NaN</td>\n",
       "      <td>NaN</td>\n",
       "      <td>NaN</td>\n",
       "      <td>NaN</td>\n",
       "      <td>NaN</td>\n",
       "      <td>NaN</td>\n",
       "      <td>NaN</td>\n",
       "      <td>2023-01-16T21:04:47+00:00</td>\n",
       "      <td>https://api.twitter.com/2/tweets/search/all?ex...</td>\n",
       "      <td>2.13.0</td>\n",
       "    </tr>\n",
       "    <tr>\n",
       "      <th>62</th>\n",
       "      <td>1608942990168567808</td>\n",
       "      <td>1608510374000615424</td>\n",
       "      <td>1.608510e+18</td>\n",
       "      <td>NaN</td>\n",
       "      <td>NaN</td>\n",
       "      <td>1122317376140251139</td>\n",
       "      <td>1.491418e+18</td>\n",
       "      <td>LanChan3322</td>\n",
       "      <td>NaN</td>\n",
       "      <td>NaN</td>\n",
       "      <td>...</td>\n",
       "      <td>NaN</td>\n",
       "      <td>NaN</td>\n",
       "      <td>NaN</td>\n",
       "      <td>NaN</td>\n",
       "      <td>NaN</td>\n",
       "      <td>NaN</td>\n",
       "      <td>NaN</td>\n",
       "      <td>2023-01-16T21:04:47+00:00</td>\n",
       "      <td>https://api.twitter.com/2/tweets/search/all?ex...</td>\n",
       "      <td>2.13.0</td>\n",
       "    </tr>\n",
       "    <tr>\n",
       "      <th>...</th>\n",
       "      <td>...</td>\n",
       "      <td>...</td>\n",
       "      <td>...</td>\n",
       "      <td>...</td>\n",
       "      <td>...</td>\n",
       "      <td>...</td>\n",
       "      <td>...</td>\n",
       "      <td>...</td>\n",
       "      <td>...</td>\n",
       "      <td>...</td>\n",
       "      <td>...</td>\n",
       "      <td>...</td>\n",
       "      <td>...</td>\n",
       "      <td>...</td>\n",
       "      <td>...</td>\n",
       "      <td>...</td>\n",
       "      <td>...</td>\n",
       "      <td>...</td>\n",
       "      <td>...</td>\n",
       "      <td>...</td>\n",
       "      <td>...</td>\n",
       "    </tr>\n",
       "    <tr>\n",
       "      <th>135777</th>\n",
       "      <td>1264961240595673088</td>\n",
       "      <td>1264945529949237316</td>\n",
       "      <td>1.264946e+18</td>\n",
       "      <td>NaN</td>\n",
       "      <td>NaN</td>\n",
       "      <td>844492449720520704</td>\n",
       "      <td>1.900028e+09</td>\n",
       "      <td>Enthoven_R</td>\n",
       "      <td>NaN</td>\n",
       "      <td>NaN</td>\n",
       "      <td>...</td>\n",
       "      <td>NaN</td>\n",
       "      <td>NaN</td>\n",
       "      <td>NaN</td>\n",
       "      <td>NaN</td>\n",
       "      <td>NaN</td>\n",
       "      <td>NaN</td>\n",
       "      <td>NaN</td>\n",
       "      <td>2023-01-16T22:29:25+00:00</td>\n",
       "      <td>https://api.twitter.com/2/tweets/search/all?ex...</td>\n",
       "      <td>2.13.0</td>\n",
       "    </tr>\n",
       "    <tr>\n",
       "      <th>135778</th>\n",
       "      <td>1264844597244682240</td>\n",
       "      <td>1264844597244682240</td>\n",
       "      <td>NaN</td>\n",
       "      <td>NaN</td>\n",
       "      <td>NaN</td>\n",
       "      <td>844492449720520704</td>\n",
       "      <td>1.191800e+18</td>\n",
       "      <td>NaN</td>\n",
       "      <td>NaN</td>\n",
       "      <td>NaN</td>\n",
       "      <td>...</td>\n",
       "      <td>NaN</td>\n",
       "      <td>NaN</td>\n",
       "      <td>NaN</td>\n",
       "      <td>NaN</td>\n",
       "      <td>NaN</td>\n",
       "      <td>NaN</td>\n",
       "      <td>NaN</td>\n",
       "      <td>2023-01-16T22:29:25+00:00</td>\n",
       "      <td>https://api.twitter.com/2/tweets/search/all?ex...</td>\n",
       "      <td>2.13.0</td>\n",
       "    </tr>\n",
       "    <tr>\n",
       "      <th>135779</th>\n",
       "      <td>1264510784350158848</td>\n",
       "      <td>1264497981090381824</td>\n",
       "      <td>1.264498e+18</td>\n",
       "      <td>NaN</td>\n",
       "      <td>NaN</td>\n",
       "      <td>844492449720520704</td>\n",
       "      <td>9.454734e+08</td>\n",
       "      <td>dr_l_alexandre</td>\n",
       "      <td>NaN</td>\n",
       "      <td>NaN</td>\n",
       "      <td>...</td>\n",
       "      <td>NaN</td>\n",
       "      <td>NaN</td>\n",
       "      <td>NaN</td>\n",
       "      <td>NaN</td>\n",
       "      <td>NaN</td>\n",
       "      <td>NaN</td>\n",
       "      <td>NaN</td>\n",
       "      <td>2023-01-16T22:29:25+00:00</td>\n",
       "      <td>https://api.twitter.com/2/tweets/search/all?ex...</td>\n",
       "      <td>2.13.0</td>\n",
       "    </tr>\n",
       "    <tr>\n",
       "      <th>135780</th>\n",
       "      <td>1262799510436081665</td>\n",
       "      <td>1262798535335895040</td>\n",
       "      <td>1.262799e+18</td>\n",
       "      <td>NaN</td>\n",
       "      <td>NaN</td>\n",
       "      <td>1237797265500016640</td>\n",
       "      <td>3.940876e+08</td>\n",
       "      <td>angie_rasmussen</td>\n",
       "      <td>NaN</td>\n",
       "      <td>NaN</td>\n",
       "      <td>...</td>\n",
       "      <td>NaN</td>\n",
       "      <td>NaN</td>\n",
       "      <td>NaN</td>\n",
       "      <td>NaN</td>\n",
       "      <td>NaN</td>\n",
       "      <td>NaN</td>\n",
       "      <td>NaN</td>\n",
       "      <td>2023-01-16T22:29:25+00:00</td>\n",
       "      <td>https://api.twitter.com/2/tweets/search/all?ex...</td>\n",
       "      <td>2.13.0</td>\n",
       "    </tr>\n",
       "    <tr>\n",
       "      <th>135782</th>\n",
       "      <td>1261491180451139584</td>\n",
       "      <td>1261152107127848963</td>\n",
       "      <td>1.261152e+18</td>\n",
       "      <td>NaN</td>\n",
       "      <td>NaN</td>\n",
       "      <td>17729394</td>\n",
       "      <td>7.592510e+05</td>\n",
       "      <td>CNN</td>\n",
       "      <td>NaN</td>\n",
       "      <td>NaN</td>\n",
       "      <td>...</td>\n",
       "      <td>NaN</td>\n",
       "      <td>NaN</td>\n",
       "      <td>NaN</td>\n",
       "      <td>NaN</td>\n",
       "      <td>NaN</td>\n",
       "      <td>NaN</td>\n",
       "      <td>NaN</td>\n",
       "      <td>2023-01-16T22:29:25+00:00</td>\n",
       "      <td>https://api.twitter.com/2/tweets/search/all?ex...</td>\n",
       "      <td>2.13.0</td>\n",
       "    </tr>\n",
       "  </tbody>\n",
       "</table>\n",
       "<p>18285 rows × 83 columns</p>\n",
       "</div>"
      ],
      "text/plain": [
       "                         id      conversation_id  \\\n",
       "4       1609278314962911238  1608485547202289664   \n",
       "5       1609249230551683074  1609180617257648132   \n",
       "54      1608992353716678656  1608962848289587203   \n",
       "59      1608988038230855682  1601583411172626432   \n",
       "62      1608942990168567808  1608510374000615424   \n",
       "...                     ...                  ...   \n",
       "135777  1264961240595673088  1264945529949237316   \n",
       "135778  1264844597244682240  1264844597244682240   \n",
       "135779  1264510784350158848  1264497981090381824   \n",
       "135780  1262799510436081665  1262798535335895040   \n",
       "135782  1261491180451139584  1261152107127848963   \n",
       "\n",
       "        referenced_tweets.replied_to.id  referenced_tweets.retweeted.id  \\\n",
       "4                          1.609268e+18                             NaN   \n",
       "5                          1.609245e+18                             NaN   \n",
       "54                         1.608963e+18                             NaN   \n",
       "59                         1.608583e+18                             NaN   \n",
       "62                         1.608510e+18                             NaN   \n",
       "...                                 ...                             ...   \n",
       "135777                     1.264946e+18                             NaN   \n",
       "135778                              NaN                             NaN   \n",
       "135779                     1.264498e+18                             NaN   \n",
       "135780                     1.262799e+18                             NaN   \n",
       "135782                     1.261152e+18                             NaN   \n",
       "\n",
       "        referenced_tweets.quoted.id            author_id  in_reply_to_user_id  \\\n",
       "4                               NaN  1503472017412034562         8.293770e+17   \n",
       "5                               NaN           2166832300         3.844850e+07   \n",
       "54                              NaN           4530269002         2.508431e+09   \n",
       "59                              NaN  1597006245449310213         1.597006e+18   \n",
       "62                              NaN  1122317376140251139         1.491418e+18   \n",
       "...                             ...                  ...                  ...   \n",
       "135777                          NaN   844492449720520704         1.900028e+09   \n",
       "135778                          NaN   844492449720520704         1.191800e+18   \n",
       "135779                          NaN   844492449720520704         9.454734e+08   \n",
       "135780                          NaN  1237797265500016640         3.940876e+08   \n",
       "135782                          NaN             17729394         7.592510e+05   \n",
       "\n",
       "       in_reply_to_username  retweeted_user_id retweeted_username  ...  \\\n",
       "4                  DrLizaMD                NaN                NaN  ...   \n",
       "5           MolonLabeLegacy                NaN                NaN  ...   \n",
       "54          vinceflibustier                NaN                NaN  ...   \n",
       "59           FactAndSerious                NaN                NaN  ...   \n",
       "62              LanChan3322                NaN                NaN  ...   \n",
       "...                     ...                ...                ...  ...   \n",
       "135777           Enthoven_R                NaN                NaN  ...   \n",
       "135778                  NaN                NaN                NaN  ...   \n",
       "135779       dr_l_alexandre                NaN                NaN  ...   \n",
       "135780      angie_rasmussen                NaN                NaN  ...   \n",
       "135782                  CNN                NaN                NaN  ...   \n",
       "\n",
       "        geo.geo.bbox geo.geo.type geo.id geo.name geo.place_id  \\\n",
       "4                NaN          NaN    NaN      NaN          NaN   \n",
       "5                NaN          NaN    NaN      NaN          NaN   \n",
       "54               NaN          NaN    NaN      NaN          NaN   \n",
       "59               NaN          NaN    NaN      NaN          NaN   \n",
       "62               NaN          NaN    NaN      NaN          NaN   \n",
       "...              ...          ...    ...      ...          ...   \n",
       "135777           NaN          NaN    NaN      NaN          NaN   \n",
       "135778           NaN          NaN    NaN      NaN          NaN   \n",
       "135779           NaN          NaN    NaN      NaN          NaN   \n",
       "135780           NaN          NaN    NaN      NaN          NaN   \n",
       "135782           NaN          NaN    NaN      NaN          NaN   \n",
       "\n",
       "        geo.place_type  matching_rules       __twarc.retrieved_at  \\\n",
       "4                  NaN             NaN  2023-01-16T21:04:47+00:00   \n",
       "5                  NaN             NaN  2023-01-16T21:04:47+00:00   \n",
       "54                 NaN             NaN  2023-01-16T21:04:47+00:00   \n",
       "59                 NaN             NaN  2023-01-16T21:04:47+00:00   \n",
       "62                 NaN             NaN  2023-01-16T21:04:47+00:00   \n",
       "...                ...             ...                        ...   \n",
       "135777             NaN             NaN  2023-01-16T22:29:25+00:00   \n",
       "135778             NaN             NaN  2023-01-16T22:29:25+00:00   \n",
       "135779             NaN             NaN  2023-01-16T22:29:25+00:00   \n",
       "135780             NaN             NaN  2023-01-16T22:29:25+00:00   \n",
       "135782             NaN             NaN  2023-01-16T22:29:25+00:00   \n",
       "\n",
       "                                              __twarc.url  __twarc.version  \n",
       "4       https://api.twitter.com/2/tweets/search/all?ex...           2.13.0  \n",
       "5       https://api.twitter.com/2/tweets/search/all?ex...           2.13.0  \n",
       "54      https://api.twitter.com/2/tweets/search/all?ex...           2.13.0  \n",
       "59      https://api.twitter.com/2/tweets/search/all?ex...           2.13.0  \n",
       "62      https://api.twitter.com/2/tweets/search/all?ex...           2.13.0  \n",
       "...                                                   ...              ...  \n",
       "135777  https://api.twitter.com/2/tweets/search/all?ex...           2.13.0  \n",
       "135778  https://api.twitter.com/2/tweets/search/all?ex...           2.13.0  \n",
       "135779  https://api.twitter.com/2/tweets/search/all?ex...           2.13.0  \n",
       "135780  https://api.twitter.com/2/tweets/search/all?ex...           2.13.0  \n",
       "135782  https://api.twitter.com/2/tweets/search/all?ex...           2.13.0  \n",
       "\n",
       "[18285 rows x 83 columns]"
      ]
     },
     "execution_count": 8,
     "metadata": {},
     "output_type": "execute_result"
    }
   ],
   "source": [
    "data[filtre]"
   ]
  },
  {
   "cell_type": "code",
   "execution_count": 4,
   "id": "d2a84bb8",
   "metadata": {},
   "outputs": [
    {
     "data": {
      "text/plain": [
       "Index(['id', 'conversation_id', 'referenced_tweets.replied_to.id',\n",
       "       'referenced_tweets.retweeted.id', 'referenced_tweets.quoted.id',\n",
       "       'author_id', 'in_reply_to_user_id', 'in_reply_to_username',\n",
       "       'retweeted_user_id', 'retweeted_username', 'quoted_user_id',\n",
       "       'quoted_username', 'created_at', 'text', 'lang', 'source',\n",
       "       'public_metrics.impression_count', 'public_metrics.reply_count',\n",
       "       'public_metrics.retweet_count', 'public_metrics.quote_count',\n",
       "       'public_metrics.like_count', 'reply_settings', 'edit_history_tweet_ids',\n",
       "       'edit_controls.edits_remaining', 'edit_controls.editable_until',\n",
       "       'edit_controls.is_edit_eligible', 'possibly_sensitive',\n",
       "       'withheld.scope', 'withheld.copyright', 'withheld.country_codes',\n",
       "       'entities.annotations', 'entities.cashtags', 'entities.hashtags',\n",
       "       'entities.mentions', 'entities.urls', 'context_annotations',\n",
       "       'attachments.media', 'attachments.media_keys',\n",
       "       'attachments.poll.duration_minutes', 'attachments.poll.end_datetime',\n",
       "       'attachments.poll.id', 'attachments.poll.options',\n",
       "       'attachments.poll.voting_status', 'attachments.poll_ids', 'author.id',\n",
       "       'author.created_at', 'author.username', 'author.name',\n",
       "       'author.description', 'author.entities.description.cashtags',\n",
       "       'author.entities.description.hashtags',\n",
       "       'author.entities.description.mentions',\n",
       "       'author.entities.description.urls', 'author.entities.url.urls',\n",
       "       'author.url', 'author.location', 'author.pinned_tweet_id',\n",
       "       'author.profile_image_url', 'author.protected',\n",
       "       'author.public_metrics.followers_count',\n",
       "       'author.public_metrics.following_count',\n",
       "       'author.public_metrics.listed_count',\n",
       "       'author.public_metrics.tweet_count', 'author.verified',\n",
       "       'author.verified_type', 'author.withheld.scope',\n",
       "       'author.withheld.copyright', 'author.withheld.country_codes',\n",
       "       'geo.coordinates.coordinates', 'geo.coordinates.type', 'geo.country',\n",
       "       'geo.country_code', 'geo.full_name', 'geo.geo.bbox', 'geo.geo.type',\n",
       "       'geo.id', 'geo.name', 'geo.place_id', 'geo.place_type',\n",
       "       'matching_rules', '__twarc.retrieved_at', '__twarc.url',\n",
       "       '__twarc.version'],\n",
       "      dtype='object')"
      ]
     },
     "execution_count": 4,
     "metadata": {},
     "output_type": "execute_result"
    }
   ],
   "source": [
    "data.columns"
   ]
  },
  {
   "cell_type": "markdown",
   "id": "ae9d3f26",
   "metadata": {},
   "source": [
    "#### Temporal evolution"
   ]
  },
  {
   "cell_type": "code",
   "execution_count": 6,
   "id": "04d66e5d",
   "metadata": {},
   "outputs": [],
   "source": [
    "data[\"date\"] = pd.to_datetime(data['created_at'])\n",
    "data[\"num\"] = 1"
   ]
  },
  {
   "cell_type": "markdown",
   "id": "c5fa5a72",
   "metadata": {},
   "source": [
    "Visualisation"
   ]
  },
  {
   "cell_type": "code",
   "execution_count": 17,
   "id": "e5f42a22",
   "metadata": {},
   "outputs": [
    {
     "data": {
      "text/plain": [
       "<AxesSubplot:xlabel='date'>"
      ]
     },
     "execution_count": 17,
     "metadata": {},
     "output_type": "execute_result"
    },
    {
     "data": {
      "image/png": "[encoded data removed]",
      "text/plain": [
       "<Figure size 720x216 with 1 Axes>"
      ]
     },
     "metadata": {
      "needs_background": "light"
     },
     "output_type": "display_data"
    }
   ],
   "source": [
    "data.set_index(\"date\")[\"num\"].resample(\"d\").sum().plot(figsize=(10,3))"
   ]
  },
  {
   "cell_type": "markdown",
   "id": "ba8b0a3a",
   "metadata": {},
   "source": [
    "How to investigate around those bursts ?\n",
    "\n",
    "*Exercice : identify the topic of bursts*"
   ]
  },
  {
   "cell_type": "markdown",
   "id": "fac11d10",
   "metadata": {},
   "source": [
    "For various reasons, we need to have a better look on tweet. We can build a small tool for visualisation."
   ]
  },
  {
   "cell_type": "code",
   "execution_count": 18,
   "id": "320bc2d8",
   "metadata": {},
   "outputs": [],
   "source": [
    "import requests\n",
    "class Tweet(object):\n",
    "    \"\"\"\n",
    "    Object to visualize a specific tweet\n",
    "    \"\"\"\n",
    "    def __init__(self, s):\n",
    "        \"\"\"\n",
    "        s : id of a tweet\n",
    "        \"\"\"\n",
    "        s = f\"https://twitter.com/OReillyMedia/status/{s}\"\n",
    "        api = 'https://publish.twitter.com/oembed?url={}'.format(s)\n",
    "        response = requests.get(api)\n",
    "        self.text = response.json()[\"html\"]\n",
    "\n",
    "    def _repr_html_(self):\n",
    "        return self.text"
   ]
  },
  {
   "cell_type": "markdown",
   "id": "82bbf850",
   "metadata": {},
   "source": [
    "Testing it on a tweet"
   ]
  },
  {
   "cell_type": "code",
   "execution_count": 19,
   "id": "6c819857",
   "metadata": {},
   "outputs": [
    {
     "data": {
      "text/html": [
       "<blockquote class=\"twitter-tweet\"><p lang=\"fr\" dir=\"ltr\"><a href=\"https://twitter.com/hashtag/LancetGate?src=hash&amp;ref_src=twsrc%5Etfw\">#LancetGate</a> merci de ce rappel<br>👉&quot;l&#39;HCQ pas efficace pour des patients hospitalisés mais...&quot;<br>👉 M Mehra avait relu l&#39;interview pour validation avant publication  <br>👉Après retraction je l&#39;avais recontacté en lui disant que je me tenais à sa disposition.<br>👉Il m&#39;avait répondu <a href=\"https://t.co/wYJOOqzNBt\">https://t.co/wYJOOqzNBt</a> <a href=\"https://t.co/AU2GWojvyO\">pic.twitter.com/AU2GWojvyO</a></p>&mdash; Xavier Azalbert, compte personnel (@xazalbert) <a href=\"https://twitter.com/xazalbert/status/1598399765951250442?ref_src=twsrc%5Etfw\">December 1, 2022</a></blockquote>\n",
       "<script async src=\"https://platform.twitter.com/widgets.js\" charset=\"utf-8\"></script>\n"
      ],
      "text/plain": [
       "<__main__.Tweet at 0x7fb251d8db20>"
      ]
     },
     "execution_count": 19,
     "metadata": {},
     "output_type": "execute_result"
    }
   ],
   "source": [
    "Tweet(data.iloc[1000][\"id\"])"
   ]
  },
  {
   "cell_type": "markdown",
   "id": "a89cc50f",
   "metadata": {},
   "source": [
    "#### Filter original tweets (without retweets)"
   ]
  },
  {
   "cell_type": "code",
   "execution_count": 20,
   "id": "f716f391",
   "metadata": {},
   "outputs": [
    {
     "data": {
      "text/plain": [
       "21950"
      ]
     },
     "execution_count": 20,
     "metadata": {},
     "output_type": "execute_result"
    }
   ],
   "source": [
    "f_or = pd.isnull(data['referenced_tweets.retweeted.id'])\n",
    "f_or.sum()"
   ]
  },
  {
   "cell_type": "code",
   "execution_count": 22,
   "id": "39909e5f",
   "metadata": {},
   "outputs": [
    {
     "data": {
      "text/plain": [
       "0.16165499362954125"
      ]
     },
     "execution_count": 22,
     "metadata": {},
     "output_type": "execute_result"
    }
   ],
   "source": [
    "21950/len(data)"
   ]
  },
  {
   "cell_type": "markdown",
   "id": "88e3f246",
   "metadata": {},
   "source": [
    "#### Identifying the main languages"
   ]
  },
  {
   "cell_type": "code",
   "execution_count": 23,
   "id": "476fc487",
   "metadata": {},
   "outputs": [
    {
     "data": {
      "text/plain": [
       "fr     107930\n",
       "en      20190\n",
       "qme      1665\n",
       "es       1627\n",
       "und      1046\n",
       "Name: lang, dtype: int64"
      ]
     },
     "execution_count": 23,
     "metadata": {},
     "output_type": "execute_result"
    }
   ],
   "source": [
    "data['lang'].value_counts().head()"
   ]
  },
  {
   "cell_type": "markdown",
   "id": "8da01acc",
   "metadata": {},
   "source": [
    "We can check it is a French thing : https://trends.google.com/trends/explore?q=lancetgate"
   ]
  },
  {
   "cell_type": "markdown",
   "id": "d8a54d99",
   "metadata": {},
   "source": [
    "Let's filter only the french tweets"
   ]
  },
  {
   "cell_type": "code",
   "execution_count": 24,
   "id": "8895bc52",
   "metadata": {},
   "outputs": [],
   "source": [
    "data = data[data['lang']==\"fr\"]"
   ]
  },
  {
   "cell_type": "code",
   "execution_count": 25,
   "id": "ffc4a202",
   "metadata": {},
   "outputs": [
    {
     "data": {
      "text/plain": [
       "107930"
      ]
     },
     "execution_count": 25,
     "metadata": {},
     "output_type": "execute_result"
    }
   ],
   "source": [
    "len(data)"
   ]
  },
  {
   "cell_type": "markdown",
   "id": "13a6dd52",
   "metadata": {},
   "source": [
    "#### Identifying the main users"
   ]
  },
  {
   "cell_type": "code",
   "execution_count": 27,
   "id": "a3266c4f",
   "metadata": {},
   "outputs": [
    {
     "data": {
      "text/plain": [
       "julien0686         421\n",
       "JaiRaison          393\n",
       "Despeerad0s        344\n",
       "FlaurentNeuhaus    331\n",
       "aragon_jb          290\n",
       "                  ... \n",
       "AnnaeusLucius        1\n",
       "BoloNono             1\n",
       "JulienLecaille       1\n",
       "kuusevana            1\n",
       "alaqueu              1\n",
       "Name: author.username, Length: 29181, dtype: int64"
      ]
     },
     "execution_count": 27,
     "metadata": {},
     "output_type": "execute_result"
    }
   ],
   "source": [
    "data['author.username'].value_counts()"
   ]
  },
  {
   "cell_type": "markdown",
   "id": "aa9e7b6f",
   "metadata": {},
   "source": [
    "Number of users"
   ]
  },
  {
   "cell_type": "code",
   "execution_count": 28,
   "id": "9e8b1aa4",
   "metadata": {},
   "outputs": [
    {
     "data": {
      "text/plain": [
       "29181"
      ]
     },
     "execution_count": 28,
     "metadata": {},
     "output_type": "execute_result"
    }
   ],
   "source": [
    "len(data['author.username'].unique())"
   ]
  },
  {
   "cell_type": "code",
   "execution_count": 29,
   "id": "c945df09",
   "metadata": {},
   "outputs": [
    {
     "data": {
      "text/plain": [
       "<AxesSubplot:>"
      ]
     },
     "execution_count": 29,
     "metadata": {},
     "output_type": "execute_result"
    },
    {
     "data": {
      "image/png": "[encoded data removed]",
      "text/plain": [
       "<Figure size 432x288 with 1 Axes>"
      ]
     },
     "metadata": {
      "needs_background": "light"
     },
     "output_type": "display_data"
    }
   ],
   "source": [
    "data['author.username'].value_counts().hist(bins=100)"
   ]
  },
  {
   "cell_type": "markdown",
   "id": "5eb4b838",
   "metadata": {},
   "source": [
    "A skew distribution ..."
   ]
  },
  {
   "cell_type": "markdown",
   "id": "884a0860",
   "metadata": {},
   "source": [
    "#### What are the most visible tweet"
   ]
  },
  {
   "cell_type": "code",
   "execution_count": 31,
   "id": "08a6d11a",
   "metadata": {},
   "outputs": [
    {
     "data": {
      "text/html": [
       "<div>\n",
       "<style scoped>\n",
       "    .dataframe tbody tr th:only-of-type {\n",
       "        vertical-align: middle;\n",
       "    }\n",
       "\n",
       "    .dataframe tbody tr th {\n",
       "        vertical-align: top;\n",
       "    }\n",
       "\n",
       "    .dataframe thead th {\n",
       "        text-align: right;\n",
       "    }\n",
       "</style>\n",
       "<table border=\"1\" class=\"dataframe\">\n",
       "  <thead>\n",
       "    <tr style=\"text-align: right;\">\n",
       "      <th></th>\n",
       "      <th>id</th>\n",
       "      <th>public_metrics.retweet_count</th>\n",
       "    </tr>\n",
       "  </thead>\n",
       "  <tbody>\n",
       "    <tr>\n",
       "      <th>99905</th>\n",
       "      <td>1268212139568828417</td>\n",
       "      <td>3666</td>\n",
       "    </tr>\n",
       "    <tr>\n",
       "      <th>102957</th>\n",
       "      <td>1268127762914643969</td>\n",
       "      <td>3666</td>\n",
       "    </tr>\n",
       "    <tr>\n",
       "      <th>102902</th>\n",
       "      <td>1268128876573741056</td>\n",
       "      <td>3666</td>\n",
       "    </tr>\n",
       "    <tr>\n",
       "      <th>102900</th>\n",
       "      <td>1268128941321134080</td>\n",
       "      <td>3666</td>\n",
       "    </tr>\n",
       "    <tr>\n",
       "      <th>102899</th>\n",
       "      <td>1268128946656358400</td>\n",
       "      <td>3666</td>\n",
       "    </tr>\n",
       "    <tr>\n",
       "      <th>...</th>\n",
       "      <td>...</td>\n",
       "      <td>...</td>\n",
       "    </tr>\n",
       "    <tr>\n",
       "      <th>83776</th>\n",
       "      <td>1268919682662313985</td>\n",
       "      <td>0</td>\n",
       "    </tr>\n",
       "    <tr>\n",
       "      <th>121230</th>\n",
       "      <td>1266727103996866568</td>\n",
       "      <td>0</td>\n",
       "    </tr>\n",
       "    <tr>\n",
       "      <th>128659</th>\n",
       "      <td>1266453350087884800</td>\n",
       "      <td>0</td>\n",
       "    </tr>\n",
       "    <tr>\n",
       "      <th>83782</th>\n",
       "      <td>1268919341598289920</td>\n",
       "      <td>0</td>\n",
       "    </tr>\n",
       "    <tr>\n",
       "      <th>135779</th>\n",
       "      <td>1264510784350158848</td>\n",
       "      <td>0</td>\n",
       "    </tr>\n",
       "  </tbody>\n",
       "</table>\n",
       "<p>107930 rows × 2 columns</p>\n",
       "</div>"
      ],
      "text/plain": [
       "                         id  public_metrics.retweet_count\n",
       "99905   1268212139568828417                          3666\n",
       "102957  1268127762914643969                          3666\n",
       "102902  1268128876573741056                          3666\n",
       "102900  1268128941321134080                          3666\n",
       "102899  1268128946656358400                          3666\n",
       "...                     ...                           ...\n",
       "83776   1268919682662313985                             0\n",
       "121230  1266727103996866568                             0\n",
       "128659  1266453350087884800                             0\n",
       "83782   1268919341598289920                             0\n",
       "135779  1264510784350158848                             0\n",
       "\n",
       "[107930 rows x 2 columns]"
      ]
     },
     "execution_count": 31,
     "metadata": {},
     "output_type": "execute_result"
    }
   ],
   "source": [
    "data[[\"id\",'public_metrics.retweet_count']].sort_values('public_metrics.retweet_count',\n",
    "                                                        ascending=False)"
   ]
  },
  {
   "cell_type": "code",
   "execution_count": 32,
   "id": "f7372efc",
   "metadata": {},
   "outputs": [
    {
     "data": {
      "text/html": [
       "<blockquote class=\"twitter-tweet\"><p lang=\"fr\" dir=\"ltr\">&quot;Expression of concern&quot; du Lancet : le journal reconnaît des inquiétudes majeures concernant l&#39;existence des données publiées par MM. Mehra et Depai. Même démarche du côté du New England Journal of Medicine. <br>Le château de cartes s&#39;effondre.<a href=\"https://twitter.com/hashtag/LancetGate?src=hash&amp;ref_src=twsrc%5Etfw\">#LancetGate</a> <a href=\"https://twitter.com/hashtag/PiedsNickel%C3%A9s?src=hash&amp;ref_src=twsrc%5Etfw\">#PiedsNickelés</a> <a href=\"https://t.co/vk0sD90M9m\">pic.twitter.com/vk0sD90M9m</a></p>&mdash; Didier Raoult (@raoult_didier) <a href=\"https://twitter.com/raoult_didier/status/1268115704311689218?ref_src=twsrc%5Etfw\">June 3, 2020</a></blockquote>\n",
       "<script async src=\"https://platform.twitter.com/widgets.js\" charset=\"utf-8\"></script>\n"
      ],
      "text/plain": [
       "<__main__.Tweet at 0x7fb251414d00>"
      ]
     },
     "execution_count": 32,
     "metadata": {},
     "output_type": "execute_result"
    }
   ],
   "source": [
    "Tweet(1268115704311689218)"
   ]
  },
  {
   "cell_type": "markdown",
   "id": "c01b20fc",
   "metadata": {},
   "source": [
    "### Extract hashtags\n",
    "\n",
    "Add a new column in the dataframe with the list of hashtags for each tweet\n",
    "\n",
    "(in this case, the metadata are not very friendly)"
   ]
  },
  {
   "cell_type": "code",
   "execution_count": 37,
   "id": "5e24a380",
   "metadata": {},
   "outputs": [],
   "source": [
    "import re # standard module for regular expression\n",
    "\n",
    "def extract_hashtags(text):\n",
    "    \"\"\"\n",
    "    function to extract hashtags in a text\n",
    "    \"\"\"\n",
    "    return re.findall(\"(#\\w+)\", text.lower())"
   ]
  },
  {
   "cell_type": "code",
   "execution_count": 38,
   "id": "c2f1e965",
   "metadata": {},
   "outputs": [
    {
     "data": {
      "text/plain": [
       "['#hashtag']"
      ]
     },
     "execution_count": 38,
     "metadata": {},
     "output_type": "execute_result"
    }
   ],
   "source": [
    "extract_hashtags(\"it is a sentence with an #hashtag\")"
   ]
  },
  {
   "cell_type": "code",
   "execution_count": 39,
   "id": "73ccdaf2",
   "metadata": {},
   "outputs": [],
   "source": [
    "data[\"hashtags\"] = data['text'].str.lower().apply(extract_hashtags)"
   ]
  },
  {
   "cell_type": "code",
   "execution_count": 40,
   "id": "fbb13f28",
   "metadata": {},
   "outputs": [
    {
     "data": {
      "text/plain": [
       "0                                             [#lancetgate]\n",
       "5                                                        []\n",
       "6                                             [#lancetgate]\n",
       "7                                      [#fact, #lancetgate]\n",
       "8                                                        []\n",
       "                                ...                        \n",
       "135775    [#hydroxychloroquine, #lancetgate, #didier_rao...\n",
       "135776    [#hydroxychloroquine, #lancetgate, #didier_rao...\n",
       "135777    [#hydroxychloroquine, #lancetgate, #didier_rao...\n",
       "135778    [#ggrmc, #covidー19, #lancet, #raoult, #lancetg...\n",
       "135779    [#bigpharma, #chloroquine, #remdesevir, #lance...\n",
       "Name: hashtags, Length: 107930, dtype: object"
      ]
     },
     "execution_count": 40,
     "metadata": {},
     "output_type": "execute_result"
    }
   ],
   "source": [
    "data[\"hashtags\"]"
   ]
  },
  {
   "cell_type": "markdown",
   "id": "34087a2a",
   "metadata": {},
   "source": [
    "## Step 3 : Creating networks\n",
    "\n",
    "The idea is to create networks to be analyzed in an other software"
   ]
  },
  {
   "cell_type": "code",
   "execution_count": 41,
   "id": "6518e103",
   "metadata": {},
   "outputs": [],
   "source": [
    "from itertools import combinations # create combinations of a set\n",
    "\n",
    "#pip install network\n",
    "import networkx as nx # library for network analysis in python"
   ]
  },
  {
   "cell_type": "markdown",
   "id": "0b46227e",
   "metadata": {},
   "source": [
    "### Non directed retweet\n",
    "\n",
    "I want to create a network with the properties :\n",
    "\n",
    "- A node is created if a user tweet or retweet. If the user exist, I want to increase by one a parameter weight\n",
    "- A link is created if a user retweet another one\n",
    "\n",
    "To create the network\n",
    "\n",
    "1. Create a graph empty\n",
    "2. I make a loop on all the tweets\n",
    "3. For each tweet, in create node/edge"
   ]
  },
  {
   "cell_type": "code",
   "execution_count": 43,
   "id": "31cdfa0a",
   "metadata": {},
   "outputs": [],
   "source": [
    "network = nx.Graph()"
   ]
  },
  {
   "cell_type": "code",
   "execution_count": 52,
   "id": "45b68e64",
   "metadata": {},
   "outputs": [],
   "source": [
    "# create an empty network\n",
    "network_retweets = nx.Graph()\n",
    "\n",
    "# A loop for each tweet of my dataset\n",
    "for i, line in data.iterrows():\n",
    "    \n",
    "    # name of the user of the tweet\n",
    "    user = str(line[\"author.username\"])\n",
    "    \n",
    "    # is the user already in my network\n",
    "    if not user in network_retweets.nodes:\n",
    "        # if not, we add it with a weight of 1\n",
    "        network_retweets.add_node(user, label=user, weight=1)\n",
    "    else:\n",
    "        # if yes, i only increase its weight\n",
    "        network_retweets.nodes[user][\"weight\"] += 1    \n",
    "\n",
    "    # if the tweet is a retweet\n",
    "    if pd.notnull(line[\"retweeted_username\"]):\n",
    "\n",
    "        # the name of the user retweeted\n",
    "        reweet_user = str(line[\"retweeted_username\"])\n",
    "        \n",
    "        # if the retweeted user is not in the network\n",
    "        if not reweet_user in network_retweets.nodes:\n",
    "            # create a node\n",
    "            network_retweets.add_node(reweet_user, label=reweet_user, weight=1)\n",
    "        else:\n",
    "            # increase the node\n",
    "            network_retweets.nodes[reweet_user][\"weight\"] += 1  \n",
    "\n",
    "        # if there is a retweet\n",
    "        if pd.notnull(reweet_user):\n",
    "            \n",
    "            # if the edge between retweeted user and retweeting user not exist\n",
    "            if not network_retweets.has_edge(user, reweet_user):\n",
    "                # creating the edge\n",
    "                network_retweets.add_edge(user, reweet_user, weight=1)\n",
    "            else:\n",
    "                # increasing its weight\n",
    "                network_retweets[user][reweet_user][\"weight\"] += 1 "
   ]
  },
  {
   "cell_type": "code",
   "execution_count": 53,
   "id": "de847d89",
   "metadata": {},
   "outputs": [
    {
     "data": {
      "text/plain": [
       "71560"
      ]
     },
     "execution_count": 53,
     "metadata": {},
     "output_type": "execute_result"
    }
   ],
   "source": [
    "len(network_retweets.edges)"
   ]
  },
  {
   "cell_type": "code",
   "execution_count": 54,
   "id": "1078568b",
   "metadata": {},
   "outputs": [
    {
     "data": {
      "text/plain": [
       "29186"
      ]
     },
     "execution_count": 54,
     "metadata": {},
     "output_type": "execute_result"
    }
   ],
   "source": [
    "len(network_retweets.nodes)"
   ]
  },
  {
   "cell_type": "markdown",
   "id": "c28e3403",
   "metadata": {},
   "source": [
    "Export it as a file we can open on Gephi"
   ]
  },
  {
   "cell_type": "code",
   "execution_count": 55,
   "id": "e569e4cd",
   "metadata": {},
   "outputs": [],
   "source": [
    "nx.write_graphml(network_retweets,\"./graph_retweets_lancetgate.graphml\")"
   ]
  },
  {
   "cell_type": "markdown",
   "id": "c4ef6dc2",
   "metadata": {},
   "source": [
    "### hashtags\n",
    "\n",
    "- 1-mode network\n",
    "- 2 hashtags connected if mentionned in the same tweet"
   ]
  },
  {
   "cell_type": "code",
   "execution_count": 56,
   "id": "7a3baa34",
   "metadata": {},
   "outputs": [],
   "source": [
    "# empty network\n",
    "network_hashtags = nx.Graph()\n",
    "\n",
    "# every tweets\n",
    "for i, line in data.iterrows():\n",
    "    \n",
    "    # adding the nodes\n",
    "    for e in line[\"hashtags\"]:\n",
    "        if not e in network_hashtags.nodes:\n",
    "            network_hashtags.add_node(e, label=e, weight=1)\n",
    "        else:\n",
    "            network_hashtags.nodes[e][\"weight\"] += 1\n",
    "    \n",
    "    # adding the edges (all combinations)\n",
    "    for i, j in combinations(line[\"hashtags\"], 2): \n",
    "        if not network_hashtags.has_edge(i, j):\n",
    "            network_hashtags.add_edge(i, j, weight=1)\n",
    "        else:\n",
    "            network_hashtags[i][j][\"weight\"] += 1"
   ]
  },
  {
   "cell_type": "code",
   "execution_count": 57,
   "id": "d6b88649",
   "metadata": {},
   "outputs": [
    {
     "name": "stdout",
     "output_type": "stream",
     "text": [
      "2213\n"
     ]
    }
   ],
   "source": [
    "print(len(network_hashtags))"
   ]
  },
  {
   "cell_type": "code",
   "execution_count": 58,
   "id": "3d7eab2f",
   "metadata": {},
   "outputs": [
    {
     "data": {
      "text/plain": [
       "13786"
      ]
     },
     "execution_count": 58,
     "metadata": {},
     "output_type": "execute_result"
    }
   ],
   "source": [
    "len(network_hashtags.edges)"
   ]
  },
  {
   "cell_type": "code",
   "execution_count": 59,
   "id": "dc15e7d4",
   "metadata": {},
   "outputs": [],
   "source": [
    "nx.write_graphml(network_hashtags,\"./graph_hashtags_lancetgate.graphml\")"
   ]
  },
  {
   "cell_type": "markdown",
   "id": "e5c1fedb",
   "metadata": {},
   "source": [
    "## Step 4 : First visualisation"
   ]
  },
  {
   "cell_type": "markdown",
   "id": "e24e57f5",
   "metadata": {},
   "source": [
    "We can try do to dit directly in Python with dedicated tools"
   ]
  },
  {
   "cell_type": "code",
   "execution_count": 60,
   "id": "349725e7",
   "metadata": {},
   "outputs": [],
   "source": [
    "from ipysigma import Sigma"
   ]
  },
  {
   "cell_type": "code",
   "execution_count": 61,
   "id": "e0150b21",
   "metadata": {},
   "outputs": [
    {
     "data": {
      "application/vnd.jupyter.widget-view+json": {
       "model_id": "2b41c193a5e9410386b89a948af883e8",
       "version_major": 2,
       "version_minor": 0
      },
      "text/plain": [
       "Sigma(nx.Graph with 29,186 nodes and 71,560 edges)"
      ]
     },
     "metadata": {},
     "output_type": "display_data"
    }
   ],
   "source": [
    "Sigma(network_retweets, node_size=\"weight\")"
   ]
  },
  {
   "cell_type": "code",
   "execution_count": 62,
   "id": "da627b65",
   "metadata": {},
   "outputs": [
    {
     "data": {
      "application/vnd.jupyter.widget-view+json": {
       "model_id": "0472037382eb489b90578efdfd3cefbd",
       "version_major": 2,
       "version_minor": 0
      },
      "text/plain": [
       "Sigma(nx.Graph with 2,213 nodes and 13,786 edges)"
      ]
     },
     "metadata": {},
     "output_type": "display_data"
    }
   ],
   "source": [
    "Sigma(network_hashtags, node_size=\"weight\")"
   ]
  },
  {
   "cell_type": "markdown",
   "id": "06e9e906",
   "metadata": {},
   "source": [
    "Its huge networks, and the visualisation is not the best. We would like to simply them.\n",
    "\n",
    "- remove the central node\n",
    "- clustering"
   ]
  },
  {
   "cell_type": "markdown",
   "id": "5a0a2871",
   "metadata": {},
   "source": [
    "Or we can move to a dedicated software : Gephi"
   ]
  },
  {
   "cell_type": "code",
   "execution_count": 134,
   "id": "5794ed5c",
   "metadata": {},
   "outputs": [],
   "source": [
    "nx.write_graphml(network_retweets,\"network_retweets.graphml\")"
   ]
  },
  {
   "cell_type": "markdown",
   "id": "162f570e",
   "metadata": {},
   "source": [
    "## Step 5 : Statistics on the network"
   ]
  },
  {
   "cell_type": "code",
   "execution_count": 63,
   "id": "b3aacef7",
   "metadata": {},
   "outputs": [
    {
     "data": {
      "text/plain": [
       "<networkx.classes.graph.Graph at 0x7fb2360b4d90>"
      ]
     },
     "execution_count": 63,
     "metadata": {},
     "output_type": "execute_result"
    }
   ],
   "source": [
    "network_retweets"
   ]
  },
  {
   "cell_type": "code",
   "execution_count": 64,
   "id": "842af0a4",
   "metadata": {},
   "outputs": [],
   "source": [
    "degrees = network_retweets.degree"
   ]
  },
  {
   "cell_type": "code",
   "execution_count": 65,
   "id": "cf13b9b0",
   "metadata": {},
   "outputs": [
    {
     "data": {
      "text/plain": [
       "<AxesSubplot:ylabel='Frequency'>"
      ]
     },
     "execution_count": 65,
     "metadata": {},
     "output_type": "execute_result"
    },
    {
     "data": {
      "image/png": "[encoded data removed]",
      "text/plain": [
       "<Figure size 432x288 with 1 Axes>"
      ]
     },
     "metadata": {
      "needs_background": "light"
     },
     "output_type": "display_data"
    }
   ],
   "source": [
    "pd.DataFrame(list(degrees))[1].plot(kind=\"hist\",bins=100)"
   ]
  },
  {
   "cell_type": "code",
   "execution_count": 66,
   "id": "87d46171",
   "metadata": {},
   "outputs": [
    {
     "data": {
      "text/plain": [
       "2234"
      ]
     },
     "execution_count": 66,
     "metadata": {},
     "output_type": "execute_result"
    }
   ],
   "source": [
    "nx.number_connected_components(network_retweets)"
   ]
  },
  {
   "cell_type": "markdown",
   "id": "2d67252b",
   "metadata": {},
   "source": [
    "Principal component"
   ]
  },
  {
   "cell_type": "code",
   "execution_count": 52,
   "id": "ce9a29c1",
   "metadata": {},
   "outputs": [
    {
     "data": {
      "text/plain": [
       "26743"
      ]
     },
     "execution_count": 52,
     "metadata": {},
     "output_type": "execute_result"
    }
   ],
   "source": [
    "largest_cc = max(nx.connected_components(network_retweets), key=len)\n",
    "len(largest_cc)"
   ]
  },
  {
   "cell_type": "markdown",
   "id": "64e7560e",
   "metadata": {},
   "source": [
    "Extract the component"
   ]
  },
  {
   "cell_type": "code",
   "execution_count": 53,
   "id": "f8adfeed",
   "metadata": {},
   "outputs": [],
   "source": [
    "largest_cc_network = nx.subgraph(network_retweets,largest_cc)"
   ]
  },
  {
   "cell_type": "markdown",
   "id": "b68fb0bc",
   "metadata": {},
   "source": [
    "Write it for analysis with gephi"
   ]
  },
  {
   "cell_type": "code",
   "execution_count": 54,
   "id": "4555f167",
   "metadata": {},
   "outputs": [],
   "source": [
    "nx.write_graphml(largest_cc_network,\"./graph_component_retweets_lancetgate.graphml\")"
   ]
  },
  {
   "cell_type": "markdown",
   "id": "1095d5c7",
   "metadata": {},
   "source": [
    "Calculate the density"
   ]
  },
  {
   "cell_type": "code",
   "execution_count": 68,
   "id": "79692832",
   "metadata": {},
   "outputs": [
    {
     "data": {
      "text/plain": [
       "0.0001680219620388939"
      ]
     },
     "execution_count": 68,
     "metadata": {},
     "output_type": "execute_result"
    }
   ],
   "source": [
    "nx.density(network_retweets)"
   ]
  },
  {
   "cell_type": "markdown",
   "id": "9818c8a7",
   "metadata": {},
   "source": [
    "Calculate the closeness centrality (could take some time)"
   ]
  },
  {
   "cell_type": "code",
   "execution_count": 54,
   "id": "776bc86c",
   "metadata": {},
   "outputs": [
    {
     "data": {
      "text/plain": [
       "0.40169809710726173"
      ]
     },
     "execution_count": 54,
     "metadata": {},
     "output_type": "execute_result"
    }
   ],
   "source": [
    "nx.closeness_centrality(largest_cc_network,u=\"raoult_didier\")"
   ]
  },
  {
   "cell_type": "markdown",
   "id": "5970537a",
   "metadata": {},
   "source": [
    "Find the maximal clique"
   ]
  },
  {
   "cell_type": "code",
   "execution_count": 55,
   "id": "0d1b843c",
   "metadata": {},
   "outputs": [],
   "source": [
    "r = nx.find_cliques(largest_cc_network)"
   ]
  },
  {
   "cell_type": "code",
   "execution_count": 58,
   "id": "bc360568",
   "metadata": {},
   "outputs": [],
   "source": [
    "r = [i for i in r]"
   ]
  },
  {
   "cell_type": "code",
   "execution_count": 61,
   "id": "ebb3bd89",
   "metadata": {},
   "outputs": [
    {
     "data": {
      "text/plain": [
       "['PatracqSerge', 'andrebercoff']"
      ]
     },
     "execution_count": 61,
     "metadata": {},
     "output_type": "execute_result"
    }
   ],
   "source": [
    "r[1]"
   ]
  },
  {
   "cell_type": "markdown",
   "id": "ef913f33",
   "metadata": {},
   "source": [
    "## Step 6 : Add attributes / transform network\n",
    "\n",
    "One the exploration is done, we have more specific question, and we will go back to data ...\n",
    "\n",
    "- Transforming the network : for instance, filter, subsample, etc.\n",
    "- Adding information : categories, polarities (sentiment analysis)"
   ]
  },
  {
   "cell_type": "markdown",
   "id": "69f877c3",
   "metadata": {},
   "source": [
    "#### Focus on the core\n",
    "\n",
    "We will extract only the 3-core of the main component"
   ]
  },
  {
   "cell_type": "code",
   "execution_count": 57,
   "id": "aec381e2",
   "metadata": {},
   "outputs": [],
   "source": [
    "filtered_largest_cc_network = largest_cc_network.copy()"
   ]
  },
  {
   "cell_type": "code",
   "execution_count": 58,
   "id": "e371398b",
   "metadata": {},
   "outputs": [],
   "source": [
    "#remove self-loops\n",
    "filtered_largest_cc_network.remove_edges_from(nx.selfloop_edges(filtered_largest_cc_network))\n",
    "\n",
    "r = nx.k_core(filtered_largest_cc_network,k=3)"
   ]
  },
  {
   "cell_type": "code",
   "execution_count": 60,
   "id": "864ff14a",
   "metadata": {},
   "outputs": [
    {
     "data": {
      "text/plain": [
       "(7323, 26743)"
      ]
     },
     "execution_count": 60,
     "metadata": {},
     "output_type": "execute_result"
    }
   ],
   "source": [
    "len(r.nodes),len(filtered_largest_cc_network.nodes)"
   ]
  },
  {
   "cell_type": "code",
   "execution_count": 62,
   "id": "8b6bb9de",
   "metadata": {},
   "outputs": [],
   "source": [
    "nx.write_graphml(r,\"./graph_3core_component1_retweets_lancetgate.graphml\")"
   ]
  },
  {
   "cell_type": "markdown",
   "id": "c32ce402",
   "metadata": {},
   "source": [
    "#### Clustering"
   ]
  },
  {
   "cell_type": "code",
   "execution_count": 136,
   "id": "a46f6462",
   "metadata": {},
   "outputs": [],
   "source": [
    "import networkx.algorithms.community as nx_comm \n",
    "\n",
    "clusters = nx_comm.louvain_communities(network_hashtags, seed=123, weight=\"weight\")"
   ]
  },
  {
   "cell_type": "code",
   "execution_count": 145,
   "id": "01d26908",
   "metadata": {},
   "outputs": [
    {
     "data": {
      "text/plain": [
       "1       78\n",
       "2        5\n",
       "3        4\n",
       "4        4\n",
       "10       3\n",
       "7        3\n",
       "11       3\n",
       "12       2\n",
       "8        2\n",
       "5        2\n",
       "51       1\n",
       "139      1\n",
       "80       1\n",
       "1808     1\n",
       "27       1\n",
       "9        1\n",
       "15       1\n",
       "238      1\n",
       "223      1\n",
       "32       1\n",
       "22       1\n",
       "6        1\n",
       "228      1\n",
       "26       1\n",
       "127      1\n",
       "95       1\n",
       "24       1\n",
       "47       1\n",
       "dtype: int64"
      ]
     },
     "execution_count": 145,
     "metadata": {},
     "output_type": "execute_result"
    }
   ],
   "source": [
    "pd.Series([len(i) for i in clusters]).value_counts()"
   ]
  },
  {
   "cell_type": "markdown",
   "id": "50159900",
   "metadata": {},
   "source": [
    "Adding it to the network ? lets add a new class in each node, and the number of the class but only if there is at least 50 elements in it"
   ]
  },
  {
   "cell_type": "markdown",
   "id": "f00bc0e2",
   "metadata": {},
   "source": [
    "## Go further\n",
    "\n",
    "\n",
    "- directed networks of retweet ?\n",
    "- links ?\n",
    "- all words ?\n",
    "- proximity with the bio of users ?\n",
    "- can we get an information about the evolution of the network ? How ?\n",
    "- **build the bimodal network tweets/user to better understand what are the most viral tweets**"
   ]
  }
 ],
 "metadata": {
  "kernelspec": {
   "display_name": "Python 3 (ipykernel)",
   "language": "python",
   "name": "python3"
  },
  "language_info": {
   "codemirror_mode": {
    "name": "ipython",
    "version": 3
   },
   "file_extension": ".py",
   "mimetype": "text/x-python",
   "name": "python",
   "nbconvert_exporter": "python",
   "pygments_lexer": "ipython3",
   "version": "3.9.12"
  }
 },
 "nbformat": 4,
 "nbformat_minor": 5
}
